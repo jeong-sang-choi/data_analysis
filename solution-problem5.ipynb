{
 "cells": [
  {
   "cell_type": "code",
   "execution_count": 1,
   "id": "7558feb6",
   "metadata": {
    "_cell_guid": "b1076dfc-b9ad-4769-8c92-a6c4dae69d19",
    "_uuid": "8f2839f25d086af736a60e9eeb907d3b93b6e0e5",
    "execution": {
     "iopub.execute_input": "2022-03-20T10:45:29.127798Z",
     "iopub.status.busy": "2022-03-20T10:45:29.126906Z",
     "iopub.status.idle": "2022-03-20T10:45:29.142373Z",
     "shell.execute_reply": "2022-03-20T10:45:29.142906Z",
     "shell.execute_reply.started": "2022-03-20T10:44:41.320346Z"
    },
    "papermill": {
     "duration": 0.043981,
     "end_time": "2022-03-20T10:45:29.143142",
     "exception": false,
     "start_time": "2022-03-20T10:45:29.099161",
     "status": "completed"
    },
    "tags": []
   },
   "outputs": [
    {
     "name": "stdout",
     "output_type": "stream",
     "text": [
      "/kaggle/input/adpkrp5/error.csv\n",
      "/kaggle/input/adpkrp5/data1.csv\n",
      "/kaggle/input/adpkrp5/content.csv\n"
     ]
    }
   ],
   "source": [
    "# This Python 3 environment comes with many helpful analytics libraries installed\n",
    "# It is defined by the kaggle/python Docker image: https://github.com/kaggle/docker-python\n",
    "# For example, here's several helpful packages to load\n",
    "\n",
    "import numpy as np # linear algebra\n",
    "import pandas as pd # data processing, CSV file I/O (e.g. pd.read_csv)\n",
    "\n",
    "# Input data files are available in the read-only \"../input/\" directory\n",
    "# For example, running this (by clicking run or pressing Shift+Enter) will list all files under the input directory\n",
    "\n",
    "import os\n",
    "for dirname, _, filenames in os.walk('/kaggle/input'):\n",
    "    for filename in filenames:\n",
    "        print(os.path.join(dirname, filename))\n",
    "\n",
    "# You can write up to 20GB to the current directory (/kaggle/working/) that gets preserved as output when you create a version using \"Save & Run All\" \n",
    "# You can also write temporary files to /kaggle/temp/, but they won't be saved outside of the current session"
   ]
  },
  {
   "cell_type": "markdown",
   "id": "cc1487f3",
   "metadata": {
    "papermill": {
     "duration": 0.024701,
     "end_time": "2022-03-20T10:45:29.193367",
     "exception": false,
     "start_time": "2022-03-20T10:45:29.168666",
     "status": "completed"
    },
    "tags": []
   },
   "source": [
    "# 문제 1"
   ]
  },
  {
   "cell_type": "markdown",
   "id": "b8edc5cd",
   "metadata": {
    "papermill": {
     "duration": 0.02414,
     "end_time": "2022-03-20T10:45:29.243362",
     "exception": false,
     "start_time": "2022-03-20T10:45:29.219222",
     "status": "completed"
    },
    "tags": []
   },
   "source": []
  },
  {
   "cell_type": "markdown",
   "id": "8506be04",
   "metadata": {
    "papermill": {
     "duration": 0.023568,
     "end_time": "2022-03-20T10:45:29.291707",
     "exception": false,
     "start_time": "2022-03-20T10:45:29.268139",
     "status": "completed"
    },
    "tags": []
   },
   "source": [
    "#### dataset : pima-indians-diabetes-database [kaggle link](pima-indians-diabetes-database) - added post-processing\n",
    "/kaggle/input/adpkrp5/data1.csv"
   ]
  },
  {
   "cell_type": "markdown",
   "id": "941c6ad9",
   "metadata": {
    "execution": {
     "iopub.execute_input": "2022-03-02T16:01:52.763794Z",
     "iopub.status.busy": "2022-03-02T16:01:52.76349Z",
     "iopub.status.idle": "2022-03-02T16:01:52.768363Z",
     "shell.execute_reply": "2022-03-02T16:01:52.767292Z",
     "shell.execute_reply.started": "2022-03-02T16:01:52.763766Z"
    },
    "papermill": {
     "duration": 0.023558,
     "end_time": "2022-03-20T10:45:29.339077",
     "exception": false,
     "start_time": "2022-03-20T10:45:29.315519",
     "status": "completed"
    },
    "tags": []
   },
   "source": [
    "### 1-1 탐색적 데이터 분석 수행(시각화 포함)"
   ]
  },
  {
   "cell_type": "code",
   "execution_count": 2,
   "id": "e1f679d8",
   "metadata": {
    "execution": {
     "iopub.execute_input": "2022-03-20T10:45:29.390465Z",
     "iopub.status.busy": "2022-03-20T10:45:29.389767Z",
     "iopub.status.idle": "2022-03-20T10:45:30.415979Z",
     "shell.execute_reply": "2022-03-20T10:45:30.416402Z",
     "shell.execute_reply.started": "2022-03-20T10:44:41.358332Z"
    },
    "papermill": {
     "duration": 1.053222,
     "end_time": "2022-03-20T10:45:30.416550",
     "exception": false,
     "start_time": "2022-03-20T10:45:29.363328",
     "status": "completed"
    },
    "tags": []
   },
   "outputs": [
    {
     "data": {
      "text/html": [
       "<div>\n",
       "<style scoped>\n",
       "    .dataframe tbody tr th:only-of-type {\n",
       "        vertical-align: middle;\n",
       "    }\n",
       "\n",
       "    .dataframe tbody tr th {\n",
       "        vertical-align: top;\n",
       "    }\n",
       "\n",
       "    .dataframe thead th {\n",
       "        text-align: right;\n",
       "    }\n",
       "</style>\n",
       "<table border=\"1\" class=\"dataframe\">\n",
       "  <thead>\n",
       "    <tr style=\"text-align: right;\">\n",
       "      <th></th>\n",
       "      <th>Pregnancies</th>\n",
       "      <th>Glucose</th>\n",
       "      <th>BloodPressure</th>\n",
       "      <th>SkinThickness</th>\n",
       "      <th>Insulin</th>\n",
       "      <th>BMI</th>\n",
       "      <th>DiabetesPedigreeFunction</th>\n",
       "      <th>Age</th>\n",
       "      <th>Outcome</th>\n",
       "    </tr>\n",
       "  </thead>\n",
       "  <tbody>\n",
       "    <tr>\n",
       "      <th>0</th>\n",
       "      <td>6</td>\n",
       "      <td>148</td>\n",
       "      <td>72</td>\n",
       "      <td>35</td>\n",
       "      <td>0</td>\n",
       "      <td>33.6</td>\n",
       "      <td>0.627</td>\n",
       "      <td>50</td>\n",
       "      <td>1</td>\n",
       "    </tr>\n",
       "    <tr>\n",
       "      <th>1</th>\n",
       "      <td>1</td>\n",
       "      <td>85</td>\n",
       "      <td>66</td>\n",
       "      <td>29</td>\n",
       "      <td>0</td>\n",
       "      <td>26.6</td>\n",
       "      <td>0.351</td>\n",
       "      <td>31</td>\n",
       "      <td>0</td>\n",
       "    </tr>\n",
       "    <tr>\n",
       "      <th>2</th>\n",
       "      <td>8</td>\n",
       "      <td>183</td>\n",
       "      <td>64</td>\n",
       "      <td>0</td>\n",
       "      <td>0</td>\n",
       "      <td>23.3</td>\n",
       "      <td>0.672</td>\n",
       "      <td>32</td>\n",
       "      <td>1</td>\n",
       "    </tr>\n",
       "    <tr>\n",
       "      <th>3</th>\n",
       "      <td>1</td>\n",
       "      <td>89</td>\n",
       "      <td>66</td>\n",
       "      <td>23</td>\n",
       "      <td>94</td>\n",
       "      <td>28.1</td>\n",
       "      <td>0.167</td>\n",
       "      <td>21</td>\n",
       "      <td>0</td>\n",
       "    </tr>\n",
       "    <tr>\n",
       "      <th>4</th>\n",
       "      <td>0</td>\n",
       "      <td>137</td>\n",
       "      <td>40</td>\n",
       "      <td>35</td>\n",
       "      <td>168</td>\n",
       "      <td>43.1</td>\n",
       "      <td>2.288</td>\n",
       "      <td>33</td>\n",
       "      <td>1</td>\n",
       "    </tr>\n",
       "  </tbody>\n",
       "</table>\n",
       "</div>"
      ],
      "text/plain": [
       "   Pregnancies  Glucose  BloodPressure  SkinThickness  Insulin   BMI  \\\n",
       "0            6      148             72             35        0  33.6   \n",
       "1            1       85             66             29        0  26.6   \n",
       "2            8      183             64              0        0  23.3   \n",
       "3            1       89             66             23       94  28.1   \n",
       "4            0      137             40             35      168  43.1   \n",
       "\n",
       "   DiabetesPedigreeFunction  Age  Outcome  \n",
       "0                     0.627   50        1  \n",
       "1                     0.351   31        0  \n",
       "2                     0.672   32        1  \n",
       "3                     0.167   21        0  \n",
       "4                     2.288   33        1  "
      ]
     },
     "metadata": {},
     "output_type": "display_data"
    },
    {
     "name": "stdout",
     "output_type": "stream",
     "text": [
      "<class 'pandas.core.frame.DataFrame'>\n",
      "RangeIndex: 768 entries, 0 to 767\n",
      "Data columns (total 9 columns):\n",
      " #   Column                    Non-Null Count  Dtype  \n",
      "---  ------                    --------------  -----  \n",
      " 0   Pregnancies               768 non-null    int64  \n",
      " 1   Glucose                   768 non-null    int64  \n",
      " 2   BloodPressure             768 non-null    int64  \n",
      " 3   SkinThickness             768 non-null    int64  \n",
      " 4   Insulin                   768 non-null    int64  \n",
      " 5   BMI                       768 non-null    float64\n",
      " 6   DiabetesPedigreeFunction  768 non-null    float64\n",
      " 7   Age                       768 non-null    int64  \n",
      " 8   Outcome                   768 non-null    int64  \n",
      "dtypes: float64(2), int64(7)\n",
      "memory usage: 54.1 KB\n"
     ]
    },
    {
     "data": {
      "text/plain": [
       "Pregnancies                    AxesSubplot(0.125,0.657941;0.227941x0.222059)\n",
       "Glucose                     AxesSubplot(0.398529,0.657941;0.227941x0.222059)\n",
       "BloodPressure               AxesSubplot(0.672059,0.657941;0.227941x0.222059)\n",
       "SkinThickness                  AxesSubplot(0.125,0.391471;0.227941x0.222059)\n",
       "Insulin                     AxesSubplot(0.398529,0.391471;0.227941x0.222059)\n",
       "BMI                         AxesSubplot(0.672059,0.391471;0.227941x0.222059)\n",
       "DiabetesPedigreeFunction          AxesSubplot(0.125,0.125;0.227941x0.222059)\n",
       "Age                            AxesSubplot(0.398529,0.125;0.227941x0.222059)\n",
       "Outcome                        AxesSubplot(0.672059,0.125;0.227941x0.222059)\n",
       "dtype: object"
      ]
     },
     "execution_count": 2,
     "metadata": {},
     "output_type": "execute_result"
    },
    {
     "data": {
      "image/png": "[encoded data removed]",
      "text/plain": [
       "<Figure size 720x720 with 9 Axes>"
      ]
     },
     "metadata": {
      "needs_background": "light"
     },
     "output_type": "display_data"
    }
   ],
   "source": [
    "df = pd.read_csv('/kaggle/input/adpkrp5/data1.csv')\n",
    "display(df.head())\n",
    "df.info()\n",
    "df.describe()\n",
    "df.plot(kind='box',subplots=True,layout = (3,3),figsize=(10,10))"
   ]
  },
  {
   "cell_type": "markdown",
   "id": "647e4ec0",
   "metadata": {
    "papermill": {
     "duration": 0.026962,
     "end_time": "2022-03-20T10:45:30.472676",
     "exception": false,
     "start_time": "2022-03-20T10:45:30.445714",
     "status": "completed"
    },
    "tags": []
   },
   "source": [
    "### 1-2 이상치 처리(이상값 대체방안 제시)"
   ]
  },
  {
   "cell_type": "code",
   "execution_count": 3,
   "id": "30c4e4e4",
   "metadata": {
    "execution": {
     "iopub.execute_input": "2022-03-20T10:45:30.531604Z",
     "iopub.status.busy": "2022-03-20T10:45:30.530839Z",
     "iopub.status.idle": "2022-03-20T10:45:30.536771Z",
     "shell.execute_reply": "2022-03-20T10:45:30.537159Z",
     "shell.execute_reply.started": "2022-03-20T10:44:42.553092Z"
    },
    "papermill": {
     "duration": 0.036565,
     "end_time": "2022-03-20T10:45:30.537315",
     "exception": false,
     "start_time": "2022-03-20T10:45:30.500750",
     "status": "completed"
    },
    "tags": []
   },
   "outputs": [
    {
     "name": "stdout",
     "output_type": "stream",
     "text": [
      "age , bloodpressure,bmi에서 이상치값들이 확인된다. 3개미만의 이상치들이므로 해당값을 제외한 최댓값으로 대체한다\n"
     ]
    }
   ],
   "source": [
    "print('''age , bloodpressure,bmi에서 이상치값들이 확인된다. 3개미만의 이상치들이므로 해당값을 제외한 최댓값으로 대체한다''')\n"
   ]
  },
  {
   "cell_type": "code",
   "execution_count": 4,
   "id": "0c7468f3",
   "metadata": {
    "execution": {
     "iopub.execute_input": "2022-03-20T10:45:30.595912Z",
     "iopub.status.busy": "2022-03-20T10:45:30.595394Z",
     "iopub.status.idle": "2022-03-20T10:45:30.603416Z",
     "shell.execute_reply": "2022-03-20T10:45:30.603824Z",
     "shell.execute_reply.started": "2022-03-20T10:44:42.560495Z"
    },
    "papermill": {
     "duration": 0.039124,
     "end_time": "2022-03-20T10:45:30.603971",
     "exception": false,
     "start_time": "2022-03-20T10:45:30.564847",
     "status": "completed"
    },
    "tags": []
   },
   "outputs": [],
   "source": [
    "df.loc[df.BloodPressure ==df.BloodPressure.max(), 'BloodPressure'] = df[df.BloodPressure !=df.BloodPressure.max()].BloodPressure.max()\n",
    "df.loc[df.Age ==df.Age.max(), 'Age'] = df[df.Age !=df.Age.max()].Age.max()\n",
    "df.loc[df.BMI ==df.BMI.max(), 'BMI'] = df[df.BMI !=df.BMI.max()].BMI.max()"
   ]
  },
  {
   "cell_type": "code",
   "execution_count": 5,
   "id": "c3e07de1",
   "metadata": {
    "execution": {
     "iopub.execute_input": "2022-03-20T10:45:30.679151Z",
     "iopub.status.busy": "2022-03-20T10:45:30.661451Z",
     "iopub.status.idle": "2022-03-20T10:45:30.804087Z",
     "shell.execute_reply": "2022-03-20T10:45:30.803292Z",
     "shell.execute_reply.started": "2022-03-20T10:44:42.579537Z"
    },
    "papermill": {
     "duration": 0.173122,
     "end_time": "2022-03-20T10:45:30.804225",
     "exception": false,
     "start_time": "2022-03-20T10:45:30.631103",
     "status": "completed"
    },
    "tags": []
   },
   "outputs": [
    {
     "data": {
      "text/plain": [
       "<AxesSubplot:>"
      ]
     },
     "execution_count": 5,
     "metadata": {},
     "output_type": "execute_result"
    },
    {
     "data": {
      "image/png": "[encoded data removed]",
      "text/plain": [
       "<Figure size 432x288 with 1 Axes>"
      ]
     },
     "metadata": {
      "needs_background": "light"
     },
     "output_type": "display_data"
    }
   ],
   "source": [
    "df[['BloodPressure','Age','BMI']].plot(kind='box')"
   ]
  },
  {
   "cell_type": "markdown",
   "id": "54ed5c21",
   "metadata": {
    "papermill": {
     "duration": 0.040994,
     "end_time": "2022-03-20T10:45:30.887962",
     "exception": false,
     "start_time": "2022-03-20T10:45:30.846968",
     "status": "completed"
    },
    "tags": []
   },
   "source": [
    "### 1-3 앞선 두 단계에서 얻은 향후 분석시 고려사항 작성"
   ]
  },
  {
   "cell_type": "code",
   "execution_count": 6,
   "id": "f0eaf1a4",
   "metadata": {
    "execution": {
     "iopub.execute_input": "2022-03-20T10:45:30.975876Z",
     "iopub.status.busy": "2022-03-20T10:45:30.975029Z",
     "iopub.status.idle": "2022-03-20T10:45:30.978793Z",
     "shell.execute_reply": "2022-03-20T10:45:30.979401Z",
     "shell.execute_reply.started": "2022-03-20T10:44:42.813853Z"
    },
    "papermill": {
     "duration": 0.049824,
     "end_time": "2022-03-20T10:45:30.979561",
     "exception": false,
     "start_time": "2022-03-20T10:45:30.929737",
     "status": "completed"
    },
    "tags": []
   },
   "outputs": [
    {
     "name": "stdout",
     "output_type": "stream",
     "text": [
      "\n",
      "흠...\n",
      "\n"
     ]
    }
   ],
   "source": [
    "print('''\n",
    "흠...\n",
    "''')"
   ]
  },
  {
   "cell_type": "markdown",
   "id": "bf496b38",
   "metadata": {
    "papermill": {
     "duration": 0.041739,
     "end_time": "2022-03-20T10:45:31.063706",
     "exception": false,
     "start_time": "2022-03-20T10:45:31.021967",
     "status": "completed"
    },
    "tags": []
   },
   "source": [
    "# 문제 2"
   ]
  },
  {
   "cell_type": "code",
   "execution_count": 7,
   "id": "d9977e93",
   "metadata": {
    "execution": {
     "iopub.execute_input": "2022-03-20T10:45:31.150509Z",
     "iopub.status.busy": "2022-03-20T10:45:31.149673Z",
     "iopub.status.idle": "2022-03-20T10:45:31.153857Z",
     "shell.execute_reply": "2022-03-20T10:45:31.154282Z",
     "shell.execute_reply.started": "2022-03-20T10:44:42.820263Z"
    },
    "papermill": {
     "duration": 0.049118,
     "end_time": "2022-03-20T10:45:31.154445",
     "exception": false,
     "start_time": "2022-03-20T10:45:31.105327",
     "status": "completed"
    },
    "tags": []
   },
   "outputs": [
    {
     "name": "stdout",
     "output_type": "stream",
     "text": [
      "모델링 생략~ 23회와 유사\n"
     ]
    }
   ],
   "source": [
    "print('모델링 생략~ 23회와 유사')"
   ]
  },
  {
   "cell_type": "markdown",
   "id": "31d7ede9",
   "metadata": {
    "papermill": {
     "duration": 0.029321,
     "end_time": "2022-03-20T10:45:31.211980",
     "exception": false,
     "start_time": "2022-03-20T10:45:31.182659",
     "status": "completed"
    },
    "tags": []
   },
   "source": [
    "### 2-1 오버샘플링 과정 설명하고 결과 작성"
   ]
  },
  {
   "cell_type": "markdown",
   "id": "38f97843",
   "metadata": {
    "papermill": {
     "duration": 0.02904,
     "end_time": "2022-03-20T10:45:31.270511",
     "exception": false,
     "start_time": "2022-03-20T10:45:31.241471",
     "status": "completed"
    },
    "tags": []
   },
   "source": [
    "### 2-2 언더샘플링 과정 설명하고 결과 작성"
   ]
  },
  {
   "cell_type": "markdown",
   "id": "469dff50",
   "metadata": {
    "papermill": {
     "duration": 0.031078,
     "end_time": "2022-03-20T10:45:31.332121",
     "exception": false,
     "start_time": "2022-03-20T10:45:31.301043",
     "status": "completed"
    },
    "tags": []
   },
   "source": [
    "### 2-3 둘 중 선택하고 이유 설명"
   ]
  },
  {
   "cell_type": "markdown",
   "id": "200d0e9a",
   "metadata": {
    "papermill": {
     "duration": 0.029105,
     "end_time": "2022-03-20T10:45:31.390992",
     "exception": false,
     "start_time": "2022-03-20T10:45:31.361887",
     "status": "completed"
    },
    "tags": []
   },
   "source": [
    "# 문제 3"
   ]
  },
  {
   "cell_type": "markdown",
   "id": "e7b8d93a",
   "metadata": {
    "papermill": {
     "duration": 0.030427,
     "end_time": "2022-03-20T10:45:31.452015",
     "exception": false,
     "start_time": "2022-03-20T10:45:31.421588",
     "status": "completed"
    },
    "tags": []
   },
   "source": [
    "### 3-1 최소 3개 이상 알고리즘 제시하고 정확도 측면의 모델 1개와 속도 측면의 모델 1개를 꼭 구현(총 2개 이상)"
   ]
  },
  {
   "cell_type": "markdown",
   "id": "96366245",
   "metadata": {
    "papermill": {
     "duration": 0.028755,
     "end_time": "2022-03-20T10:45:31.509852",
     "exception": false,
     "start_time": "2022-03-20T10:45:31.481097",
     "status": "completed"
    },
    "tags": []
   },
   "source": [
    "### 3-2 모델 비교하고 결과 설명"
   ]
  },
  {
   "cell_type": "markdown",
   "id": "edceb33a",
   "metadata": {
    "papermill": {
     "duration": 0.028947,
     "end_time": "2022-03-20T10:45:31.567864",
     "exception": false,
     "start_time": "2022-03-20T10:45:31.538917",
     "status": "completed"
    },
    "tags": []
   },
   "source": [
    "### 3-3 속도 개선을 위한 차원 축소 설명하고 수행, 예측 성능과 속도 비교하고 결과 작성"
   ]
  },
  {
   "cell_type": "markdown",
   "id": "bfbd2974",
   "metadata": {
    "papermill": {
     "duration": 0.028999,
     "end_time": "2022-03-20T10:45:31.626305",
     "exception": false,
     "start_time": "2022-03-20T10:45:31.597306",
     "status": "completed"
    },
    "tags": []
   },
   "source": [
    "# 문제 4 \n",
    "금속 성분 함유량 데이터(변수 1개) - 제품에 금속 재질 함유량의 분산이 1.3을 넘으면 불량이라고 보고 있는데 제조사별로 차이가 난다고 제보를 받았으며, 분산에 대해 검정을 수행하시오. (유의확률 0.05)"
   ]
  },
  {
   "cell_type": "markdown",
   "id": "4e77bf89",
   "metadata": {
    "papermill": {
     "duration": 0.029216,
     "end_time": "2022-03-20T10:45:31.684913",
     "exception": false,
     "start_time": "2022-03-20T10:45:31.655697",
     "status": "completed"
    },
    "tags": []
   },
   "source": [
    "#### dataset : /kaggle/input/adpkrp5/content.csv"
   ]
  },
  {
   "cell_type": "markdown",
   "id": "38fc9c98",
   "metadata": {
    "papermill": {
     "duration": 0.029821,
     "end_time": "2022-03-20T10:45:31.744175",
     "exception": false,
     "start_time": "2022-03-20T10:45:31.714354",
     "status": "completed"
    },
    "tags": []
   },
   "source": [
    "### 4-1 연구가설과 귀무가설 작성"
   ]
  },
  {
   "cell_type": "markdown",
   "id": "15a8b52f",
   "metadata": {
    "papermill": {
     "duration": 0.029044,
     "end_time": "2022-03-20T10:45:31.803189",
     "exception": false,
     "start_time": "2022-03-20T10:45:31.774145",
     "status": "completed"
    },
    "tags": []
   },
   "source": [
    "귀무가설 : 분산을 1.3이라 할 수 있다    \n",
    "대립가설(연구가설) : 분산을 1.3이라 할 수 없다"
   ]
  },
  {
   "cell_type": "markdown",
   "id": "ab215f08",
   "metadata": {
    "papermill": {
     "duration": 0.03035,
     "end_time": "2022-03-20T10:45:31.862746",
     "exception": false,
     "start_time": "2022-03-20T10:45:31.832396",
     "status": "completed"
    },
    "tags": []
   },
   "source": [
    "### 4-2 양측 검정"
   ]
  },
  {
   "cell_type": "code",
   "execution_count": 8,
   "id": "85fcf054",
   "metadata": {
    "execution": {
     "iopub.execute_input": "2022-03-20T10:45:31.932674Z",
     "iopub.status.busy": "2022-03-20T10:45:31.931902Z",
     "iopub.status.idle": "2022-03-20T10:45:32.915229Z",
     "shell.execute_reply": "2022-03-20T10:45:32.915663Z",
     "shell.execute_reply.started": "2022-03-20T10:44:42.833450Z"
    },
    "papermill": {
     "duration": 1.023022,
     "end_time": "2022-03-20T10:45:32.915816",
     "exception": false,
     "start_time": "2022-03-20T10:45:31.892794",
     "status": "completed"
    },
    "tags": []
   },
   "outputs": [
    {
     "name": "stdout",
     "output_type": "stream",
     "text": [
      "direction two-tailed\n",
      "Q 326.6508365405755\n",
      "q1 161.82618239364686\n",
      "q2 239.9596818276442\n"
     ]
    },
    {
     "data": {
      "text/plain": [
       "'H_0 rejected'"
      ]
     },
     "execution_count": 8,
     "metadata": {},
     "output_type": "execute_result"
    }
   ],
   "source": [
    "df = pd.read_csv('/kaggle/input/adpkrp5/content.csv')\n",
    "\n",
    "import numpy as np\n",
    "from scipy.stats import chi2\n",
    "\n",
    "def var_test(x, va0, direction = \"two-tailed\", alpha = 0.05):\n",
    "    n = len(x)\n",
    "    Q = (n - 1) * np.var(x) / va0 \n",
    "    print('direction',direction)\n",
    "    if direction == \"lower\":\n",
    "        q = chi2.ppf(alpha, n - 1)\n",
    "        if Q <= q:\n",
    "            return \"H_0 rejected\"\n",
    "        else:\n",
    "            return \"H_0 not rejected\"\n",
    "    elif direction == \"upper\":\n",
    "        q = chi2.ppf(1 - alpha, n - 1)\n",
    "        if Q >= q:\n",
    "            return \"H_0 rejected\"\n",
    "        else:\n",
    "            return \"H_0 not rejected\"\n",
    "    else:\n",
    "        q1 = chi2.ppf(alpha / 2, n - 1)\n",
    "        q2 = chi2.ppf(1 - (alpha / 2), n - 1)\n",
    "        print('Q',Q)\n",
    "        print('q1',q1)\n",
    "        print('q2',q2)\n",
    "        if Q <= q1 or Q >= q2:\n",
    "            return \"H_0 rejected\"\n",
    "        else:\n",
    "            return \"H_0 not rejected\"\n",
    "\n",
    "        \n",
    "var_test(df['content'], va0 = 1.3)"
   ]
  },
  {
   "cell_type": "markdown",
   "id": "1a15cc96",
   "metadata": {
    "papermill": {
     "duration": 0.030926,
     "end_time": "2022-03-20T10:45:32.978779",
     "exception": false,
     "start_time": "2022-03-20T10:45:32.947853",
     "status": "completed"
    },
    "tags": []
   },
   "source": [
    "### 4-3 검정통계량, 가설 채택"
   ]
  },
  {
   "cell_type": "markdown",
   "id": "416d0ee8",
   "metadata": {
    "execution": {
     "iopub.execute_input": "2022-03-12T12:46:02.596563Z",
     "iopub.status.busy": "2022-03-12T12:46:02.595854Z",
     "iopub.status.idle": "2022-03-12T12:46:02.601427Z",
     "shell.execute_reply": "2022-03-12T12:46:02.60058Z",
     "shell.execute_reply.started": "2022-03-12T12:46:02.596524Z"
    },
    "papermill": {
     "duration": 0.033793,
     "end_time": "2022-03-20T10:45:33.043591",
     "exception": false,
     "start_time": "2022-03-20T10:45:33.009798",
     "status": "completed"
    },
    "tags": []
   },
   "source": [
    "귀무가설 기각..! "
   ]
  },
  {
   "cell_type": "markdown",
   "id": "7e79fb7d",
   "metadata": {
    "papermill": {
     "duration": 0.031475,
     "end_time": "2022-03-20T10:45:33.105935",
     "exception": false,
     "start_time": "2022-03-20T10:45:33.074460",
     "status": "completed"
    },
    "tags": []
   },
   "source": [
    "# 문제 5\n",
    "Lot별 200개에 대한 불량 제품 수량 데이터(변수 2개 - lot번호, 불량제품수)    \n",
    "/kaggle/input/adpkrp5/error.csv"
   ]
  },
  {
   "cell_type": "markdown",
   "id": "2c8fea0c",
   "metadata": {
    "papermill": {
     "duration": 0.031871,
     "end_time": "2022-03-20T10:45:33.168259",
     "exception": false,
     "start_time": "2022-03-20T10:45:33.136388",
     "status": "completed"
    },
    "tags": []
   },
   "source": [
    "### 5-1 불량률 관리도에 따라 관리중심선(CL : Center Line), 관리 상한선(UCL : Upper Control Limit), 하한선(LCL : Lower Control Limit) 구하기"
   ]
  },
  {
   "cell_type": "code",
   "execution_count": 9,
   "id": "5692ffe8",
   "metadata": {
    "execution": {
     "iopub.execute_input": "2022-03-20T10:45:33.239303Z",
     "iopub.status.busy": "2022-03-20T10:45:33.238739Z",
     "iopub.status.idle": "2022-03-20T10:45:33.250163Z",
     "shell.execute_reply": "2022-03-20T10:45:33.251510Z",
     "shell.execute_reply.started": "2022-03-20T10:44:43.740894Z"
    },
    "papermill": {
     "duration": 0.052941,
     "end_time": "2022-03-20T10:45:33.252013",
     "exception": false,
     "start_time": "2022-03-20T10:45:33.199072",
     "status": "completed"
    },
    "tags": []
   },
   "outputs": [
    {
     "name": "stdout",
     "output_type": "stream",
     "text": [
      "cl :  1.705 ucl :  6.6792290403091155 lcl :  -3.2692290403091153\n"
     ]
    }
   ],
   "source": [
    "import matplotlib.pyplot as plt\n",
    "d = pd.read_csv('/kaggle/input/adpkrp5/error.csv')\n",
    "d['error_case_number'] = d['error_case_number']/200*100\n",
    "\n",
    "mean =d['error_case_number'].mean()\n",
    "ucl = mean + d['error_case_number'].std()*3\n",
    "lcl = mean - d['error_case_number'].std()*3\n",
    "\n",
    "print('cl : ',mean,'ucl : ',ucl,'lcl : ',lcl)"
   ]
  },
  {
   "cell_type": "markdown",
   "id": "7acb9f55",
   "metadata": {
    "papermill": {
     "duration": 0.032904,
     "end_time": "2022-03-20T10:45:33.316775",
     "exception": false,
     "start_time": "2022-03-20T10:45:33.283871",
     "status": "completed"
    },
    "tags": []
   },
   "source": [
    "### 5-2 관리도 시각화"
   ]
  },
  {
   "cell_type": "code",
   "execution_count": 10,
   "id": "ba795695",
   "metadata": {
    "execution": {
     "iopub.execute_input": "2022-03-20T10:45:33.386528Z",
     "iopub.status.busy": "2022-03-20T10:45:33.385979Z",
     "iopub.status.idle": "2022-03-20T10:45:33.622940Z",
     "shell.execute_reply": "2022-03-20T10:45:33.622351Z",
     "shell.execute_reply.started": "2022-03-20T10:44:43.760129Z"
    },
    "papermill": {
     "duration": 0.272162,
     "end_time": "2022-03-20T10:45:33.623070",
     "exception": false,
     "start_time": "2022-03-20T10:45:33.350908",
     "status": "completed"
    },
    "tags": []
   },
   "outputs": [
    {
     "data": {
      "image/png": "[encoded data removed]",
      "text/plain": [
       "<Figure size 432x288 with 1 Axes>"
      ]
     },
     "metadata": {
      "needs_background": "light"
     },
     "output_type": "display_data"
    }
   ],
   "source": [
    "\n",
    "plt.plot(d['error_case_number'])\n",
    "plt.axhline(y=ucl, color='r', linestyle='--',label='Upper')\n",
    "plt.axhline(y=lcl, color='y', linestyle='--',label='Lower')\n",
    "plt.axhline(y=mean, color='b',label=\"Mean\")\n",
    "plt.legend()\n",
    "plt.ylabel('error ratio')\n",
    "plt.xlabel('iot id')\n",
    "plt.show()"
   ]
  },
  {
   "cell_type": "markdown",
   "id": "827de624",
   "metadata": {
    "papermill": {
     "duration": 0.031773,
     "end_time": "2022-03-20T10:45:33.687348",
     "exception": false,
     "start_time": "2022-03-20T10:45:33.655575",
     "status": "completed"
    },
    "tags": []
   },
   "source": [
    "# 문제 6\n",
    "상품 a와 b가 있을 때 다음과 같은 구매 패턴이 있다고 한다. aa bb aaaa bbbb a b aa bb aa bbb aa bb a b 구매하는 패턴으로 보아 두 상품의 패턴이 임의적인지 확인하라"
   ]
  },
  {
   "cell_type": "markdown",
   "id": "1bd17863",
   "metadata": {
    "papermill": {
     "duration": 0.03034,
     "end_time": "2022-03-20T10:45:33.749329",
     "exception": false,
     "start_time": "2022-03-20T10:45:33.718989",
     "status": "completed"
    },
    "tags": []
   },
   "source": [
    "### 6-1 연구가설과 귀무가설 작성\n",
    "- 귀무가설 : 연속적인 관측값이 임의적이다\n",
    "- 대립가설 : 연속적인 관측값이 임의적이지 않다"
   ]
  },
  {
   "cell_type": "markdown",
   "id": "7409288a",
   "metadata": {
    "papermill": {
     "duration": 0.031353,
     "end_time": "2022-03-20T10:45:33.812160",
     "exception": false,
     "start_time": "2022-03-20T10:45:33.780807",
     "status": "completed"
    },
    "tags": []
   },
   "source": [
    "### 6-2 평균과 표준편차   \n",
    "참고 블로그 :https://blog.naver.com/PostView.naver?isHttpsRedirect=true&blogId=li0224il&logNo=220722414973"
   ]
  },
  {
   "cell_type": "code",
   "execution_count": 11,
   "id": "bce4b98c",
   "metadata": {
    "execution": {
     "iopub.execute_input": "2022-03-20T10:45:33.883431Z",
     "iopub.status.busy": "2022-03-20T10:45:33.882882Z",
     "iopub.status.idle": "2022-03-20T10:45:33.886147Z",
     "shell.execute_reply": "2022-03-20T10:45:33.886656Z",
     "shell.execute_reply.started": "2022-03-20T10:44:43.954622Z"
    },
    "papermill": {
     "duration": 0.041986,
     "end_time": "2022-03-20T10:45:33.886815",
     "exception": false,
     "start_time": "2022-03-20T10:45:33.844829",
     "status": "completed"
    },
    "tags": []
   },
   "outputs": [
    {
     "name": "stdout",
     "output_type": "stream",
     "text": [
      "mean :  15.482758620689655 std :  2.6408030342821784\n"
     ]
    }
   ],
   "source": [
    "a = 14\n",
    "b = 15\n",
    "\n",
    "mean =2*a*b/(a+b) +1\n",
    "std = (2*a*b*(2*a*b-a-b)/(a+b)**2/(a+b-1))**0.5\n",
    "print('mean : ',mean,'std : ',std)"
   ]
  },
  {
   "cell_type": "markdown",
   "id": "62ea1822",
   "metadata": {
    "papermill": {
     "duration": 0.032173,
     "end_time": "2022-03-20T10:45:33.951219",
     "exception": false,
     "start_time": "2022-03-20T10:45:33.919046",
     "status": "completed"
    },
    "tags": []
   },
   "source": [
    "### 6-3 가설 채택"
   ]
  },
  {
   "cell_type": "code",
   "execution_count": 12,
   "id": "ad421156",
   "metadata": {
    "execution": {
     "iopub.execute_input": "2022-03-20T10:45:34.017717Z",
     "iopub.status.busy": "2022-03-20T10:45:34.017160Z",
     "iopub.status.idle": "2022-03-20T10:45:34.057993Z",
     "shell.execute_reply": "2022-03-20T10:45:34.057226Z",
     "shell.execute_reply.started": "2022-03-20T10:44:43.964325Z"
    },
    "papermill": {
     "duration": 0.075128,
     "end_time": "2022-03-20T10:45:34.058129",
     "exception": false,
     "start_time": "2022-03-20T10:45:33.983001",
     "status": "completed"
    },
    "tags": []
   },
   "outputs": [
    {
     "data": {
      "text/plain": [
       "(-0.3721438547031917, 0.7097857460625617)"
      ]
     },
     "execution_count": 12,
     "metadata": {},
     "output_type": "execute_result"
    }
   ],
   "source": [
    "from statsmodels.sandbox.stats.runs import runstest_1samp\n",
    "\n",
    "# 귀무가설 : 랜덤생성\n",
    "# 대립 : 랜덤생성이 아님\n",
    "# 데이터 이진 변환, 각 패턴들을 구분지을 필요없이 하나로 연결\n",
    "x = [1,1,0,0,1,1,1,1,0,0,0,0,1,0,1,1,0,0,1,1,0,0,0,1,1,0,0,1,0]\n",
    "runstest_1samp(x, cutoff='mean', correction=True)"
   ]
  }
 ],
 "metadata": {
  "kernelspec": {
   "display_name": "Python 3",
   "language": "python",
   "name": "python3"
  },
  "language_info": {
   "codemirror_mode": {
    "name": "ipython",
    "version": 3
   },
   "file_extension": ".py",
   "mimetype": "text/x-python",
   "name": "python",
   "nbconvert_exporter": "python",
   "pygments_lexer": "ipython3",
   "version": "3.7.12"
  },
  "papermill": {
   "default_parameters": {},
   "duration": 15.508868,
   "end_time": "2022-03-20T10:45:34.902382",
   "environment_variables": {},
   "exception": null,
   "input_path": "__notebook__.ipynb",
   "output_path": "__notebook__.ipynb",
   "parameters": {},
   "start_time": "2022-03-20T10:45:19.393514",
   "version": "2.3.3"
  }
 },
 "nbformat": 4,
 "nbformat_minor": 5
}
