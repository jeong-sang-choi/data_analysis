{
 "cells": [
  {
   "cell_type": "code",
   "execution_count": 1,
   "id": "898363c8",
   "metadata": {
    "_cell_guid": "b1076dfc-b9ad-4769-8c92-a6c4dae69d19",
    "_uuid": "8f2839f25d086af736a60e9eeb907d3b93b6e0e5",
    "execution": {
     "iopub.execute_input": "2022-03-12T09:41:20.589650Z",
     "iopub.status.busy": "2022-03-12T09:41:20.588479Z",
     "iopub.status.idle": "2022-03-12T09:41:20.608337Z",
     "shell.execute_reply": "2022-03-12T09:41:20.608914Z",
     "shell.execute_reply.started": "2022-01-09T08:51:34.059842Z"
    },
    "papermill": {
     "duration": 0.041329,
     "end_time": "2022-03-12T09:41:20.609247",
     "exception": false,
     "start_time": "2022-03-12T09:41:20.567918",
     "status": "completed"
    },
    "tags": []
   },
   "outputs": [
    {
     "name": "stdout",
     "output_type": "stream",
     "text": [
      "/kaggle/input/adp-kr-p3/problem2.csv\n",
      "/kaggle/input/adp-kr-p3/problem3.csv\n",
      "/kaggle/input/adp-kr-p3/problem1.csv\n"
     ]
    }
   ],
   "source": [
    "# This Python 3 environment comes with many helpful analytics libraries installed\n",
    "# It is defined by the kaggle/python Docker image: https://github.com/kaggle/docker-python\n",
    "# For example, here's several helpful packages to load\n",
    "\n",
    "import numpy as np # linear algebra\n",
    "import pandas as pd # data processing, CSV file I/O (e.g. pd.read_csv)\n",
    "\n",
    "# Input data files are available in the read-only \"../input/\" directory\n",
    "# For example, running this (by clicking run or pressing Shift+Enter) will list all files under the input directory\n",
    "\n",
    "import os\n",
    "for dirname, _, filenames in os.walk('/kaggle/input'):\n",
    "    for filename in filenames:\n",
    "        print(os.path.join(dirname, filename))\n",
    "\n",
    "# You can write up to 20GB to the current directory (/kaggle/working/) that gets preserved as output when you create a version using \"Save & Run All\" \n",
    "# You can also write temporary files to /kaggle/temp/, but they won't be saved outside of the current session"
   ]
  },
  {
   "cell_type": "markdown",
   "id": "59fbd492",
   "metadata": {
    "papermill": {
     "duration": 0.015038,
     "end_time": "2022-03-12T09:41:20.641450",
     "exception": false,
     "start_time": "2022-03-12T09:41:20.626412",
     "status": "completed"
    },
    "tags": []
   },
   "source": [
    "# 1번 \n",
    "데이터 출처 : https://www.kaggle.com/c/house-prices-advanced-regression-techniques/data?select=train.csv 일부 전처리    \n",
    "데이터 경로 : /kaggle/input/adp-kr-p3/problem1.csv     \n",
    "데이터 설명 : 집과 관련된 여러 수치들과 집의 가격, log1p 정규화된 price 컬럼 예측 하기 "
   ]
  },
  {
   "cell_type": "markdown",
   "id": "48b2606a",
   "metadata": {
    "papermill": {
     "duration": 0.014455,
     "end_time": "2022-03-12T09:41:20.670786",
     "exception": false,
     "start_time": "2022-03-12T09:41:20.656331",
     "status": "completed"
    },
    "tags": []
   },
   "source": [
    "### 1-1 EDA 및 데이터 전처리\n",
    "시각화 및 통계량 제시"
   ]
  },
  {
   "cell_type": "code",
   "execution_count": null,
   "id": "f19d3feb",
   "metadata": {
    "papermill": {
     "duration": 0.014439,
     "end_time": "2022-03-12T09:41:20.699946",
     "exception": false,
     "start_time": "2022-03-12T09:41:20.685507",
     "status": "completed"
    },
    "tags": []
   },
   "outputs": [],
   "source": []
  },
  {
   "cell_type": "markdown",
   "id": "7ac8c667",
   "metadata": {
    "papermill": {
     "duration": 0.014312,
     "end_time": "2022-03-12T09:41:20.728910",
     "exception": false,
     "start_time": "2022-03-12T09:41:20.714598",
     "status": "completed"
    },
    "tags": []
   },
   "source": [
    "### 1-2  Train,Valid,Test set으로 분할 및 시각화 제시"
   ]
  },
  {
   "cell_type": "code",
   "execution_count": null,
   "id": "200f7141",
   "metadata": {
    "papermill": {
     "duration": 0.014221,
     "end_time": "2022-03-12T09:41:20.757845",
     "exception": false,
     "start_time": "2022-03-12T09:41:20.743624",
     "status": "completed"
    },
    "tags": []
   },
   "outputs": [],
   "source": []
  },
  {
   "cell_type": "markdown",
   "id": "b4586784",
   "metadata": {
    "papermill": {
     "duration": 0.014597,
     "end_time": "2022-03-12T09:41:20.787085",
     "exception": false,
     "start_time": "2022-03-12T09:41:20.772488",
     "status": "completed"
    },
    "tags": []
   },
   "source": [
    "### 1-3  2차 교호작용항 까지 고려한 회귀분석 수행 및 변수 선택 과정 제시"
   ]
  },
  {
   "cell_type": "code",
   "execution_count": null,
   "id": "ce8dc15e",
   "metadata": {
    "papermill": {
     "duration": 0.014364,
     "end_time": "2022-03-12T09:41:20.816244",
     "exception": false,
     "start_time": "2022-03-12T09:41:20.801880",
     "status": "completed"
    },
    "tags": []
   },
   "outputs": [],
   "source": []
  },
  {
   "cell_type": "markdown",
   "id": "165633c8",
   "metadata": {
    "papermill": {
     "duration": 0.014417,
     "end_time": "2022-03-12T09:41:20.845240",
     "exception": false,
     "start_time": "2022-03-12T09:41:20.830823",
     "status": "completed"
    },
    "tags": []
   },
   "source": [
    "### 1-4 벌점, 앙상블을 포함하여 모형에 적합한 기계학습 모델 3가지를 제시하라\n",
    "(평가지표는 MSE, MAPE, R2 모두 확인할 것)"
   ]
  },
  {
   "cell_type": "code",
   "execution_count": null,
   "id": "b61e2ee3",
   "metadata": {
    "papermill": {
     "duration": 0.014413,
     "end_time": "2022-03-12T09:41:20.875508",
     "exception": false,
     "start_time": "2022-03-12T09:41:20.861095",
     "status": "completed"
    },
    "tags": []
   },
   "outputs": [],
   "source": []
  },
  {
   "cell_type": "markdown",
   "id": "de1f16b2",
   "metadata": {
    "papermill": {
     "duration": 0.014404,
     "end_time": "2022-03-12T09:41:20.904864",
     "exception": false,
     "start_time": "2022-03-12T09:41:20.890460",
     "status": "completed"
    },
    "tags": []
   },
   "source": [
    "# 2번\n",
    "코로나19에 대한 나라별 데이터로 모델링 진행     \n",
    "데이터 출처 : https://www.kaggle.com/imdevskp/corona-virus-report 일부 후처리    \n",
    "데이터 경로 : /kaggle/input/adp-kr-p3/problem2.csv     \n",
    "**컬럼**\n",
    "- location : 지역명\n",
    "- date : 일자\n",
    "- total_cases : 누적 확인자\n",
    "- total_deaths : 누적 사망자\n",
    "- new_tests : 검사자\n",
    "- population : 인구\n",
    "- new_vaccinations : 백신 접종자"
   ]
  },
  {
   "cell_type": "markdown",
   "id": "5d45331c",
   "metadata": {
    "papermill": {
     "duration": 0.01429,
     "end_time": "2022-03-12T09:41:20.933910",
     "exception": false,
     "start_time": "2022-03-12T09:41:20.919620",
     "status": "completed"
    },
    "tags": []
   },
   "source": [
    "### 2-1 마지막 일자를 기준으로 인구 대비 확진자 비율이 높은 상위 5개 국가를 구하여라\n",
    "상위 5개 국가별로 누적 확진자, 일일 확진자, 누적 사망자, 일일 사망자, 그래프, 범례를 이용해서 가독성 있게 만들어라     "
   ]
  },
  {
   "cell_type": "code",
   "execution_count": null,
   "id": "2f6afb4a",
   "metadata": {
    "papermill": {
     "duration": 0.014227,
     "end_time": "2022-03-12T09:41:20.962978",
     "exception": false,
     "start_time": "2022-03-12T09:41:20.948751",
     "status": "completed"
    },
    "tags": []
   },
   "outputs": [],
   "source": []
  },
  {
   "cell_type": "markdown",
   "id": "cfaaf072",
   "metadata": {
    "papermill": {
     "duration": 0.014295,
     "end_time": "2022-03-12T09:41:20.991960",
     "exception": false,
     "start_time": "2022-03-12T09:41:20.977665",
     "status": "completed"
    },
    "tags": []
   },
   "source": [
    "### 2-2 코로나 위험지수를 직접 만들고 그 위험지수에 대한 설명을 적고 위험지수가 높은 국가들 10개를 선정해서 시각화"
   ]
  },
  {
   "cell_type": "code",
   "execution_count": null,
   "id": "14822107",
   "metadata": {
    "papermill": {
     "duration": 0.020318,
     "end_time": "2022-03-12T09:41:21.027130",
     "exception": false,
     "start_time": "2022-03-12T09:41:21.006812",
     "status": "completed"
    },
    "tags": []
   },
   "outputs": [],
   "source": []
  },
  {
   "cell_type": "markdown",
   "id": "ffcdd060",
   "metadata": {
    "papermill": {
     "duration": 0.015039,
     "end_time": "2022-03-12T09:41:21.057679",
     "exception": false,
     "start_time": "2022-03-12T09:41:21.042640",
     "status": "completed"
    },
    "tags": []
   },
   "source": [
    "### 2-3 한국의 코로나 신규 확진자 예측해라(선형 시계열모델 + 비선형시계열 모델 각각 한개씩 만들어라)"
   ]
  },
  {
   "cell_type": "code",
   "execution_count": null,
   "id": "824b7434",
   "metadata": {
    "papermill": {
     "duration": 0.014783,
     "end_time": "2022-03-12T09:41:21.087627",
     "exception": false,
     "start_time": "2022-03-12T09:41:21.072844",
     "status": "completed"
    },
    "tags": []
   },
   "outputs": [],
   "source": []
  },
  {
   "cell_type": "markdown",
   "id": "5361d445",
   "metadata": {
    "papermill": {
     "duration": 0.014473,
     "end_time": "2022-03-12T09:41:21.116995",
     "exception": false,
     "start_time": "2022-03-12T09:41:21.102522",
     "status": "completed"
    },
    "tags": []
   },
   "source": [
    "# 3번\n",
    "설문조사 데이터      \n",
    "데이터 출처 : 자체 제작    \n",
    "데이터 경로 : /kaggle/input/adp-kr-p3/problem3.csv \n",
    "\n",
    "데이터 설명 : A ~ D까지의 그룹에게 각각 같은 설문조사를 하여 1-1,1-2,1-3...5-1,5-4 인 설문지를 푼 것이다. 문항은 영역별로 나뉘어 있고, 영역은 크게 5개이다(1~5)    \n",
    "각 영역의 세부문항은 4개씩 존재한다 (1-1,1-2,1-3,1-4 ~) 이 때 중간에 반대 문항이 들어가 있다. 예를 들어 1-1 문제가 \"나는 시간약속을 잘 지킨다.\"라는 문제라면 1-3의 문제는 \"나는 시간약속을 잘 지키지 않는다.\" 라는 역문제로 구성 되어있다. 각 영역의 3번문항의 1번문항의 역문제이다. \n",
    "모든 답변은 5점 척도이다. 문제를 풀기전 모든 역문항의 경우 점수를 변환(6점을 빼서) 작업이 필요하다"
   ]
  },
  {
   "cell_type": "markdown",
   "id": "d88d62e4",
   "metadata": {
    "papermill": {
     "duration": 0.014678,
     "end_time": "2022-03-12T09:41:21.146416",
     "exception": false,
     "start_time": "2022-03-12T09:41:21.131738",
     "status": "completed"
    },
    "tags": []
   },
   "source": [
    "### 3-1 역문항을 변환 한 후 각 그룹`(A~D)`의 영역`(Q1~Q5)`별 응답의 평균, 표준편차, 왜도, 첨도를 구하라. (각 통계량 별로 4x5 dataframe 생성)"
   ]
  },
  {
   "cell_type": "code",
   "execution_count": null,
   "id": "a9c638a4",
   "metadata": {
    "papermill": {
     "duration": 0.015107,
     "end_time": "2022-03-12T09:41:21.176599",
     "exception": false,
     "start_time": "2022-03-12T09:41:21.161492",
     "status": "completed"
    },
    "tags": []
   },
   "outputs": [],
   "source": []
  },
  {
   "cell_type": "markdown",
   "id": "f4fa90de",
   "metadata": {
    "papermill": {
     "duration": 0.014302,
     "end_time": "2022-03-12T09:41:21.205695",
     "exception": false,
     "start_time": "2022-03-12T09:41:21.191393",
     "status": "completed"
    },
    "tags": []
   },
   "source": [
    "### 3-2 그룹별로 Q1-1문항의 차이가 존재하는지 anova분석을 시행하라"
   ]
  },
  {
   "cell_type": "code",
   "execution_count": null,
   "id": "a1a1e641",
   "metadata": {
    "papermill": {
     "duration": 0.014476,
     "end_time": "2022-03-12T09:41:21.234954",
     "exception": false,
     "start_time": "2022-03-12T09:41:21.220478",
     "status": "completed"
    },
    "tags": []
   },
   "outputs": [],
   "source": []
  },
  {
   "cell_type": "markdown",
   "id": "81775b12",
   "metadata": {
    "papermill": {
     "duration": 0.014379,
     "end_time": "2022-03-12T09:41:21.264085",
     "exception": false,
     "start_time": "2022-03-12T09:41:21.249706",
     "status": "completed"
    },
    "tags": []
   },
   "source": [
    "### 3-3 탐색적 요인분석을 수행하고 결과를 시각화 하라"
   ]
  },
  {
   "cell_type": "code",
   "execution_count": null,
   "id": "a4322e5e",
   "metadata": {
    "papermill": {
     "duration": 0.014521,
     "end_time": "2022-03-12T09:41:21.293987",
     "exception": false,
     "start_time": "2022-03-12T09:41:21.279466",
     "status": "completed"
    },
    "tags": []
   },
   "outputs": [],
   "source": []
  }
 ],
 "metadata": {
  "kernelspec": {
   "display_name": "Python 3",
   "language": "python",
   "name": "python3"
  },
  "language_info": {
   "codemirror_mode": {
    "name": "ipython",
    "version": 3
   },
   "file_extension": ".py",
   "mimetype": "text/x-python",
   "name": "python",
   "nbconvert_exporter": "python",
   "pygments_lexer": "ipython3",
   "version": "3.7.12"
  },
  "papermill": {
   "default_parameters": {},
   "duration": 11.68256,
   "end_time": "2022-03-12T09:41:22.120989",
   "environment_variables": {},
   "exception": null,
   "input_path": "__notebook__.ipynb",
   "output_path": "__notebook__.ipynb",
   "parameters": {},
   "start_time": "2022-03-12T09:41:10.438429",
   "version": "2.3.3"
  }
 },
 "nbformat": 4,
 "nbformat_minor": 5
}
