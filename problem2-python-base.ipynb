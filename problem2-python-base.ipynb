{
 "cells": [
  {
   "cell_type": "code",
   "execution_count": 1,
   "id": "ef5bb030",
   "metadata": {
    "_cell_guid": "b1076dfc-b9ad-4769-8c92-a6c4dae69d19",
    "_uuid": "8f2839f25d086af736a60e9eeb907d3b93b6e0e5",
    "execution": {
     "iopub.execute_input": "2022-03-09T05:15:32.716854Z",
     "iopub.status.busy": "2022-03-09T05:15:32.716083Z",
     "iopub.status.idle": "2022-03-09T05:15:32.729212Z",
     "shell.execute_reply": "2022-03-09T05:15:32.728084Z",
     "shell.execute_reply.started": "2022-03-09T04:10:16.408367Z"
    },
    "papermill": {
     "duration": 0.037862,
     "end_time": "2022-03-09T05:15:32.729424",
     "exception": false,
     "start_time": "2022-03-09T05:15:32.691562",
     "status": "completed"
    },
    "tags": []
   },
   "outputs": [
    {
     "name": "stdout",
     "output_type": "stream",
     "text": [
      "/kaggle/input/adp-kr-p2/problem2.csv\n",
      "/kaggle/input/adp-kr-p2/problem3.csv\n",
      "/kaggle/input/adp-kr-p2/problem1.csv\n",
      "/kaggle/input/adp-kr-p2/problem2_Example.png\n",
      "/kaggle/input/adp-kr-p2/problem2.png\n"
     ]
    }
   ],
   "source": [
    "# This Python 3 environment comes with many helpful analytics libraries installed\n",
    "# It is defined by the kaggle/python Docker image: https://github.com/kaggle/docker-python\n",
    "# For example, here's several helpful packages to load\n",
    "\n",
    "import numpy as np # linear algebra\n",
    "import pandas as pd # data processing, CSV file I/O (e.g. pd.read_csv)\n",
    "\n",
    "# Input data files are available in the read-only \"../input/\" directory\n",
    "# For example, running this (by clicking run or pressing Shift+Enter) will list all files under the input directory\n",
    "\n",
    "import os\n",
    "for dirname, _, filenames in os.walk('/kaggle/input'):\n",
    "    for filename in filenames:\n",
    "        print(os.path.join(dirname, filename))\n",
    "\n",
    "# You can write up to 20GB to the current directory (/kaggle/working/) that gets preserved as output when you create a version using \"Save & Run All\" \n",
    "# You can also write temporary files to /kaggle/temp/, but they won't be saved outside of the current session"
   ]
  },
  {
   "cell_type": "code",
   "execution_count": 2,
   "id": "56657b2f",
   "metadata": {
    "execution": {
     "iopub.execute_input": "2022-03-09T05:15:32.761092Z",
     "iopub.status.busy": "2022-03-09T05:15:32.760142Z",
     "iopub.status.idle": "2022-03-09T05:15:32.763492Z",
     "shell.execute_reply": "2022-03-09T05:15:32.762983Z",
     "shell.execute_reply.started": "2022-03-09T04:10:16.690228Z"
    },
    "papermill": {
     "duration": 0.020295,
     "end_time": "2022-03-09T05:15:32.763686",
     "exception": false,
     "start_time": "2022-03-09T05:15:32.743391",
     "status": "completed"
    },
    "tags": []
   },
   "outputs": [],
   "source": [
    "# 문제는 https://didalsgur.tistory.com/entry/%EB%8D%B0%EC%9D%B4%ED%84%B0%EB%B6%84%EC%84%9D%EC%A0%84%EB%AC%B8%EA%B0%80-ADP-20%ED%9A%8C-%EC%8B%A4%EA%B8%B0%EC%8B%9C%ED%97%98-%ED%9B%84%EA%B8%B0\n",
    "# 참고했습니다\n"
   ]
  },
  {
   "cell_type": "markdown",
   "id": "f9ceabe2",
   "metadata": {
    "papermill": {
     "duration": 0.011851,
     "end_time": "2022-03-09T05:15:32.788121",
     "exception": false,
     "start_time": "2022-03-09T05:15:32.776270",
     "status": "completed"
    },
    "tags": []
   },
   "source": [
    "# 1번\n",
    "날씨 온도 예측, 종속변수 :actual(최고온도)   \n",
    "데이터 출처 : https://towardsdatascience.com/random-forest-in-python-24d0893d51c0     \n",
    "데이터 경로 : /kaggle/input/adp-kr-p2/problem1.csv    \n",
    "temp_1 : 전날 최고온도    \n",
    "temp_2 : 전전날 최고온도    \n",
    "friend : 친구의 예측온도     \n",
    "\n"
   ]
  },
  {
   "cell_type": "markdown",
   "id": "87c4565c",
   "metadata": {
    "papermill": {
     "duration": 0.012074,
     "end_time": "2022-03-09T05:15:32.812197",
     "exception": false,
     "start_time": "2022-03-09T05:15:32.800123",
     "status": "completed"
    },
    "tags": []
   },
   "source": [
    "### 1-1 데이터 확인 및 전처리\n",
    "- 데이터 EDA 수행     \n",
    "- 결측치를 확인하고 처리 방안에 대해 논의하라  \n",
    "- 데이터 분할 방법 설명     \n",
    "- 최종 데이터셋이 적절함을 주장하라     "
   ]
  },
  {
   "cell_type": "code",
   "execution_count": null,
   "id": "a02f430e",
   "metadata": {
    "papermill": {
     "duration": 0.011681,
     "end_time": "2022-03-09T05:15:32.836138",
     "exception": false,
     "start_time": "2022-03-09T05:15:32.824457",
     "status": "completed"
    },
    "tags": []
   },
   "outputs": [],
   "source": []
  },
  {
   "cell_type": "markdown",
   "id": "b18f938d",
   "metadata": {
    "papermill": {
     "duration": 0.011656,
     "end_time": "2022-03-09T05:15:32.859896",
     "exception": false,
     "start_time": "2022-03-09T05:15:32.848240",
     "status": "completed"
    },
    "tags": []
   },
   "source": [
    "### 1-2 Random Forest 모델 적합 및 검증   \n",
    "- Random Forest 학습 및 예측 결과 해석    \n",
    "- 예측 결과 검정 해석, 중요변수 도출    \n",
    "- 변수 중요성 분석 및 그래프 출력     "
   ]
  },
  {
   "cell_type": "code",
   "execution_count": null,
   "id": "5ef01196",
   "metadata": {
    "papermill": {
     "duration": 0.011724,
     "end_time": "2022-03-09T05:15:32.883805",
     "exception": false,
     "start_time": "2022-03-09T05:15:32.872081",
     "status": "completed"
    },
    "tags": []
   },
   "outputs": [],
   "source": []
  },
  {
   "cell_type": "markdown",
   "id": "5c228dfe",
   "metadata": {
    "papermill": {
     "duration": 0.012502,
     "end_time": "2022-03-09T05:15:32.908298",
     "exception": false,
     "start_time": "2022-03-09T05:15:32.895796",
     "status": "completed"
    },
    "tags": []
   },
   "source": [
    "### 1-3 SVM(Support Vector Machine) 모델 적합 및 검증  \n",
    "- svm 학습 및 예측 결과 해석    \n",
    "- 예측 결과 검정 해석, 중요변수 도출    \n",
    "- 변수 중요성 분석 및 그래프 출력     "
   ]
  },
  {
   "cell_type": "code",
   "execution_count": null,
   "id": "89132a64",
   "metadata": {
    "papermill": {
     "duration": 0.012243,
     "end_time": "2022-03-09T05:15:32.932710",
     "exception": false,
     "start_time": "2022-03-09T05:15:32.920467",
     "status": "completed"
    },
    "tags": []
   },
   "outputs": [],
   "source": []
  },
  {
   "cell_type": "markdown",
   "id": "cb88bebd",
   "metadata": {
    "papermill": {
     "duration": 0.011638,
     "end_time": "2022-03-09T05:15:32.956484",
     "exception": false,
     "start_time": "2022-03-09T05:15:32.944846",
     "status": "completed"
    },
    "tags": []
   },
   "source": [
    "### 1-4 모델 비교 및 향후 개선 방향 도출\n",
    "- Random Forest, SVM 모델의 결과 비교 후 최종 모델 선택    \n",
    "- 두 모델의 장단점 분석, 추후 운영 관점에서 어떤 모델을 선택할 것인가?    \n",
    "- 모델링 관련 추후 개선 방향 제시     "
   ]
  },
  {
   "cell_type": "markdown",
   "id": "c546bf93",
   "metadata": {
    "papermill": {
     "duration": 0.011692,
     "end_time": "2022-03-09T05:15:32.980674",
     "exception": false,
     "start_time": "2022-03-09T05:15:32.968982",
     "status": "completed"
    },
    "tags": []
   },
   "source": [
    "# 2번 \n",
    "5분간격의 가구별 전력 사용량의 데이터    \n",
    "데이터 출처 : 자체생성    \n",
    "데이터 경로 : /kaggle/input/adp-kr-p2/problem2.csv    "
   ]
  },
  {
   "cell_type": "markdown",
   "id": "452663a9",
   "metadata": {
    "papermill": {
     "duration": 0.011557,
     "end_time": "2022-03-09T05:15:33.004237",
     "exception": false,
     "start_time": "2022-03-09T05:15:32.992680",
     "status": "completed"
    },
    "tags": []
   },
   "source": [
    "### 2-1 데이터 전처리\n",
    "각 가구의 15분간격의 전력량의 합을 구하고 해당데이터를 바탕으로 총 5개의 군집으로 군집화를 진행한 후 아래의 그림과 같은 형태로 출력하라.    \n",
    "군집화를 위한 데이터 구성의 이유를 설명하라    \n",
    "(군집 방식에 따라 Cluster컬럼의 값은 달라질수 있음)\n",
    "![image](https://github.com/Datamanim/datarepo/blob/main/adp/p2/problem2.png?raw=true)"
   ]
  },
  {
   "cell_type": "code",
   "execution_count": null,
   "id": "d888e05f",
   "metadata": {
    "papermill": {
     "duration": 0.012111,
     "end_time": "2022-03-09T05:15:33.028712",
     "exception": false,
     "start_time": "2022-03-09T05:15:33.016601",
     "status": "completed"
    },
    "tags": []
   },
   "outputs": [],
   "source": []
  },
  {
   "cell_type": "markdown",
   "id": "c433b020",
   "metadata": {
    "papermill": {
     "duration": 0.011774,
     "end_time": "2022-03-09T05:15:33.053052",
     "exception": false,
     "start_time": "2022-03-09T05:15:33.041278",
     "status": "completed"
    },
    "tags": []
   },
   "source": [
    "### 2-2 히트맵\n",
    "2-1의 데이터를 바탕으로 각 군집의 요일, 15분간격별 전력사용량의 합을 구한 후 아래와 같이 시각화 하여라    \n",
    "(수치는 동일하지 않을 수 있음 2-1의 데이터가 정확하게 아래와 같은 이미지로 변환 됐는지 주로 확인)     \n",
    "![image](https://github.com/Datamanim/datarepo/blob/main/adp/p2/problem2_Example.png?raw=true)"
   ]
  },
  {
   "cell_type": "code",
   "execution_count": null,
   "id": "59284936",
   "metadata": {
    "papermill": {
     "duration": 0.012065,
     "end_time": "2022-03-09T05:15:33.077133",
     "exception": false,
     "start_time": "2022-03-09T05:15:33.065068",
     "status": "completed"
    },
    "tags": []
   },
   "outputs": [],
   "source": []
  },
  {
   "cell_type": "markdown",
   "id": "b838bd85",
   "metadata": {
    "papermill": {
     "duration": 0.011586,
     "end_time": "2022-03-09T05:15:33.100956",
     "exception": false,
     "start_time": "2022-03-09T05:15:33.089370",
     "status": "completed"
    },
    "tags": []
   },
   "source": [
    "# 3번 태양광 데이터\n",
    "예측 변수 :SOLAR PV\n",
    "\n",
    "\n",
    "데이터 경로 : /kaggle/input/adp-kr-p2/problem3.csv    \n",
    "데이터 출처 : https://www.kaggle.com/cheedcheed/california-renewable-production-20102018"
   ]
  },
  {
   "cell_type": "markdown",
   "id": "0be63bb9",
   "metadata": {
    "papermill": {
     "duration": 0.01169,
     "end_time": "2022-03-09T05:15:33.124626",
     "exception": false,
     "start_time": "2022-03-09T05:15:33.112936",
     "status": "completed"
    },
    "tags": []
   },
   "source": [
    "### 3-1\n",
    "**데이터셋 분할 및 결과 검증**    \n",
    "- 데이터셋 7:3 분할    \n",
    "- 데이터 전처리 및 예측 모델 생성    \n",
    "- 모델 성능 검증 : RMSE, R제곱, 정확도(아래 방식으로 연산)로 구하여라    \n",
    "- 정확도의 경우 실제값>예측값인 경우 (1-예측값/실제값), 실제값<예측값인 경우 (1- 실제값/예측값)으로 하고 이것들을 평균낸 후 1에서 뺀값으로 한다.   \n",
    "  분수식의 분모가 0인 경우의 정확도는 0.5로 취급한다.\n",
    "\n",
    "- 최종 결과 제출 : 소수점 3째자리 반올림     "
   ]
  },
  {
   "cell_type": "code",
   "execution_count": null,
   "id": "bbaf1c08",
   "metadata": {
    "papermill": {
     "duration": 0.011744,
     "end_time": "2022-03-09T05:15:33.148859",
     "exception": false,
     "start_time": "2022-03-09T05:15:33.137115",
     "status": "completed"
    },
    "tags": []
   },
   "outputs": [],
   "source": []
  }
 ],
 "metadata": {
  "kernelspec": {
   "display_name": "Python 3",
   "language": "python",
   "name": "python3"
  },
  "language_info": {
   "codemirror_mode": {
    "name": "ipython",
    "version": 3
   },
   "file_extension": ".py",
   "mimetype": "text/x-python",
   "name": "python",
   "nbconvert_exporter": "python",
   "pygments_lexer": "ipython3",
   "version": "3.7.12"
  },
  "papermill": {
   "default_parameters": {},
   "duration": 12.181219,
   "end_time": "2022-03-09T05:15:33.771931",
   "environment_variables": {},
   "exception": null,
   "input_path": "__notebook__.ipynb",
   "output_path": "__notebook__.ipynb",
   "parameters": {},
   "start_time": "2022-03-09T05:15:21.590712",
   "version": "2.3.3"
  }
 },
 "nbformat": 4,
 "nbformat_minor": 5
}
