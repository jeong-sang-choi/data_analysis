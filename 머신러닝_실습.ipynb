{
 "cells": [
  {
   "cell_type": "code",
   "execution_count": 1,
   "id": "74788bc9",
   "metadata": {},
   "outputs": [],
   "source": [
    "import pandas as pd\n",
    "import numpy as np\n",
    "import mglearn\n",
    "import warnings\n",
    "warnings.filterwarnings(\"ignore\")\n",
    "X,y = mglearn.datasets.load_extended_boston()"
   ]
  },
  {
   "cell_type": "code",
   "execution_count": 2,
   "id": "7ad48859",
   "metadata": {},
   "outputs": [],
   "source": [
    "from sklearn.model_selection import train_test_split\n",
    "\n",
    "X_train, X_val, y_train, y_val = train_test_split(X,y, test_size = 0.3, random_state = 0)"
   ]
  },
  {
   "cell_type": "code",
   "execution_count": 3,
   "id": "93ec9649",
   "metadata": {
    "scrolled": true
   },
   "outputs": [
    {
     "name": "stdout",
     "output_type": "stream",
     "text": [
      "MSE : 29.252507139200187\n",
      "RMSE : 5.4085586933304315\n",
      "r2_score : 0.6486839499987662\n",
      "r2_score2 : 0.6486839499987662\n"
     ]
    }
   ],
   "source": [
    "from sklearn.linear_model import LinearRegression\n",
    "from sklearn.metrics import mean_squared_error, r2_score\n",
    "\n",
    "\n",
    "lr = LinearRegression()\n",
    "lr.fit(X_train, y_train)\n",
    "pred = lr.predict(X_val)\n",
    "mse = mean_squared_error(y_val, pred)\n",
    "print(\"MSE : {}\".format(mse))\n",
    "print(\"RMSE : {}\".format(np.sqrt(mse)))\n",
    "print(\"r2_score : {}\".format(lr.score(X_val, y_val)))\n",
    "print(\"r2_score2 : {}\".format(r2_score(y_val, pred)))\n",
    "# print(\"기울기 : {}\".format(lr.coef_))\n",
    "# print(\"절편 : {}\".format(lr.intercept_))"
   ]
  },
  {
   "cell_type": "code",
   "execution_count": 4,
   "id": "c1bf399c",
   "metadata": {},
   "outputs": [],
   "source": [
    "from statsmodels.stats.outliers_influence import variance_inflation_factor"
   ]
  },
  {
   "cell_type": "code",
   "execution_count": 18,
   "id": "62b5daf3",
   "metadata": {},
   "outputs": [],
   "source": [
    "vlf_list = []\n",
    "\n",
    "for i in range(X_train.shape[1]):\n",
    "    vlf_list.append([variance_inflation_factor(X_train, i)])"
   ]
  },
  {
   "cell_type": "code",
   "execution_count": 12,
   "id": "921d46db",
   "metadata": {},
   "outputs": [
    {
     "data": {
      "text/plain": [
       "[[54851.95197767613],\n",
       " [7130.307358208186],\n",
       " [22374.003679026846],\n",
       " [inf],\n",
       " [6771.725195571671],\n",
       " [6800.801502806481],\n",
       " [10940.386138579546],\n",
       " [7326.440153114255],\n",
       " [30805.61103699408],\n",
       " [81206.29682014103],\n",
       " [10708.631478254902],\n",
       " [7673.09915025527],\n",
       " [2412.5310782263655],\n",
       " [37.29568591935402],\n",
       " [19.417800952621043],\n",
       " [325173.70523822005],\n",
       " [14.822542635807283],\n",
       " [515.0122621388858],\n",
       " [177.6698962626534],\n",
       " [844.5913175230344],\n",
       " [30.361263840820758],\n",
       " [992617.8325887014],\n",
       " [2331396.8718411014],\n",
       " [29863.383191795456],\n",
       " [44.55382393756138],\n",
       " [159.09454435609885],\n",
       " [102.57528989122348],\n",
       " [13.50994311575819],\n",
       " [6.940197261396829],\n",
       " [50.240661897464726],\n",
       " [418.7975220112337],\n",
       " [44.137292535255966],\n",
       " [171.74257241834985],\n",
       " [28.918759686656628],\n",
       " [38.43267370061432],\n",
       " [63.36677850173572],\n",
       " [5720.689018922408],\n",
       " [28.167527476576897],\n",
       " [976.1444457223474],\n",
       " [159.60310031467287],\n",
       " [4324.919106210621],\n",
       " [1405.2563175684206],\n",
       " [1312.8887738668022],\n",
       " [236.1472746520232],\n",
       " [15955.742728721658],\n",
       " [2089.0819819161215],\n",
       " [1182.2730819716621],\n",
       " [12535.760423270849],\n",
       " [680.3611244915319],\n",
       " [inf],\n",
       " [43.54460395024913],\n",
       " [66.54452884536128],\n",
       " [109.77357792721395],\n",
       " [46.706918840056126],\n",
       " [299.9566365696942],\n",
       " [581.4179288014658],\n",
       " [85.75033351489574],\n",
       " [1721.0224191287712],\n",
       " [28.873046506833788],\n",
       " [1460.6938472508925],\n",
       " [816.3944877344481],\n",
       " [2003.0770853637846],\n",
       " [228.33988622697797],\n",
       " [4687.125256661576],\n",
       " [11914.78201461558],\n",
       " [2221.4337746394094],\n",
       " [489.8957517501832],\n",
       " [426.09042536503216],\n",
       " [511.0381917123083],\n",
       " [1431.196454373623],\n",
       " [892.6111861333101],\n",
       " [1769.7700195322561],\n",
       " [3685.4182365136667],\n",
       " [1212.6116936367848],\n",
       " [1939.7178384938795],\n",
       " [271.73240131721127],\n",
       " [517.5849654039346],\n",
       " [192.68945737167698],\n",
       " [1544.8666856639843],\n",
       " [2179.227753856426],\n",
       " [942.0042722947492],\n",
       " [4824.454293806471],\n",
       " [348.6936940931124],\n",
       " [318.65110959924834],\n",
       " [147.63152523230238],\n",
       " [145.48609614531938],\n",
       " [242.36777657438887],\n",
       " [4889.377431258068],\n",
       " [146.11210677069366],\n",
       " [10769.119764749634],\n",
       " [22016.566050504647],\n",
       " [4661.350751341647],\n",
       " [13996.80735920708],\n",
       " [1116.3803685631995],\n",
       " [3293.2181411188544],\n",
       " [2255.9018623822576],\n",
       " [43271.22937793558],\n",
       " [2426.5055330537816],\n",
       " [536.9999011796662],\n",
       " [6337.725505829654],\n",
       " [597.5588322415905],\n",
       " [927.4429890846272],\n",
       " [548.5688941773963],\n",
       " [161.82339483799586]]"
      ]
     },
     "execution_count": 12,
     "metadata": {},
     "output_type": "execute_result"
    }
   ],
   "source": [
    "vlf_list"
   ]
  },
  {
   "cell_type": "code",
   "execution_count": 23,
   "id": "148d1638",
   "metadata": {},
   "outputs": [
    {
     "data": {
      "text/html": [
       "<div>\n",
       "<style scoped>\n",
       "    .dataframe tbody tr th:only-of-type {\n",
       "        vertical-align: middle;\n",
       "    }\n",
       "\n",
       "    .dataframe tbody tr th {\n",
       "        vertical-align: top;\n",
       "    }\n",
       "\n",
       "    .dataframe thead th {\n",
       "        text-align: right;\n",
       "    }\n",
       "</style>\n",
       "<table border=\"1\" class=\"dataframe\">\n",
       "  <thead>\n",
       "    <tr style=\"text-align: right;\">\n",
       "      <th></th>\n",
       "      <th>vlf</th>\n",
       "    </tr>\n",
       "  </thead>\n",
       "  <tbody>\n",
       "    <tr>\n",
       "      <th>28</th>\n",
       "      <td>6.940197</td>\n",
       "    </tr>\n",
       "  </tbody>\n",
       "</table>\n",
       "</div>"
      ],
      "text/plain": [
       "         vlf\n",
       "28  6.940197"
      ]
     },
     "execution_count": 23,
     "metadata": {},
     "output_type": "execute_result"
    }
   ],
   "source": [
    "vlf_df = pd.DataFrame(vlf_list, columns = [\"vlf\"])\n",
    "vlf_df[vlf_df[\"vlf\"] < 10] #한개 빼고 모두다 다중공선성 존재"
   ]
  },
  {
   "cell_type": "markdown",
   "id": "840421df",
   "metadata": {},
   "source": [
    "### Ridge, Lasso, ElasticNet 실습"
   ]
  },
  {
   "cell_type": "code",
   "execution_count": 33,
   "id": "5ca6303a",
   "metadata": {},
   "outputs": [
    {
     "name": "stdout",
     "output_type": "stream",
     "text": [
      "훈련 데이터 성능 : 0.8820517790991202\n",
      "테스트 데이터 성능 : 0.7834459976736695\n"
     ]
    }
   ],
   "source": [
    "import warnings\n",
    "warnings.filterwarnings(\"ignore\")\n",
    "\n",
    "from sklearn.linear_model import Ridge\n",
    "\n",
    "ridge = Ridge()\n",
    "ridge.fit(X_train, y_train)\n",
    "\n",
    "print(\"훈련 데이터 성능 : {}\".format(ridge.score(X_train, y_train)))\n",
    "print(\"테스트 데이터 성능 : {}\".format(ridge.score(X_val, y_val)))   "
   ]
  },
  {
   "cell_type": "code",
   "execution_count": 43,
   "id": "10c162f8",
   "metadata": {},
   "outputs": [
    {
     "name": "stdout",
     "output_type": "stream",
     "text": [
      "Ridge(alpha=0.05)\n",
      "grid 학습 데이터 성능 : 0.9333679643206895\n",
      "grid 테스트 데이터 성능 : 0.7877067511712756\n"
     ]
    }
   ],
   "source": [
    "# GridSearch CV로 최적의 파라미터 도출\n",
    "from sklearn.model_selection import GridSearchCV\n",
    "# alpha = \n",
    "ridge = Ridge()\n",
    "param_grid = {'alpha':(0.0001,0.0005,0.001,0.005, 0.01,0.05,0.1, 0.15, 0.2, 0.25, 0.3,0.5,1,2,3)}\n",
    "grid = GridSearchCV(ridge, param_grid = param_grid)\n",
    "grid.fit(X_train, y_train)\n",
    "pred = grid.predict(X_val)\n",
    "print(grid.best_estimator_)\n",
    "print(\"grid 학습 데이터 성능 : {}\".format(grid.score(X_train, y_train)))\n",
    "print(\"grid 테스트 데이터 성능 : {}\".format(grid.score(X_val, y_val)))\n"
   ]
  },
  {
   "cell_type": "markdown",
   "id": "c42732ee",
   "metadata": {},
   "source": [
    "### Lasso "
   ]
  },
  {
   "cell_type": "code",
   "execution_count": 44,
   "id": "a1cc7627",
   "metadata": {},
   "outputs": [
    {
     "name": "stdout",
     "output_type": "stream",
     "text": [
      "학습 데이터 성능 : 0.26489481124592407\n",
      "테스트 데이터 성능 : 0.2136447822416102\n"
     ]
    }
   ],
   "source": [
    "from sklearn.linear_model import Lasso\n",
    "\n",
    "lasso = Lasso()\n",
    "lasso.fit(X_train, y_train)\n",
    "\n",
    "print(\"학습 데이터 성능 : {}\".format(lasso.score(X_train, y_train)))\n",
    "print(\"테스트 데이터 성능 : {}\".format(lasso.score(X_val, y_val)))"
   ]
  },
  {
   "cell_type": "code",
   "execution_count": 49,
   "id": "2b32daec",
   "metadata": {},
   "outputs": [
    {
     "name": "stdout",
     "output_type": "stream",
     "text": [
      "0.8082914411591207\n"
     ]
    }
   ],
   "source": [
    "alpha = [0.0001,0.0005,0.001,0.005, 0.01,0.05,0.1, 0.15, 0.2, 0.25, 0.3,0.5,1,2,3]\n",
    "\n",
    "max_val = -197000\n",
    "for i in alpha:\n",
    "    lasso = Lasso(i)\n",
    "    lasso.fit(X_train, y_train)\n",
    "    score = lasso.score(X_val, y_val)\n",
    "    \n",
    "    if score > max_val:\n",
    "        max_val = score\n",
    "\n",
    "print(max_val)"
   ]
  },
  {
   "cell_type": "markdown",
   "id": "42565390",
   "metadata": {},
   "source": [
    "### ElasticNet"
   ]
  },
  {
   "cell_type": "code",
   "execution_count": 51,
   "id": "dfe79b91",
   "metadata": {},
   "outputs": [
    {
     "name": "stdout",
     "output_type": "stream",
     "text": [
      "훈련 데이터 성능 : 0.3096253527541134\n",
      "테스트 데이터 성능 : 0.3096253527541134\n"
     ]
    }
   ],
   "source": [
    "from sklearn.linear_model import ElasticNet\n",
    "\n",
    "elastic = ElasticNet()\n",
    "elastic.fit(X_train, y_train)\n",
    "\n",
    "print(\"훈련 데이터 성능 : {}\".format(elastic.score(X_train, y_train)))\n",
    "print(\"테스트 데이터 성능 : {}\".format(elastic.score(X_train, y_train)))"
   ]
  },
  {
   "cell_type": "code",
   "execution_count": 53,
   "id": "e5532ae2",
   "metadata": {},
   "outputs": [
    {
     "name": "stdout",
     "output_type": "stream",
     "text": [
      "best params : {'alpha': 0.0005, 'l1_ratio': 0.2}\n",
      "훈련 데이터 성능 : 0.9231617946389865\n",
      "테스트 데이터 성능 : 0.9231617946389865\n"
     ]
    }
   ],
   "source": [
    "# gridSearchCV로 최적의 파라미터 찾기\n",
    "elastic = ElasticNet()\n",
    "param_grid = {\"alpha\" : [0.0001,0.0005,0.001,0.005, 0.01,0.05,0.1, 0.15, 0.2, 0.25, 0.3,0.5,1,2,3],\\\n",
    "             \"l1_ratio\": [0.1,0.2,0.3,0.4,0.5,0.6,0.7,0.8, 0.9]}\n",
    "\n",
    "grid = GridSearchCV(elastic, param_grid = param_grid)\n",
    "grid.fit(X_train,y_train)\n",
    "\n",
    "print(\"best params : {}\".format(grid.best_params_))\n",
    "print(\"훈련 데이터 성능 : {}\".format(grid.score(X_train, y_train)))\n",
    "print(\"테스트 데이터 성능 : {}\".format(grid.score(X_train, y_train)))"
   ]
  },
  {
   "cell_type": "code",
   "execution_count": null,
   "id": "462156a8",
   "metadata": {},
   "outputs": [],
   "source": []
  },
  {
   "cell_type": "code",
   "execution_count": null,
   "id": "7d4a17ac",
   "metadata": {},
   "outputs": [],
   "source": []
  },
  {
   "cell_type": "code",
   "execution_count": null,
   "id": "36b0fa35",
   "metadata": {},
   "outputs": [],
   "source": []
  }
 ],
 "metadata": {
  "kernelspec": {
   "display_name": "Python 3 (ipykernel)",
   "language": "python",
   "name": "python3"
  },
  "language_info": {
   "codemirror_mode": {
    "name": "ipython",
    "version": 3
   },
   "file_extension": ".py",
   "mimetype": "text/x-python",
   "name": "python",
   "nbconvert_exporter": "python",
   "pygments_lexer": "ipython3",
   "version": "3.8.8"
  }
 },
 "nbformat": 4,
 "nbformat_minor": 5
}
