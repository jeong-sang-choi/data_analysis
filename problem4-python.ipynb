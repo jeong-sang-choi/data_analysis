{
 "cells": [
  {
   "cell_type": "code",
   "execution_count": 1,
   "id": "aad5c483",
   "metadata": {
    "_cell_guid": "b1076dfc-b9ad-4769-8c92-a6c4dae69d19",
    "_uuid": "8f2839f25d086af736a60e9eeb907d3b93b6e0e5",
    "execution": {
     "iopub.execute_input": "2022-03-12T12:17:46.095279Z",
     "iopub.status.busy": "2022-03-12T12:17:46.094118Z",
     "iopub.status.idle": "2022-03-12T12:17:46.115572Z",
     "shell.execute_reply": "2022-03-12T12:17:46.116362Z",
     "shell.execute_reply.started": "2022-01-10T17:02:42.211394Z"
    },
    "papermill": {
     "duration": 0.043985,
     "end_time": "2022-03-12T12:17:46.116992",
     "exception": false,
     "start_time": "2022-03-12T12:17:46.073007",
     "status": "completed"
    },
    "tags": []
   },
   "outputs": [
    {
     "name": "stdout",
     "output_type": "stream",
     "text": [
      "/kaggle/input/adp-kr-p4/problem2_usage_history.csv\n",
      "/kaggle/input/adp-kr-p4/problem1.csv\n",
      "/kaggle/input/adp-kr-p4/problem2_usage.csv\n",
      "/kaggle/input/adp-kr-p4/problem2_avg_tem.csv\n"
     ]
    }
   ],
   "source": [
    "# This Python 3 environment comes with many helpful analytics libraries installed\n",
    "# It is defined by the kaggle/python Docker image: https://github.com/kaggle/docker-python\n",
    "# For example, here's several helpful packages to load\n",
    "\n",
    "import numpy as np # linear algebra\n",
    "import pandas as pd # data processing, CSV file I/O (e.g. pd.read_csv)\n",
    "\n",
    "# Input data files are available in the read-only \"../input/\" directory\n",
    "# For example, running this (by clicking run or pressing Shift+Enter) will list all files under the input directory\n",
    "\n",
    "import os\n",
    "for dirname, _, filenames in os.walk('/kaggle/input'):\n",
    "    for filename in filenames:\n",
    "        print(os.path.join(dirname, filename))\n",
    "\n",
    "# You can write up to 20GB to the current directory (/kaggle/working/) that gets preserved as output when you create a version using \"Save & Run All\" \n",
    "# You can also write temporary files to /kaggle/temp/, but they won't be saved outside of the current session"
   ]
  },
  {
   "cell_type": "markdown",
   "id": "2655a5ea",
   "metadata": {
    "papermill": {
     "duration": 0.011543,
     "end_time": "2022-03-12T12:17:46.142330",
     "exception": false,
     "start_time": "2022-03-12T12:17:46.130787",
     "status": "completed"
    },
    "tags": []
   },
   "source": [
    "# 1번\n",
    "철강데이터 종속변수 : target     \n",
    "데이터 출처 : https://www.kaggle.com/uciml/faulty-steel-plates    \n",
    "데이터 경로 : /kaggle/input/adp-kr-p4/problem1.csv\n"
   ]
  },
  {
   "cell_type": "markdown",
   "id": "b08f05db",
   "metadata": {
    "papermill": {
     "duration": 0.011144,
     "end_time": "2022-03-12T12:17:46.164813",
     "exception": false,
     "start_time": "2022-03-12T12:17:46.153669",
     "status": "completed"
    },
    "tags": []
   },
   "source": [
    "### 1-1  EDA(탐색적 데이터 분석)을 하시오\n",
    "(시각화와 통계량을 제시할 것)"
   ]
  },
  {
   "cell_type": "code",
   "execution_count": null,
   "id": "af373400",
   "metadata": {
    "papermill": {
     "duration": 0.011318,
     "end_time": "2022-03-12T12:17:46.187739",
     "exception": false,
     "start_time": "2022-03-12T12:17:46.176421",
     "status": "completed"
    },
    "tags": []
   },
   "outputs": [],
   "source": []
  },
  {
   "cell_type": "markdown",
   "id": "7e78b469",
   "metadata": {
    "papermill": {
     "duration": 0.011229,
     "end_time": "2022-03-12T12:17:46.210571",
     "exception": false,
     "start_time": "2022-03-12T12:17:46.199342",
     "status": "completed"
    },
    "tags": []
   },
   "source": [
    "### 1-2 변수 선택(VIF), 파생변수 생성, 데이터 분할(train/test(20%))\n",
    "(시각화와 통계량을 제시할 것)"
   ]
  },
  {
   "cell_type": "code",
   "execution_count": null,
   "id": "79f275d5",
   "metadata": {
    "papermill": {
     "duration": 0.011268,
     "end_time": "2022-03-12T12:17:46.233301",
     "exception": false,
     "start_time": "2022-03-12T12:17:46.222033",
     "status": "completed"
    },
    "tags": []
   },
   "outputs": [],
   "source": []
  },
  {
   "cell_type": "markdown",
   "id": "fd360e62",
   "metadata": {
    "papermill": {
     "duration": 0.011327,
     "end_time": "2022-03-12T12:17:46.256098",
     "exception": false,
     "start_time": "2022-03-12T12:17:46.244771",
     "status": "completed"
    },
    "tags": []
   },
   "source": [
    "### 1-3 종속변수들중 \"1\"인지 아닌지 판단하려한다. 종속변수를 1과 1이 아닌 값(이항)으로 치환하고 로지스틱 회귀 분석을 실시하라.\n",
    "confusionMatrix를 확인하고 최적의 cut off value 정하여라."
   ]
  },
  {
   "cell_type": "code",
   "execution_count": null,
   "id": "416cba71",
   "metadata": {
    "papermill": {
     "duration": 0.011289,
     "end_time": "2022-03-12T12:17:46.278700",
     "exception": false,
     "start_time": "2022-03-12T12:17:46.267411",
     "status": "completed"
    },
    "tags": []
   },
   "outputs": [],
   "source": []
  },
  {
   "cell_type": "markdown",
   "id": "894cf087",
   "metadata": {
    "papermill": {
     "duration": 0.011134,
     "end_time": "2022-03-12T12:17:46.301195",
     "exception": false,
     "start_time": "2022-03-12T12:17:46.290061",
     "status": "completed"
    },
    "tags": []
   },
   "source": [
    "### 1-4 종속변수(y)를 다항(7 class)인 상태에서 SVM을 포함하여 3가지 알고리즘으로 평가하라.\n",
    "각 모델에서 confusionMatrix를 확인하고 최적의 cut off value 를 정하여라."
   ]
  },
  {
   "cell_type": "code",
   "execution_count": null,
   "id": "79a5e4af",
   "metadata": {
    "papermill": {
     "duration": 0.011067,
     "end_time": "2022-03-12T12:17:46.324003",
     "exception": false,
     "start_time": "2022-03-12T12:17:46.312936",
     "status": "completed"
    },
    "tags": []
   },
   "outputs": [],
   "source": []
  },
  {
   "cell_type": "markdown",
   "id": "92b2c62e",
   "metadata": {
    "papermill": {
     "duration": 0.011034,
     "end_time": "2022-03-12T12:17:46.346297",
     "exception": false,
     "start_time": "2022-03-12T12:17:46.335263",
     "status": "completed"
    },
    "tags": []
   },
   "source": [
    "### 1-5 종속변수를 제외한 나머지 데이터를 바탕으로 군집분석을 실시하고 최적의 군집수와 군집 레이블을 구하여라. \n",
    "군집레이블을 추가한 데이터를 1-4에서 만든 모델중 가장 성능이 좋았던 하나의 모델에 다시 학습하여 F1-score를 비교하라 "
   ]
  },
  {
   "cell_type": "code",
   "execution_count": null,
   "id": "0780efc0",
   "metadata": {
    "papermill": {
     "duration": 0.01103,
     "end_time": "2022-03-12T12:17:46.368774",
     "exception": false,
     "start_time": "2022-03-12T12:17:46.357744",
     "status": "completed"
    },
    "tags": []
   },
   "outputs": [],
   "source": []
  },
  {
   "cell_type": "markdown",
   "id": "1d5369b7",
   "metadata": {
    "papermill": {
     "duration": 0.011325,
     "end_time": "2022-03-12T12:17:46.392010",
     "exception": false,
     "start_time": "2022-03-12T12:17:46.380685",
     "status": "completed"
    },
    "tags": []
   },
   "source": [
    "# 2번 전력데이터\n",
    "데이터 출처 : 직접제작    \n",
    "데이터 설명 : 2050년 1년동안의 5유형(A,B,C,D,E)의 전력사용량을 나타낸다. 각유형의 전력사용량은 1분마다 갱신되며 그 값은 누적된다.       \n",
    "6시간이 지나면(00:00, 06:00, 12:00, 18:00시에) 전력사용량은 0으로 초기화 된다.\n",
    "\n",
    "- /kaggle/input/adp-kr-p4/problem2_usage.csv   \n",
    "6시간 간격의 총 전력사용량의 데이터이다. timestamp순서는 섞여있다.      \n",
    "6시간 간격의 특정 시간대(마지막시각 '05:59','11:59','17:59','23:59')의 전력 총합을 나타낸다.     \n",
    "데이터의 총합을 구해서 비교할때 부동소수점 오류가 날수 있다. 파이썬의 경우 round(4)를 취하여 해결한다.    \n",
    "\n",
    "\n",
    "- /kaggle/input/adp-kr-p4/problem2_usage_history.csv   \n",
    "1분간격의 A,B,C,D,E 유형의 소비 누적 전력을 나타낸다. 같은 6시간간격의 시간대의 데이터는 같은 \"6hour_index\"값을 가진다.    \n",
    "00:00, 06:00, 12:00, 18:00시에는 5유형의 전력은 초기화 된다.     \n",
    "데이터의 총합을 구해서 비교할때 부동소수점 오류가 날수 있다. 파이썬의 경우 round(4)를 취하여 해결한다.     \n",
    " \n",
    "\n",
    "- /kaggle/input/adp-kr-p4/problem2_avg_tem.csv    \n",
    "2050년 1년동안 일자별 평균 온도를 나타낸다     "
   ]
  },
  {
   "cell_type": "markdown",
   "id": "52c3ae69",
   "metadata": {
    "papermill": {
     "duration": 0.011098,
     "end_time": "2022-03-12T12:17:46.414457",
     "exception": false,
     "start_time": "2022-03-12T12:17:46.403359",
     "status": "completed"
    },
    "tags": []
   },
   "source": [
    "### 2-1 usage의 총사용량을 아래와 같은 모양으로 연월별 총합으로 계산하여 CSV 파일로 작성하시오.    \n",
    "- 일자별 총사용량은 누적사용량이 갱신되기 직전의 최대값들의 합으로 계산한다     \n",
    "- ['05:59','11:59','17:59','23:59'] 시간대의 A,B,C,D,E의 컬럼별 총합이 각 유형의 일일 사용량이다     "
   ]
  },
  {
   "cell_type": "markdown",
   "id": "45faa3e8",
   "metadata": {
    "papermill": {
     "duration": 0.015873,
     "end_time": "2022-03-12T12:17:46.442489",
     "exception": false,
     "start_time": "2022-03-12T12:17:46.426616",
     "status": "completed"
    },
    "tags": []
   },
   "source": [
    "![image](https://github.com/Datamanim/datarepo/blob/main/adp/p4/p2.png?raw=true)"
   ]
  },
  {
   "cell_type": "markdown",
   "id": "4131b605",
   "metadata": {
    "papermill": {
     "duration": 0.015903,
     "end_time": "2022-03-12T12:17:46.474621",
     "exception": false,
     "start_time": "2022-03-12T12:17:46.458718",
     "status": "completed"
    },
    "tags": []
   },
   "source": []
  },
  {
   "cell_type": "code",
   "execution_count": null,
   "id": "c40e37e1",
   "metadata": {
    "papermill": {
     "duration": 0.015937,
     "end_time": "2022-03-12T12:17:46.506572",
     "exception": false,
     "start_time": "2022-03-12T12:17:46.490635",
     "status": "completed"
    },
    "tags": []
   },
   "outputs": [],
   "source": []
  },
  {
   "cell_type": "markdown",
   "id": "b4e3cfa8",
   "metadata": {
    "papermill": {
     "duration": 0.015946,
     "end_time": "2022-03-12T12:17:46.538539",
     "exception": false,
     "start_time": "2022-03-12T12:17:46.522593",
     "status": "completed"
    },
    "tags": []
   },
   "source": [
    "### 2-2 가로축을 요일(일~월) 세로축을 평균 전력사용량으로 하는 그래프를 그려라. 각 유형별로 색을 다르게 표현하여 5개의 line plot을 그리며 범례를 표시하라"
   ]
  },
  {
   "cell_type": "code",
   "execution_count": null,
   "id": "c5be64ef",
   "metadata": {
    "papermill": {
     "duration": 0.015355,
     "end_time": "2022-03-12T12:17:46.570275",
     "exception": false,
     "start_time": "2022-03-12T12:17:46.554920",
     "status": "completed"
    },
    "tags": []
   },
   "outputs": [],
   "source": []
  },
  {
   "cell_type": "markdown",
   "id": "9b29988c",
   "metadata": {
    "papermill": {
     "duration": 0.016213,
     "end_time": "2022-03-12T12:17:46.602539",
     "exception": false,
     "start_time": "2022-03-12T12:17:46.586326",
     "status": "completed"
    },
    "tags": []
   },
   "source": [
    "### 2-3 요일별 각 유형의 평균 전력 사용량 간에 연관성이 있는지 검정하라"
   ]
  },
  {
   "cell_type": "code",
   "execution_count": null,
   "id": "b51c3f4b",
   "metadata": {
    "papermill": {
     "duration": 0.016119,
     "end_time": "2022-03-12T12:17:46.635441",
     "exception": false,
     "start_time": "2022-03-12T12:17:46.619322",
     "status": "completed"
    },
    "tags": []
   },
   "outputs": [],
   "source": []
  },
  {
   "cell_type": "markdown",
   "id": "8a5eb1d7",
   "metadata": {
    "papermill": {
     "duration": 0.016993,
     "end_time": "2022-03-12T12:17:46.669456",
     "exception": false,
     "start_time": "2022-03-12T12:17:46.652463",
     "status": "completed"
    },
    "tags": []
   },
   "source": [
    "### 2-4 일자(매일)마다 각 유형의 전력사용량의 합을 데이터프레임으로 구하고 일자 데이터에서의 유형별 온도와의 상관계수를 각각 구하여라"
   ]
  },
  {
   "cell_type": "code",
   "execution_count": null,
   "id": "25d01508",
   "metadata": {
    "papermill": {
     "duration": 0.016835,
     "end_time": "2022-03-12T12:17:46.703647",
     "exception": false,
     "start_time": "2022-03-12T12:17:46.686812",
     "status": "completed"
    },
    "tags": []
   },
   "outputs": [],
   "source": []
  }
 ],
 "metadata": {
  "kernelspec": {
   "display_name": "Python 3",
   "language": "python",
   "name": "python3"
  },
  "language_info": {
   "codemirror_mode": {
    "name": "ipython",
    "version": 3
   },
   "file_extension": ".py",
   "mimetype": "text/x-python",
   "name": "python",
   "nbconvert_exporter": "python",
   "pygments_lexer": "ipython3",
   "version": "3.7.12"
  },
  "papermill": {
   "default_parameters": {},
   "duration": 10.914524,
   "end_time": "2022-03-12T12:17:47.531401",
   "environment_variables": {},
   "exception": null,
   "input_path": "__notebook__.ipynb",
   "output_path": "__notebook__.ipynb",
   "parameters": {},
   "start_time": "2022-03-12T12:17:36.616877",
   "version": "2.3.3"
  }
 },
 "nbformat": 4,
 "nbformat_minor": 5
}
