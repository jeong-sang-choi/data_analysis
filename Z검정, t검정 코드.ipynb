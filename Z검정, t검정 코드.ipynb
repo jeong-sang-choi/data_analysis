{
 "cells": [
  {
   "cell_type": "markdown",
   "id": "d81d1776",
   "metadata": {},
   "source": [
    "A생산라인의 제품 평균은 5.7mm이고 표준편차는 0.03, B생산라인의 제품 평균은 5.6mm이고 표준편차는 0.04라면 5%유의수준으로 두 제품의 평균이 차이가 있는지 여부를 검정하기 (Z통계량도 제공 - Z(0.05) = 1.65, 위의 구체적인 숫자는 실제 시험 때 숫자랑 정확하게 맞지는 않음)\n",
    "귀무가설과 대립가설 세우기\n",
    "두 평균이 차이가 있는지 검정 하기 "
   ]
  },
  {
   "cell_type": "code",
   "execution_count": 1,
   "id": "f3306d1a",
   "metadata": {},
   "outputs": [],
   "source": [
    "def z_score(N,sigma1,sigma2, X1_mean, X2_mean):\n",
    "    z_score = (X1_mean - X2_mean)/np.sqrt((sigma1**2)/100 + (sigma2**2)/100)\n",
    "    \n",
    "    return (z_score, (2 * (1-sp.stats.norm.cdf(z_score))))\n",
    "\n",
    "#https://www.geeksforgeeks.org/how-to-find-a-p-value-from-a-z-score-in-python/\n",
    "# st.norm.cdf(z_score)\n",
    "# (2 * (1-sp.stats.norm.cdf(z_score)))\n",
    "#https://www.statology.org/p-value-from-z-score-python/ 헷갈림"
   ]
  },
  {
   "cell_type": "code",
   "execution_count": 3,
   "id": "d25d9147",
   "metadata": {},
   "outputs": [
    {
     "data": {
      "text/plain": [
       "(20.000000000000107, 0.0)"
      ]
     },
     "execution_count": 3,
     "metadata": {},
     "output_type": "execute_result"
    }
   ],
   "source": [
    "import numpy as np\n",
    "import scipy as sp\n",
    "import scipy.stats as st\n",
    "from scipy import stats\n",
    "z_score(100,0.03,0.04,5.7,5.6)"
   ]
  },
  {
   "cell_type": "markdown",
   "id": "01097a79",
   "metadata": {},
   "source": [
    "한국 남성의 발사이즈 분산은 100으로 알려져 있고, 여성의 발사이즈 분산은 90으로 알려져 있다. 한국 남성 100명과 여성 100명을 각각 임의추출하였고, 평균을 구했더니 245.7과 230.0 이 나왔다. 두 집단의 유의차가 있는가? "
   ]
  },
  {
   "cell_type": "code",
   "execution_count": 64,
   "id": "a85abf7d",
   "metadata": {},
   "outputs": [
    {
     "data": {
      "text/plain": [
       "(4.135214625627058, 3.546230491457969e-05)"
      ]
     },
     "execution_count": 64,
     "metadata": {},
     "output_type": "execute_result"
    }
   ],
   "source": [
    "z_score(100, 10,np.sqrt(90),245.7, 240.0)"
   ]
  }
 ],
 "metadata": {
  "kernelspec": {
   "display_name": "Python 3 (ipykernel)",
   "language": "python",
   "name": "python3"
  },
  "language_info": {
   "codemirror_mode": {
    "name": "ipython",
    "version": 3
   },
   "file_extension": ".py",
   "mimetype": "text/x-python",
   "name": "python",
   "nbconvert_exporter": "python",
   "pygments_lexer": "ipython3",
   "version": "3.8.8"
  }
 },
 "nbformat": 4,
 "nbformat_minor": 5
}
