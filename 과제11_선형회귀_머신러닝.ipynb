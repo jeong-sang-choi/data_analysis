{
 "cells": [
  {
   "cell_type": "markdown",
   "id": "fee3317e",
   "metadata": {
    "toc": true
   },
   "source": [
    "<h1>Table of Contents<span class=\"tocSkip\"></span></h1>\n",
    "<div class=\"toc\"><ul class=\"toc-item\"><li><span><a href=\"#11.Ridge,-Lasso,-Elastic-선형회귀분석-과제\" data-toc-modified-id=\"11.Ridge,-Lasso,-Elastic-선형회귀분석-과제-1\"><span class=\"toc-item-num\">1&nbsp;&nbsp;</span>11.Ridge, Lasso, Elastic 선형회귀분석 과제</a></span><ul class=\"toc-item\"><li><span><a href=\"#전처리-:--id,-date-삭제\" data-toc-modified-id=\"전처리-:--id,-date-삭제-1.1\"><span class=\"toc-item-num\">1.1&nbsp;&nbsp;</span>전처리 :  id, date 삭제</a></span></li><li><span><a href=\"#범주형-변수-전처리\" data-toc-modified-id=\"범주형-변수-전처리-1.2\"><span class=\"toc-item-num\">1.2&nbsp;&nbsp;</span>범주형 변수 전처리</a></span></li><li><span><a href=\"#종속변수-y-=-price-,-나머지는-독립변수-X로-설정\" data-toc-modified-id=\"종속변수-y-=-price-,-나머지는-독립변수-X로-설정-1.3\"><span class=\"toc-item-num\">1.3&nbsp;&nbsp;</span>종속변수 y = price , 나머지는 독립변수 X로 설정</a></span></li><li><span><a href=\"#홀드아웃-기법을-사용하여-데이터-분할\" data-toc-modified-id=\"홀드아웃-기법을-사용하여-데이터-분할-1.4\"><span class=\"toc-item-num\">1.4&nbsp;&nbsp;</span>홀드아웃 기법을 사용하여 데이터 분할</a></span></li><li><span><a href=\"#Ridge-회귀분석을-하여-R2-값과-RMSE값을-구하고-설명하세요.\" data-toc-modified-id=\"Ridge-회귀분석을-하여-R2-값과-RMSE값을-구하고-설명하세요.-1.5\"><span class=\"toc-item-num\">1.5&nbsp;&nbsp;</span>Ridge 회귀분석을 하여 R2 값과 RMSE값을 구하고 설명하세요.</a></span></li><li><span><a href=\"#스케일링-한-데이터셋의-결과와-스케일링-하지-않은-데이터-셋의-결과를-비교해보세요.\" data-toc-modified-id=\"스케일링-한-데이터셋의-결과와-스케일링-하지-않은-데이터-셋의-결과를-비교해보세요.-1.6\"><span class=\"toc-item-num\">1.6&nbsp;&nbsp;</span>스케일링 한 데이터셋의 결과와 스케일링 하지 않은 데이터 셋의 결과를 비교해보세요.</a></span></li><li><span><a href=\"#회귀-계수-중-집값과-상관성이-높은-3가지-변수를-해석하세요\" data-toc-modified-id=\"회귀-계수-중-집값과-상관성이-높은-3가지-변수를-해석하세요-1.7\"><span class=\"toc-item-num\">1.7&nbsp;&nbsp;</span>회귀 계수 중 집값과 상관성이 높은 3가지 변수를 해석하세요</a></span></li></ul></li></ul></div>"
   ]
  },
  {
   "cell_type": "markdown",
   "id": "f4c4847d",
   "metadata": {},
   "source": [
    "# 11.Ridge, Lasso, Elastic 선형회귀분석 과제 "
   ]
  },
  {
   "cell_type": "markdown",
   "id": "411d2b56",
   "metadata": {},
   "source": [
    "변수 설명 \n",
    "\n",
    "id - 판매된 각 주택의 고유 ID <br>\n",
    "date  - 주택 판매 날짜<br>\n",
    "price - 판매된 각 주택의 가격<br>\n",
    "bedrooms  - 침실 수<br>\n",
    "bathrooms  - 화장실이 있지만 샤워 시설은 없는 방을 0.5로 설명하는 욕실 수<br>\n",
    "sqft_living - 아파트 내부 생활 공간의 평방 피트<br>\n",
    "sqft_lot - 토지 공간의 평방 피트수<br>\n",
    "floors  - 층 수<br>\n",
    "waterfront - 아파트가 해안가를 내려다보고 있는지 여부에 대한 더미 변수<br>\n",
    "view - 부동산에 대한 뷰가 얼마나 좋았는지에 대한 0에서 4 사이의 인덱스<br>\n",
    "condition - 아파트 상태에 대한 1에서 5까지의 지수,<br>\n",
    "grade - 1-13까지의 수로,1-3은 건축 및 설계 미달, 7은 시공 및 설계 평균, 11-13은 시공 및 설계 수준 높은 수준이다.<br>\n",
    "sqft_above - 지면보다 높은 내부 주택 공간의 평방 피트수<br>\n",
    "sqft_basement - 지면 아래에 있는 내부 주택 공간의 평방 피트수<br>\n",
    "yr_built - 집이 처음 지어진 연도<br>\n",
    "yr_renovated - 집의 마지막 리모델링 연도<br>\n",
    "sqft_living15 - 가장 가까운 이웃 15명을 위한 내부 주택 생활 공간의 평방 피트<br>\n",
    "sqft_lot15 - 가장 가까운 15개 이웃 토지 부지의 평방 피트수<br>"
   ]
  },
  {
   "cell_type": "code",
   "execution_count": 20,
   "id": "20585f2c",
   "metadata": {
    "scrolled": false
   },
   "outputs": [
    {
     "data": {
      "text/html": [
       "<div>\n",
       "<style scoped>\n",
       "    .dataframe tbody tr th:only-of-type {\n",
       "        vertical-align: middle;\n",
       "    }\n",
       "\n",
       "    .dataframe tbody tr th {\n",
       "        vertical-align: top;\n",
       "    }\n",
       "\n",
       "    .dataframe thead th {\n",
       "        text-align: right;\n",
       "    }\n",
       "</style>\n",
       "<table border=\"1\" class=\"dataframe\">\n",
       "  <thead>\n",
       "    <tr style=\"text-align: right;\">\n",
       "      <th></th>\n",
       "      <th>id</th>\n",
       "      <th>date</th>\n",
       "      <th>price</th>\n",
       "      <th>bedrooms</th>\n",
       "      <th>bathrooms</th>\n",
       "      <th>sqft_living</th>\n",
       "      <th>sqft_lot</th>\n",
       "      <th>floors</th>\n",
       "      <th>waterfront</th>\n",
       "      <th>view</th>\n",
       "      <th>condition</th>\n",
       "      <th>grade</th>\n",
       "      <th>sqft_above</th>\n",
       "      <th>sqft_basement</th>\n",
       "      <th>yr_built</th>\n",
       "      <th>yr_renovated</th>\n",
       "      <th>sqft_living15</th>\n",
       "      <th>sqft_lot15</th>\n",
       "    </tr>\n",
       "  </thead>\n",
       "  <tbody>\n",
       "    <tr>\n",
       "      <th>0</th>\n",
       "      <td>7129300520</td>\n",
       "      <td>20141013T000000</td>\n",
       "      <td>221900.0</td>\n",
       "      <td>3</td>\n",
       "      <td>1.00</td>\n",
       "      <td>1180</td>\n",
       "      <td>5650</td>\n",
       "      <td>1.0</td>\n",
       "      <td>standard</td>\n",
       "      <td>0</td>\n",
       "      <td>3</td>\n",
       "      <td>7</td>\n",
       "      <td>1180</td>\n",
       "      <td>0</td>\n",
       "      <td>1955</td>\n",
       "      <td>0</td>\n",
       "      <td>1340</td>\n",
       "      <td>5650</td>\n",
       "    </tr>\n",
       "    <tr>\n",
       "      <th>1</th>\n",
       "      <td>6414100192</td>\n",
       "      <td>20141209T000000</td>\n",
       "      <td>538000.0</td>\n",
       "      <td>3</td>\n",
       "      <td>2.25</td>\n",
       "      <td>2570</td>\n",
       "      <td>7242</td>\n",
       "      <td>2.0</td>\n",
       "      <td>standard</td>\n",
       "      <td>0</td>\n",
       "      <td>3</td>\n",
       "      <td>7</td>\n",
       "      <td>2170</td>\n",
       "      <td>400</td>\n",
       "      <td>1951</td>\n",
       "      <td>1991</td>\n",
       "      <td>1690</td>\n",
       "      <td>7639</td>\n",
       "    </tr>\n",
       "    <tr>\n",
       "      <th>2</th>\n",
       "      <td>5631500400</td>\n",
       "      <td>20150225T000000</td>\n",
       "      <td>180000.0</td>\n",
       "      <td>2</td>\n",
       "      <td>1.00</td>\n",
       "      <td>770</td>\n",
       "      <td>10000</td>\n",
       "      <td>1.0</td>\n",
       "      <td>standard</td>\n",
       "      <td>0</td>\n",
       "      <td>3</td>\n",
       "      <td>6</td>\n",
       "      <td>770</td>\n",
       "      <td>0</td>\n",
       "      <td>1933</td>\n",
       "      <td>0</td>\n",
       "      <td>2720</td>\n",
       "      <td>8062</td>\n",
       "    </tr>\n",
       "    <tr>\n",
       "      <th>3</th>\n",
       "      <td>2487200875</td>\n",
       "      <td>20141209T000000</td>\n",
       "      <td>604000.0</td>\n",
       "      <td>4</td>\n",
       "      <td>3.00</td>\n",
       "      <td>1960</td>\n",
       "      <td>5000</td>\n",
       "      <td>1.0</td>\n",
       "      <td>standard</td>\n",
       "      <td>0</td>\n",
       "      <td>5</td>\n",
       "      <td>7</td>\n",
       "      <td>1050</td>\n",
       "      <td>910</td>\n",
       "      <td>1965</td>\n",
       "      <td>0</td>\n",
       "      <td>1360</td>\n",
       "      <td>5000</td>\n",
       "    </tr>\n",
       "    <tr>\n",
       "      <th>4</th>\n",
       "      <td>1954400510</td>\n",
       "      <td>20150218T000000</td>\n",
       "      <td>510000.0</td>\n",
       "      <td>3</td>\n",
       "      <td>2.00</td>\n",
       "      <td>1680</td>\n",
       "      <td>8080</td>\n",
       "      <td>1.0</td>\n",
       "      <td>standard</td>\n",
       "      <td>0</td>\n",
       "      <td>3</td>\n",
       "      <td>8</td>\n",
       "      <td>1680</td>\n",
       "      <td>0</td>\n",
       "      <td>1987</td>\n",
       "      <td>0</td>\n",
       "      <td>1800</td>\n",
       "      <td>7503</td>\n",
       "    </tr>\n",
       "    <tr>\n",
       "      <th>...</th>\n",
       "      <td>...</td>\n",
       "      <td>...</td>\n",
       "      <td>...</td>\n",
       "      <td>...</td>\n",
       "      <td>...</td>\n",
       "      <td>...</td>\n",
       "      <td>...</td>\n",
       "      <td>...</td>\n",
       "      <td>...</td>\n",
       "      <td>...</td>\n",
       "      <td>...</td>\n",
       "      <td>...</td>\n",
       "      <td>...</td>\n",
       "      <td>...</td>\n",
       "      <td>...</td>\n",
       "      <td>...</td>\n",
       "      <td>...</td>\n",
       "      <td>...</td>\n",
       "    </tr>\n",
       "    <tr>\n",
       "      <th>21608</th>\n",
       "      <td>263000018</td>\n",
       "      <td>20140521T000000</td>\n",
       "      <td>360000.0</td>\n",
       "      <td>3</td>\n",
       "      <td>2.50</td>\n",
       "      <td>1530</td>\n",
       "      <td>1131</td>\n",
       "      <td>3.0</td>\n",
       "      <td>standard</td>\n",
       "      <td>0</td>\n",
       "      <td>3</td>\n",
       "      <td>8</td>\n",
       "      <td>1530</td>\n",
       "      <td>0</td>\n",
       "      <td>2009</td>\n",
       "      <td>0</td>\n",
       "      <td>1530</td>\n",
       "      <td>1509</td>\n",
       "    </tr>\n",
       "    <tr>\n",
       "      <th>21609</th>\n",
       "      <td>6600060120</td>\n",
       "      <td>20150223T000000</td>\n",
       "      <td>400000.0</td>\n",
       "      <td>4</td>\n",
       "      <td>2.50</td>\n",
       "      <td>2310</td>\n",
       "      <td>5813</td>\n",
       "      <td>2.0</td>\n",
       "      <td>standard</td>\n",
       "      <td>0</td>\n",
       "      <td>3</td>\n",
       "      <td>8</td>\n",
       "      <td>2310</td>\n",
       "      <td>0</td>\n",
       "      <td>2014</td>\n",
       "      <td>0</td>\n",
       "      <td>1830</td>\n",
       "      <td>7200</td>\n",
       "    </tr>\n",
       "    <tr>\n",
       "      <th>21610</th>\n",
       "      <td>1523300141</td>\n",
       "      <td>20140623T000000</td>\n",
       "      <td>402101.0</td>\n",
       "      <td>2</td>\n",
       "      <td>0.75</td>\n",
       "      <td>1020</td>\n",
       "      <td>1350</td>\n",
       "      <td>2.0</td>\n",
       "      <td>standard</td>\n",
       "      <td>0</td>\n",
       "      <td>3</td>\n",
       "      <td>7</td>\n",
       "      <td>1020</td>\n",
       "      <td>0</td>\n",
       "      <td>2009</td>\n",
       "      <td>0</td>\n",
       "      <td>1020</td>\n",
       "      <td>2007</td>\n",
       "    </tr>\n",
       "    <tr>\n",
       "      <th>21611</th>\n",
       "      <td>291310100</td>\n",
       "      <td>20150116T000000</td>\n",
       "      <td>400000.0</td>\n",
       "      <td>3</td>\n",
       "      <td>2.50</td>\n",
       "      <td>1600</td>\n",
       "      <td>2388</td>\n",
       "      <td>2.0</td>\n",
       "      <td>standard</td>\n",
       "      <td>0</td>\n",
       "      <td>3</td>\n",
       "      <td>8</td>\n",
       "      <td>1600</td>\n",
       "      <td>0</td>\n",
       "      <td>2004</td>\n",
       "      <td>0</td>\n",
       "      <td>1410</td>\n",
       "      <td>1287</td>\n",
       "    </tr>\n",
       "    <tr>\n",
       "      <th>21612</th>\n",
       "      <td>1523300157</td>\n",
       "      <td>20141015T000000</td>\n",
       "      <td>325000.0</td>\n",
       "      <td>2</td>\n",
       "      <td>0.75</td>\n",
       "      <td>1020</td>\n",
       "      <td>1076</td>\n",
       "      <td>2.0</td>\n",
       "      <td>standard</td>\n",
       "      <td>0</td>\n",
       "      <td>3</td>\n",
       "      <td>7</td>\n",
       "      <td>1020</td>\n",
       "      <td>0</td>\n",
       "      <td>2008</td>\n",
       "      <td>0</td>\n",
       "      <td>1020</td>\n",
       "      <td>1357</td>\n",
       "    </tr>\n",
       "  </tbody>\n",
       "</table>\n",
       "<p>21613 rows × 18 columns</p>\n",
       "</div>"
      ],
      "text/plain": [
       "               id             date     price  bedrooms  bathrooms  \\\n",
       "0      7129300520  20141013T000000  221900.0         3       1.00   \n",
       "1      6414100192  20141209T000000  538000.0         3       2.25   \n",
       "2      5631500400  20150225T000000  180000.0         2       1.00   \n",
       "3      2487200875  20141209T000000  604000.0         4       3.00   \n",
       "4      1954400510  20150218T000000  510000.0         3       2.00   \n",
       "...           ...              ...       ...       ...        ...   \n",
       "21608   263000018  20140521T000000  360000.0         3       2.50   \n",
       "21609  6600060120  20150223T000000  400000.0         4       2.50   \n",
       "21610  1523300141  20140623T000000  402101.0         2       0.75   \n",
       "21611   291310100  20150116T000000  400000.0         3       2.50   \n",
       "21612  1523300157  20141015T000000  325000.0         2       0.75   \n",
       "\n",
       "       sqft_living  sqft_lot  floors waterfront  view  condition  grade  \\\n",
       "0             1180      5650     1.0   standard     0          3      7   \n",
       "1             2570      7242     2.0   standard     0          3      7   \n",
       "2              770     10000     1.0   standard     0          3      6   \n",
       "3             1960      5000     1.0   standard     0          5      7   \n",
       "4             1680      8080     1.0   standard     0          3      8   \n",
       "...            ...       ...     ...        ...   ...        ...    ...   \n",
       "21608         1530      1131     3.0   standard     0          3      8   \n",
       "21609         2310      5813     2.0   standard     0          3      8   \n",
       "21610         1020      1350     2.0   standard     0          3      7   \n",
       "21611         1600      2388     2.0   standard     0          3      8   \n",
       "21612         1020      1076     2.0   standard     0          3      7   \n",
       "\n",
       "       sqft_above  sqft_basement  yr_built  yr_renovated  sqft_living15  \\\n",
       "0            1180              0      1955             0           1340   \n",
       "1            2170            400      1951          1991           1690   \n",
       "2             770              0      1933             0           2720   \n",
       "3            1050            910      1965             0           1360   \n",
       "4            1680              0      1987             0           1800   \n",
       "...           ...            ...       ...           ...            ...   \n",
       "21608        1530              0      2009             0           1530   \n",
       "21609        2310              0      2014             0           1830   \n",
       "21610        1020              0      2009             0           1020   \n",
       "21611        1600              0      2004             0           1410   \n",
       "21612        1020              0      2008             0           1020   \n",
       "\n",
       "       sqft_lot15  \n",
       "0            5650  \n",
       "1            7639  \n",
       "2            8062  \n",
       "3            5000  \n",
       "4            7503  \n",
       "...           ...  \n",
       "21608        1509  \n",
       "21609        7200  \n",
       "21610        2007  \n",
       "21611        1287  \n",
       "21612        1357  \n",
       "\n",
       "[21613 rows x 18 columns]"
      ]
     },
     "execution_count": 20,
     "metadata": {},
     "output_type": "execute_result"
    }
   ],
   "source": [
    "import pandas as pd \n",
    "df = pd.read_csv(\"kc_house_data.csv\")\n",
    "df"
   ]
  },
  {
   "cell_type": "markdown",
   "id": "7824fe7c",
   "metadata": {},
   "source": [
    "## 전처리 :  id, date 삭제 "
   ]
  },
  {
   "cell_type": "markdown",
   "id": "d82f0872",
   "metadata": {},
   "source": [
    "## 범주형 변수 전처리 "
   ]
  },
  {
   "cell_type": "markdown",
   "id": "91721d03",
   "metadata": {},
   "source": [
    "## 종속변수 y = price , 나머지는 독립변수 X로 설정 "
   ]
  },
  {
   "cell_type": "markdown",
   "id": "214f6fd3",
   "metadata": {},
   "source": [
    "## 홀드아웃 기법을 사용하여 데이터 분할 "
   ]
  },
  {
   "cell_type": "markdown",
   "id": "0eb2a649",
   "metadata": {},
   "source": [
    "## Ridge 회귀분석을 하여 R2 값과 RMSE값을 구하고 설명하세요. "
   ]
  },
  {
   "cell_type": "markdown",
   "id": "79685837",
   "metadata": {},
   "source": [
    "## 스케일링 한 데이터셋의 결과와 스케일링 하지 않은 데이터 셋의 결과를 비교해보세요.\n",
    "> Tip : X_train 데이터를 fit_transform 하여 전처리, X_test는 transform 사용하여 전처리 <br>\n",
    ">  X_train_scaled = pd.DataFrame(scaler.fit_transform(X_train),columns=X_train.columns,index=X_train.index)"
   ]
  },
  {
   "cell_type": "markdown",
   "id": "ddb9fefd",
   "metadata": {},
   "source": [
    "## 회귀 계수 중 집값과 상관성이 높은 3가지 변수를 해석하세요 "
   ]
  },
  {
   "cell_type": "code",
   "execution_count": 21,
   "id": "5ee205ac",
   "metadata": {
    "scrolled": true
   },
   "outputs": [
    {
     "name": "stdout",
     "output_type": "stream",
     "text": [
      "<class 'pandas.core.frame.DataFrame'>\n",
      "RangeIndex: 21613 entries, 0 to 21612\n",
      "Data columns (total 18 columns):\n",
      " #   Column         Non-Null Count  Dtype  \n",
      "---  ------         --------------  -----  \n",
      " 0   id             21613 non-null  int64  \n",
      " 1   date           21613 non-null  object \n",
      " 2   price          21613 non-null  float64\n",
      " 3   bedrooms       21613 non-null  int64  \n",
      " 4   bathrooms      21613 non-null  float64\n",
      " 5   sqft_living    21613 non-null  int64  \n",
      " 6   sqft_lot       21613 non-null  int64  \n",
      " 7   floors         21613 non-null  float64\n",
      " 8   waterfront     21613 non-null  object \n",
      " 9   view           21613 non-null  int64  \n",
      " 10  condition      21613 non-null  int64  \n",
      " 11  grade          21613 non-null  int64  \n",
      " 12  sqft_above     21613 non-null  int64  \n",
      " 13  sqft_basement  21613 non-null  int64  \n",
      " 14  yr_built       21613 non-null  int64  \n",
      " 15  yr_renovated   21613 non-null  int64  \n",
      " 16  sqft_living15  21613 non-null  int64  \n",
      " 17  sqft_lot15     21613 non-null  int64  \n",
      "dtypes: float64(3), int64(13), object(2)\n",
      "memory usage: 3.0+ MB\n"
     ]
    }
   ],
   "source": [
    "df.info()"
   ]
  },
  {
   "cell_type": "code",
   "execution_count": 22,
   "id": "d53bcab1",
   "metadata": {},
   "outputs": [
    {
     "name": "stdout",
     "output_type": "stream",
     "text": [
      "<class 'pandas.core.frame.DataFrame'>\n",
      "RangeIndex: 21613 entries, 0 to 21612\n",
      "Data columns (total 16 columns):\n",
      " #   Column         Non-Null Count  Dtype  \n",
      "---  ------         --------------  -----  \n",
      " 0   price          21613 non-null  float64\n",
      " 1   bedrooms       21613 non-null  int64  \n",
      " 2   bathrooms      21613 non-null  float64\n",
      " 3   sqft_living    21613 non-null  int64  \n",
      " 4   sqft_lot       21613 non-null  int64  \n",
      " 5   floors         21613 non-null  float64\n",
      " 6   waterfront     21613 non-null  object \n",
      " 7   view           21613 non-null  int64  \n",
      " 8   condition      21613 non-null  int64  \n",
      " 9   grade          21613 non-null  int64  \n",
      " 10  sqft_above     21613 non-null  int64  \n",
      " 11  sqft_basement  21613 non-null  int64  \n",
      " 12  yr_built       21613 non-null  int64  \n",
      " 13  yr_renovated   21613 non-null  int64  \n",
      " 14  sqft_living15  21613 non-null  int64  \n",
      " 15  sqft_lot15     21613 non-null  int64  \n",
      "dtypes: float64(3), int64(12), object(1)\n",
      "memory usage: 2.6+ MB\n"
     ]
    }
   ],
   "source": [
    "# id, date 삭제\n",
    "import pandas as pd\n",
    "import numpy as np\n",
    "df\n",
    "df = df.drop([\"id\",\"date\"], axis = 1)\n",
    "\n",
    "df.info()"
   ]
  },
  {
   "cell_type": "code",
   "execution_count": 23,
   "id": "cab4a8f4",
   "metadata": {},
   "outputs": [],
   "source": [
    "# 범주형 변수 전처리\n",
    "\n",
    "object_col = df.dtypes[df.dtypes == \"object\"].index.tolist()\n",
    "\n",
    "# for i in object_col:\n",
    "#     df[i] = pd.factorize(df[i])[0]\n",
    "    \n",
    "df = pd.get_dummies(df, columns = object_col)"
   ]
  },
  {
   "cell_type": "code",
   "execution_count": 24,
   "id": "7e8f7c1c",
   "metadata": {},
   "outputs": [],
   "source": [
    "feature = df.drop(\"price\", axis = 1)\n",
    "label = df[\"price\"]"
   ]
  },
  {
   "cell_type": "code",
   "execution_count": 25,
   "id": "1fd7ca32",
   "metadata": {},
   "outputs": [],
   "source": [
    "from sklearn.model_selection import train_test_split\n",
    "\n",
    "X_train, X_test, y_train, y_test = train_test_split(feature, label, test_size= 0.3, random_state = 151)\n"
   ]
  },
  {
   "cell_type": "code",
   "execution_count": 45,
   "id": "0cc0d69c",
   "metadata": {},
   "outputs": [
    {
     "data": {
      "text/plain": [
       "2700.0"
      ]
     },
     "execution_count": 45,
     "metadata": {},
     "output_type": "execute_result"
    }
   ],
   "source": [
    "X_train.values[0,2]"
   ]
  },
  {
   "cell_type": "code",
   "execution_count": 39,
   "id": "388278ac",
   "metadata": {},
   "outputs": [
    {
     "data": {
      "text/plain": [
       "[[1.640494694639218],\n",
       " [3.322591643420823],\n",
       " [inf],\n",
       " [1.9690474466733778],\n",
       " [1.9254829943029919],\n",
       " [1.393230123886066],\n",
       " [1.2225428391027577],\n",
       " [3.267758442586225],\n",
       " [inf],\n",
       " [inf],\n",
       " [1.9931419112499826],\n",
       " [1.1439173148462933],\n",
       " [2.831484688218034],\n",
       " [2.002015865355161],\n",
       " [64.62746659283488],\n",
       " [8721.932287237052]]"
      ]
     },
     "execution_count": 39,
     "metadata": {},
     "output_type": "execute_result"
    }
   ],
   "source": [
    "# 다중공선성 확인\n",
    "\n",
    "from statsmodels.stats.outliers_influence import variance_inflation_factor\n",
    "\n",
    "vif_list = []\n",
    "\n",
    "for i in range(X_train.shape[1]):\n",
    "    vif_list.append([variance_inflation_factor(X_train.values, i)]) \n",
    "    \n",
    "    \n",
    "vif_list"
   ]
  },
  {
   "cell_type": "code",
   "execution_count": 42,
   "id": "6e4ae84e",
   "metadata": {},
   "outputs": [
    {
     "data": {
      "text/html": [
       "<div>\n",
       "<style scoped>\n",
       "    .dataframe tbody tr th:only-of-type {\n",
       "        vertical-align: middle;\n",
       "    }\n",
       "\n",
       "    .dataframe tbody tr th {\n",
       "        vertical-align: top;\n",
       "    }\n",
       "\n",
       "    .dataframe thead th {\n",
       "        text-align: right;\n",
       "    }\n",
       "</style>\n",
       "<table border=\"1\" class=\"dataframe\">\n",
       "  <thead>\n",
       "    <tr style=\"text-align: right;\">\n",
       "      <th></th>\n",
       "      <th>vif</th>\n",
       "    </tr>\n",
       "  </thead>\n",
       "  <tbody>\n",
       "    <tr>\n",
       "      <th>sqft_living</th>\n",
       "      <td>inf</td>\n",
       "    </tr>\n",
       "    <tr>\n",
       "      <th>sqft_above</th>\n",
       "      <td>inf</td>\n",
       "    </tr>\n",
       "    <tr>\n",
       "      <th>sqft_basement</th>\n",
       "      <td>inf</td>\n",
       "    </tr>\n",
       "    <tr>\n",
       "      <th>waterfront_river_view</th>\n",
       "      <td>64.627467</td>\n",
       "    </tr>\n",
       "    <tr>\n",
       "      <th>waterfront_standard</th>\n",
       "      <td>8721.932287</td>\n",
       "    </tr>\n",
       "  </tbody>\n",
       "</table>\n",
       "</div>"
      ],
      "text/plain": [
       "                               vif\n",
       "sqft_living                    inf\n",
       "sqft_above                     inf\n",
       "sqft_basement                  inf\n",
       "waterfront_river_view    64.627467\n",
       "waterfront_standard    8721.932287"
      ]
     },
     "execution_count": 42,
     "metadata": {},
     "output_type": "execute_result"
    }
   ],
   "source": [
    "vif_list_df = pd.DataFrame(vif_list, columns = [\"vif\"], index = X_train.columns)\n",
    "vif_list_df = vif_list_df\n",
    "vif_list_df[vif_list_df[\"vif\"] > 10]"
   ]
  },
  {
   "cell_type": "code",
   "execution_count": 29,
   "id": "e11ca80c",
   "metadata": {},
   "outputs": [
    {
     "name": "stdout",
     "output_type": "stream",
     "text": [
      "RMSE 값 : 215705.17202649682\n"
     ]
    }
   ],
   "source": [
    "rmse = np.sqrt(mean_squared_error(y_test, pred))\n",
    "print(\"RMSE 값 : {}\".format(rmse))"
   ]
  },
  {
   "cell_type": "code",
   "execution_count": 30,
   "id": "19289373",
   "metadata": {},
   "outputs": [],
   "source": [
    "# 스케일 하고 값비교\n",
    "from sklearn.preprocessing import StandardScaler\n",
    "\n",
    "scaler = StandardScaler()\n",
    "scaler = scaler.fit_transform(feature)"
   ]
  },
  {
   "cell_type": "code",
   "execution_count": 31,
   "id": "be86915a",
   "metadata": {},
   "outputs": [],
   "source": [
    "X_scaled_train, X_scaled_test, y_scaled_train, y_scaled_test = train_test_split(scaler, label, test_size = 0.3)"
   ]
  },
  {
   "cell_type": "code",
   "execution_count": 32,
   "id": "7eeab5f3",
   "metadata": {},
   "outputs": [
    {
     "name": "stdout",
     "output_type": "stream",
     "text": [
      "스케일 된 학습 데이터 성능 : 0.6596111834342011\n",
      "스케일 된 테스트 데이터 성능 : 0.6385346938424361\n"
     ]
    }
   ],
   "source": [
    "ridge.fit(X_scaled_train, y_scaled_train)\n",
    "pred = ridge.predict(X_scaled_test)\n",
    "\n",
    "print(\"스케일 된 학습 데이터 성능 : {}\".format(ridge.score(X_scaled_train, y_scaled_train)))\n",
    "print(\"스케일 된 테스트 데이터 성능 : {}\".format(ridge.score(X_scaled_test, y_scaled_test)))"
   ]
  },
  {
   "cell_type": "code",
   "execution_count": 33,
   "id": "0ba4b069",
   "metadata": {},
   "outputs": [
    {
     "data": {
      "text/html": [
       "<div>\n",
       "<style scoped>\n",
       "    .dataframe tbody tr th:only-of-type {\n",
       "        vertical-align: middle;\n",
       "    }\n",
       "\n",
       "    .dataframe tbody tr th {\n",
       "        vertical-align: top;\n",
       "    }\n",
       "\n",
       "    .dataframe thead th {\n",
       "        text-align: right;\n",
       "    }\n",
       "</style>\n",
       "<table border=\"1\" class=\"dataframe\">\n",
       "  <thead>\n",
       "    <tr style=\"text-align: right;\">\n",
       "      <th></th>\n",
       "      <th>coef</th>\n",
       "      <th>abs_coef</th>\n",
       "    </tr>\n",
       "  </thead>\n",
       "  <tbody>\n",
       "    <tr>\n",
       "      <th>grade</th>\n",
       "      <td>139814.962253</td>\n",
       "      <td>139814.962253</td>\n",
       "    </tr>\n",
       "    <tr>\n",
       "      <th>yr_built</th>\n",
       "      <td>-105577.299957</td>\n",
       "      <td>105577.299957</td>\n",
       "    </tr>\n",
       "    <tr>\n",
       "      <th>sqft_living</th>\n",
       "      <td>79503.837109</td>\n",
       "      <td>79503.837109</td>\n",
       "    </tr>\n",
       "  </tbody>\n",
       "</table>\n",
       "</div>"
      ],
      "text/plain": [
       "                      coef       abs_coef\n",
       "grade        139814.962253  139814.962253\n",
       "yr_built    -105577.299957  105577.299957\n",
       "sqft_living   79503.837109   79503.837109"
      ]
     },
     "execution_count": 33,
     "metadata": {},
     "output_type": "execute_result"
    }
   ],
   "source": [
    "# 회귀 계수 중 집값과 상관성이 높은 3가지 변수를 해석하세요\n",
    "\n",
    "model_coef = ridge.coef_\n",
    "model_coef_df = pd.DataFrame(model_coef, columns = [\"coef\"], index = df.columns.drop(\"price\"))\n",
    "model_coef_df\n",
    "model_coef_df[\"abs_coef\"] = abs(model_coef)\n",
    "model_coef_df\n",
    "model_coef_df.sort_values(by = \"abs_coef\", ascending = False).head(3)"
   ]
  }
 ],
 "metadata": {
  "kernelspec": {
   "display_name": "Python 3 (ipykernel)",
   "language": "python",
   "name": "python3"
  },
  "language_info": {
   "codemirror_mode": {
    "name": "ipython",
    "version": 3
   },
   "file_extension": ".py",
   "mimetype": "text/x-python",
   "name": "python",
   "nbconvert_exporter": "python",
   "pygments_lexer": "ipython3",
   "version": "3.8.8"
  },
  "toc": {
   "base_numbering": 1,
   "nav_menu": {},
   "number_sections": true,
   "sideBar": true,
   "skip_h1_title": false,
   "title_cell": "Table of Contents",
   "title_sidebar": "Contents",
   "toc_cell": true,
   "toc_position": {},
   "toc_section_display": true,
   "toc_window_display": false
  }
 },
 "nbformat": 4,
 "nbformat_minor": 5
}
