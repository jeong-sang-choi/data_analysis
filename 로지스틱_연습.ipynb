{
 "cells": [
  {
   "cell_type": "markdown",
   "id": "951c2af5",
   "metadata": {},
   "source": [
    "로지스틱 회귀분석 연습"
   ]
  },
  {
   "cell_type": "code",
   "execution_count": 391,
   "id": "7559c330",
   "metadata": {},
   "outputs": [],
   "source": [
    "import pandas as pd\n",
    "import numpy as np\n",
    "import matplotlib.pyplot as plt"
   ]
  },
  {
   "cell_type": "code",
   "execution_count": 392,
   "id": "6e67d66a",
   "metadata": {
    "scrolled": false
   },
   "outputs": [
    {
     "data": {
      "text/html": [
       "<div>\n",
       "<style scoped>\n",
       "    .dataframe tbody tr th:only-of-type {\n",
       "        vertical-align: middle;\n",
       "    }\n",
       "\n",
       "    .dataframe tbody tr th {\n",
       "        vertical-align: top;\n",
       "    }\n",
       "\n",
       "    .dataframe thead th {\n",
       "        text-align: right;\n",
       "    }\n",
       "</style>\n",
       "<table border=\"1\" class=\"dataframe\">\n",
       "  <thead>\n",
       "    <tr style=\"text-align: right;\">\n",
       "      <th></th>\n",
       "      <th>survived</th>\n",
       "      <th>pclass</th>\n",
       "      <th>sex</th>\n",
       "      <th>age</th>\n",
       "      <th>sibsp</th>\n",
       "      <th>parch</th>\n",
       "      <th>fare</th>\n",
       "      <th>embarked</th>\n",
       "      <th>class</th>\n",
       "      <th>who</th>\n",
       "      <th>adult_male</th>\n",
       "      <th>deck</th>\n",
       "      <th>embark_town</th>\n",
       "      <th>alive</th>\n",
       "      <th>alone</th>\n",
       "    </tr>\n",
       "  </thead>\n",
       "  <tbody>\n",
       "    <tr>\n",
       "      <th>0</th>\n",
       "      <td>0</td>\n",
       "      <td>3</td>\n",
       "      <td>male</td>\n",
       "      <td>22.0</td>\n",
       "      <td>1</td>\n",
       "      <td>0</td>\n",
       "      <td>7.2500</td>\n",
       "      <td>S</td>\n",
       "      <td>Third</td>\n",
       "      <td>man</td>\n",
       "      <td>True</td>\n",
       "      <td>NaN</td>\n",
       "      <td>Southampton</td>\n",
       "      <td>no</td>\n",
       "      <td>False</td>\n",
       "    </tr>\n",
       "    <tr>\n",
       "      <th>1</th>\n",
       "      <td>1</td>\n",
       "      <td>1</td>\n",
       "      <td>female</td>\n",
       "      <td>38.0</td>\n",
       "      <td>1</td>\n",
       "      <td>0</td>\n",
       "      <td>71.2833</td>\n",
       "      <td>C</td>\n",
       "      <td>First</td>\n",
       "      <td>woman</td>\n",
       "      <td>False</td>\n",
       "      <td>C</td>\n",
       "      <td>Cherbourg</td>\n",
       "      <td>yes</td>\n",
       "      <td>False</td>\n",
       "    </tr>\n",
       "    <tr>\n",
       "      <th>2</th>\n",
       "      <td>1</td>\n",
       "      <td>3</td>\n",
       "      <td>female</td>\n",
       "      <td>26.0</td>\n",
       "      <td>0</td>\n",
       "      <td>0</td>\n",
       "      <td>7.9250</td>\n",
       "      <td>S</td>\n",
       "      <td>Third</td>\n",
       "      <td>woman</td>\n",
       "      <td>False</td>\n",
       "      <td>NaN</td>\n",
       "      <td>Southampton</td>\n",
       "      <td>yes</td>\n",
       "      <td>True</td>\n",
       "    </tr>\n",
       "    <tr>\n",
       "      <th>3</th>\n",
       "      <td>1</td>\n",
       "      <td>1</td>\n",
       "      <td>female</td>\n",
       "      <td>35.0</td>\n",
       "      <td>1</td>\n",
       "      <td>0</td>\n",
       "      <td>53.1000</td>\n",
       "      <td>S</td>\n",
       "      <td>First</td>\n",
       "      <td>woman</td>\n",
       "      <td>False</td>\n",
       "      <td>C</td>\n",
       "      <td>Southampton</td>\n",
       "      <td>yes</td>\n",
       "      <td>False</td>\n",
       "    </tr>\n",
       "    <tr>\n",
       "      <th>4</th>\n",
       "      <td>0</td>\n",
       "      <td>3</td>\n",
       "      <td>male</td>\n",
       "      <td>35.0</td>\n",
       "      <td>0</td>\n",
       "      <td>0</td>\n",
       "      <td>8.0500</td>\n",
       "      <td>S</td>\n",
       "      <td>Third</td>\n",
       "      <td>man</td>\n",
       "      <td>True</td>\n",
       "      <td>NaN</td>\n",
       "      <td>Southampton</td>\n",
       "      <td>no</td>\n",
       "      <td>True</td>\n",
       "    </tr>\n",
       "  </tbody>\n",
       "</table>\n",
       "</div>"
      ],
      "text/plain": [
       "   survived  pclass     sex   age  sibsp  parch     fare embarked  class  \\\n",
       "0         0       3    male  22.0      1      0   7.2500        S  Third   \n",
       "1         1       1  female  38.0      1      0  71.2833        C  First   \n",
       "2         1       3  female  26.0      0      0   7.9250        S  Third   \n",
       "3         1       1  female  35.0      1      0  53.1000        S  First   \n",
       "4         0       3    male  35.0      0      0   8.0500        S  Third   \n",
       "\n",
       "     who  adult_male deck  embark_town alive  alone  \n",
       "0    man        True  NaN  Southampton    no  False  \n",
       "1  woman       False    C    Cherbourg   yes  False  \n",
       "2  woman       False  NaN  Southampton   yes   True  \n",
       "3  woman       False    C  Southampton   yes  False  \n",
       "4    man        True  NaN  Southampton    no   True  "
      ]
     },
     "execution_count": 392,
     "metadata": {},
     "output_type": "execute_result"
    }
   ],
   "source": [
    "df = pd.read_csv(\"titanic.csv\")\n",
    "df.head()"
   ]
  },
  {
   "cell_type": "code",
   "execution_count": 393,
   "id": "38ea4a10",
   "metadata": {},
   "outputs": [
    {
     "name": "stderr",
     "output_type": "stream",
     "text": [
      "C:\\Users\\gg787\\anaconda3\\lib\\site-packages\\seaborn\\_decorators.py:36: FutureWarning: Pass the following variables as keyword args: x, y. From version 0.12, the only valid positional argument will be `data`, and passing other arguments without an explicit keyword will result in an error or misinterpretation.\n",
      "  warnings.warn(\n"
     ]
    },
    {
     "data": {
      "text/plain": [
       "<AxesSubplot:xlabel='age', ylabel='survived'>"
      ]
     },
     "execution_count": 393,
     "metadata": {},
     "output_type": "execute_result"
    },
    {
     "data": {
      "image/png": "[encoded data removed]",
      "text/plain": [
       "<Figure size 432x288 with 1 Axes>"
      ]
     },
     "metadata": {
      "needs_background": "light"
     },
     "output_type": "display_data"
    }
   ],
   "source": [
    "import seaborn as sns\n",
    "\n",
    "sns.scatterplot(\"age\",\"survived\", data = df)"
   ]
  },
  {
   "cell_type": "code",
   "execution_count": 394,
   "id": "650550e5",
   "metadata": {},
   "outputs": [
    {
     "name": "stdout",
     "output_type": "stream",
     "text": [
      "<class 'pandas.core.frame.DataFrame'>\n",
      "RangeIndex: 891 entries, 0 to 890\n",
      "Data columns (total 15 columns):\n",
      " #   Column       Non-Null Count  Dtype  \n",
      "---  ------       --------------  -----  \n",
      " 0   survived     891 non-null    int64  \n",
      " 1   pclass       891 non-null    int64  \n",
      " 2   sex          891 non-null    object \n",
      " 3   age          714 non-null    float64\n",
      " 4   sibsp        891 non-null    int64  \n",
      " 5   parch        891 non-null    int64  \n",
      " 6   fare         891 non-null    float64\n",
      " 7   embarked     889 non-null    object \n",
      " 8   class        891 non-null    object \n",
      " 9   who          891 non-null    object \n",
      " 10  adult_male   891 non-null    bool   \n",
      " 11  deck         203 non-null    object \n",
      " 12  embark_town  889 non-null    object \n",
      " 13  alive        891 non-null    object \n",
      " 14  alone        891 non-null    bool   \n",
      "dtypes: bool(2), float64(2), int64(4), object(7)\n",
      "memory usage: 92.4+ KB\n"
     ]
    }
   ],
   "source": [
    "df.info()"
   ]
  },
  {
   "cell_type": "code",
   "execution_count": 395,
   "id": "cced1d1a",
   "metadata": {},
   "outputs": [
    {
     "data": {
      "text/plain": [
       "survived         0\n",
       "pclass           0\n",
       "sex              0\n",
       "age            177\n",
       "sibsp            0\n",
       "parch            0\n",
       "fare             0\n",
       "embarked         2\n",
       "class            0\n",
       "who              0\n",
       "adult_male       0\n",
       "deck           688\n",
       "embark_town      2\n",
       "alive            0\n",
       "alone            0\n",
       "dtype: int64"
      ]
     },
     "execution_count": 395,
     "metadata": {},
     "output_type": "execute_result"
    }
   ],
   "source": [
    "df.isna().sum()"
   ]
  },
  {
   "cell_type": "code",
   "execution_count": 396,
   "id": "ad4632ea",
   "metadata": {},
   "outputs": [],
   "source": [
    "df[\"age\"] = df[\"age\"].fillna(df[\"age\"].mean())\n",
    "df = df.drop(\"deck\", axis = 1)\n",
    "df = df.drop(\"embarked\", axis = 1)\n",
    "df = df.drop(\"who\", axis = 1)\n",
    "df = df.drop(\"adult_male\",axis = 1)\n",
    "df = df.drop(\"alive\",axis = 1)\n",
    "df = df.drop(\"alone\",axis = 1)\n",
    "df = df.drop(\"pclass\", axis = 1)\n",
    "df[\"embark_town\"] = df[\"embark_town\"].fillna(\"Southampton\") "
   ]
  },
  {
   "cell_type": "code",
   "execution_count": 397,
   "id": "375b973b",
   "metadata": {},
   "outputs": [],
   "source": [
    "object_col = df.dtypes[df.dtypes == \"object\"].index.tolist()"
   ]
  },
  {
   "cell_type": "code",
   "execution_count": 398,
   "id": "4efd1782",
   "metadata": {},
   "outputs": [],
   "source": [
    "# for i in object_col:\n",
    "#     df[i] = pd.factorize(df[i])[0]"
   ]
  },
  {
   "cell_type": "code",
   "execution_count": 399,
   "id": "fa18631e",
   "metadata": {},
   "outputs": [],
   "source": [
    "df = pd.get_dummies(data = df, columns = object_col,drop_first = False)"
   ]
  },
  {
   "cell_type": "code",
   "execution_count": 400,
   "id": "02f6d6c3",
   "metadata": {},
   "outputs": [],
   "source": [
    "df = df.astype(float)\n",
    "# stats_model api 만있는문제 : 모든 데이터를 float 형태로 맞춰줘야함"
   ]
  },
  {
   "cell_type": "code",
   "execution_count": 401,
   "id": "1f665b82",
   "metadata": {},
   "outputs": [],
   "source": [
    "feature = df.drop(\"survived\", axis = 1)\n",
    "label = df[\"survived\"]"
   ]
  },
  {
   "cell_type": "code",
   "execution_count": 402,
   "id": "b6c81093",
   "metadata": {},
   "outputs": [],
   "source": [
    "from sklearn.model_selection import train_test_split"
   ]
  },
  {
   "cell_type": "code",
   "execution_count": 403,
   "id": "3405a711",
   "metadata": {},
   "outputs": [],
   "source": [
    "X_train, X_test, y_train, y_test = train_test_split(feature, label, test_size = 0.3, random_state = 2020) #random_state 를 설정해주자!"
   ]
  },
  {
   "cell_type": "code",
   "execution_count": 404,
   "id": "a4978c21",
   "metadata": {},
   "outputs": [
    {
     "name": "stdout",
     "output_type": "stream",
     "text": [
      "Optimization terminated successfully.\n",
      "         Current function value: 0.419050\n",
      "         Iterations 7\n"
     ]
    }
   ],
   "source": [
    "import statsmodels.api as sm\n",
    "model = sm.Logit(y_train, X_train)\n",
    "result = model.fit() #중복되는 컬럼을 최대한 없애자"
   ]
  },
  {
   "cell_type": "code",
   "execution_count": 405,
   "id": "5cd50616",
   "metadata": {
    "scrolled": true
   },
   "outputs": [
    {
     "name": "stdout",
     "output_type": "stream",
     "text": [
      "                           Logit Regression Results                           \n",
      "==============================================================================\n",
      "Dep. Variable:               survived   No. Observations:                  623\n",
      "Model:                          Logit   Df Residuals:                      613\n",
      "Method:                           MLE   Df Model:                            9\n",
      "Date:                Fri, 22 Apr 2022   Pseudo R-squ.:                  0.3661\n",
      "Time:                        16:53:31   Log-Likelihood:                -261.07\n",
      "converged:                       True   LL-Null:                       -411.83\n",
      "Covariance Type:            nonrobust   LLR p-value:                 1.236e-59\n",
      "===========================================================================================\n",
      "                              coef    std err          z      P>|z|      [0.025      0.975]\n",
      "-------------------------------------------------------------------------------------------\n",
      "age                        -0.0325      0.009     -3.527      0.000      -0.051      -0.014\n",
      "sibsp                      -0.2349      0.125     -1.873      0.061      -0.481       0.011\n",
      "parch                      -0.0256      0.137     -0.186      0.852      -0.295       0.244\n",
      "fare                        0.0008      0.003      0.275      0.783      -0.005       0.007\n",
      "sex_female                  1.9998        nan        nan        nan         nan         nan\n",
      "sex_male                   -0.8463        nan        nan        nan         nan         nan\n",
      "class_First                 1.6087        nan        nan        nan         nan         nan\n",
      "class_Second                0.4761        nan        nan        nan         nan         nan\n",
      "class_Third                -0.9313        nan        nan        nan         nan         nan\n",
      "embark_town_Cherbourg       0.5371   3.47e+06   1.55e-07      1.000   -6.79e+06    6.79e+06\n",
      "embark_town_Queenstown      0.5584   3.47e+06   1.61e-07      1.000   -6.79e+06    6.79e+06\n",
      "embark_town_Southampton     0.0580   3.47e+06   1.67e-08      1.000   -6.79e+06    6.79e+06\n",
      "===========================================================================================\n"
     ]
    }
   ],
   "source": [
    "print(result.summary())"
   ]
  },
  {
   "cell_type": "code",
   "execution_count": 406,
   "id": "55d4854a",
   "metadata": {},
   "outputs": [
    {
     "name": "stdout",
     "output_type": "stream",
     "text": [
      "Model AIC : 542.1364467669067\n"
     ]
    }
   ],
   "source": [
    "# 성능척도\n",
    "print(\"Model AIC :\", result.aic)"
   ]
  },
  {
   "cell_type": "code",
   "execution_count": 407,
   "id": "4c114fdf",
   "metadata": {},
   "outputs": [],
   "source": [
    "import time\n",
    "import itertools\n",
    "def processSubset(X,y, feature_set):\n",
    "            model = sm.Logit(y,X[list(feature_set)]) # Modeling\n",
    "            regr = model.fit() # 모델 학습\n",
    "            AIC = regr.aic # 모델의 AIC\n",
    "            return {\"model\":regr, \"AIC\":AIC}\n",
    "        \n",
    "'''\n",
    "전진선택법\n",
    "'''\n",
    "def forward(X, y, predictors):\n",
    "    \n",
    "    # 데이터 변수들이 미리정의된 predictors에 있는지 없는지 확인 및 분류\n",
    "    remaining_predictors = [p for p in X.columns if p not in predictors]\n",
    "    results = []\n",
    "    for p in remaining_predictors:\n",
    "        results.append(processSubset(X=X, y= y, feature_set=predictors+[p]))\n",
    "        \n",
    "    # 데이터프레임으로 변환\n",
    "    models = pd.DataFrame(results)\n",
    "\n",
    "    # AIC가 가장 낮은 것을 선택\n",
    "    best_model = models.loc[models['AIC'].argmin()] # index\n",
    "\n",
    "    print(\"Processed \", models.shape[0], \"models on\", len(predictors)+1, \"predictors in\")\n",
    "    print('Selected predictors:',best_model['model'].model.exog_names,' AIC:',best_model[0] )\n",
    "    return best_model\n",
    "\n",
    "'''\n",
    "후진소거법\n",
    "'''\n",
    "def backward(X,y,predictors):\n",
    "    tic = time.time()\n",
    "    results = []\n",
    "    \n",
    "    # 데이터 변수들이 미리정의된 predictors 조합 확인\n",
    "    for combo in itertools.combinations(predictors, len(predictors) - 1):\n",
    "        results.append(processSubset(X=X, y= y,feature_set=list(combo)))\n",
    "    models = pd.DataFrame(results)\n",
    "    \n",
    "    # 가장 낮은 AIC를 가진 모델을 선택\n",
    "    best_model = models.loc[models['AIC'].argmin()]\n",
    "    toc = time.time()\n",
    "    print(\"Processed \", models.shape[0], \"models on\", len(predictors) - 1, \"predictors in\",\n",
    "          (toc - tic))\n",
    "    print('Selected predictors:',best_model['model'].model.exog_names,' AIC:',best_model[0] )\n",
    "    return best_model\n",
    "\n",
    "\n",
    "\n",
    "'''\n",
    "단계적 선택법\n",
    "'''\n",
    "\n",
    "def Stepwise_model(X,y):\n",
    "    Stepmodels = pd.DataFrame(columns=[\"AIC\", \"model\"])\n",
    "    tic = time.time()\n",
    "    predictors = [X.columns[0]]\n",
    "    Smodel_before = processSubset(X,y,predictors)['AIC']\n",
    "    # 변수 1~10개 : 0~9 -> 1~10\n",
    "    for i in range(1, len(X.columns) + 1):\n",
    "        Forward_result = forward(X=X, y=y, predictors=predictors) # constant added\n",
    "        print('forward')\n",
    "        Stepmodels.loc[i] = Forward_result\n",
    "        predictors = Stepmodels.loc[i][\"model\"].model.exog_names\n",
    "        predictors = [ k for k in predictors]\n",
    "        Backward_result = backward(X=X, y=y, predictors=predictors)\n",
    "        if Backward_result['AIC']< Forward_result['AIC']:\n",
    "            Stepmodels.loc[i] = Backward_result\n",
    "            predictors = Stepmodels.loc[i][\"model\"].model.exog_names\n",
    "            Smodel_before = Stepmodels.loc[i][\"AIC\"]\n",
    "            predictors = [ k for k in predictors]\n",
    "            print('backward')\n",
    "        if Stepmodels.loc[i]['AIC']> Smodel_before:\n",
    "            break\n",
    "        else:\n",
    "            Smodel_before = Stepmodels.loc[i][\"AIC\"]\n",
    "    toc = time.time()\n",
    "    print(\"Total elapsed time:\", (toc - tic), \"seconds.\")\n",
    "    return (Stepmodels['model'][len(Stepmodels['model'])])"
   ]
  },
  {
   "cell_type": "code",
   "execution_count": 408,
   "id": "838f244b",
   "metadata": {},
   "outputs": [
    {
     "name": "stdout",
     "output_type": "stream",
     "text": [
      "Optimization terminated successfully.\n",
      "         Current function value: 0.663422\n",
      "         Iterations 4\n",
      "Optimization terminated successfully.\n",
      "         Current function value: 0.662263\n",
      "         Iterations 4\n",
      "Optimization terminated successfully.\n",
      "         Current function value: 0.660587\n",
      "         Iterations 4\n",
      "Optimization terminated successfully.\n",
      "         Current function value: 0.621539\n",
      "         Iterations 5\n",
      "Optimization terminated successfully.\n",
      "         Current function value: 0.535147\n",
      "         Iterations 5\n",
      "Optimization terminated successfully.\n",
      "         Current function value: 0.514887\n",
      "         Iterations 6\n",
      "Optimization terminated successfully.\n",
      "         Current function value: 0.597270\n",
      "         Iterations 5\n",
      "Optimization terminated successfully.\n",
      "         Current function value: 0.660603\n",
      "         Iterations 4\n",
      "Optimization terminated successfully.\n",
      "         Current function value: 0.600022\n",
      "         Iterations 5\n",
      "Optimization terminated successfully.\n",
      "         Current function value: 0.648041\n",
      "         Iterations 5\n",
      "Optimization terminated successfully.\n",
      "         Current function value: 0.663273\n",
      "         Iterations 4\n",
      "Optimization terminated successfully.\n",
      "         Current function value: 0.647910\n",
      "         Iterations 4\n",
      "Processed  11 models on 2 predictors in\n",
      "Selected predictors: ['age', 'sex_male']  AIC: <statsmodels.discrete.discrete_model.BinaryResultsWrapper object at 0x00000187C902CA90>\n",
      "forward\n",
      "Optimization terminated successfully.\n",
      "         Current function value: 0.663422\n",
      "         Iterations 4\n",
      "Optimization terminated successfully.\n",
      "         Current function value: 0.545989\n",
      "         Iterations 5\n",
      "Processed  2 models on 1 predictors in 0.012002944946289062\n",
      "Selected predictors: ['sex_male']  AIC: <statsmodels.discrete.discrete_model.BinaryResultsWrapper object at 0x00000187C902C040>\n",
      "Optimization terminated successfully.\n",
      "         Current function value: 0.514453\n",
      "         Iterations 6\n",
      "Optimization terminated successfully.\n",
      "         Current function value: 0.514562\n",
      "         Iterations 6\n",
      "Optimization terminated successfully.\n",
      "         Current function value: 0.485685\n",
      "         Iterations 6\n",
      "Optimization terminated successfully.\n",
      "         Current function value: 0.503342\n",
      "         Iterations 5\n",
      "Optimization terminated successfully.\n",
      "         Current function value: 0.463801\n",
      "         Iterations 6\n",
      "Optimization terminated successfully.\n",
      "         Current function value: 0.510263\n",
      "         Iterations 6\n",
      "Optimization terminated successfully.\n",
      "         Current function value: 0.495185\n",
      "         Iterations 6\n",
      "Optimization terminated successfully.\n",
      "         Current function value: 0.498386\n",
      "         Iterations 6\n",
      "Optimization terminated successfully.\n",
      "         Current function value: 0.514844\n",
      "         Iterations 6\n",
      "Optimization terminated successfully.\n",
      "         Current function value: 0.514592\n",
      "         Iterations 6\n",
      "Processed  10 models on 3 predictors in\n",
      "Selected predictors: ['age', 'sex_male', 'class_First']  AIC: <statsmodels.discrete.discrete_model.BinaryResultsWrapper object at 0x00000187C9036FA0>\n",
      "forward\n",
      "Optimization terminated successfully.\n",
      "         Current function value: 0.514887\n",
      "         Iterations 6\n",
      "Optimization terminated successfully.\n",
      "         Current function value: 0.597270\n",
      "         Iterations 5\n",
      "Optimization terminated successfully.\n",
      "         Current function value: 0.466093\n",
      "         Iterations 6\n",
      "Processed  3 models on 2 predictors in 0.015997886657714844\n",
      "Selected predictors: ['sex_male', 'class_First']  AIC: <statsmodels.discrete.discrete_model.BinaryResultsWrapper object at 0x00000187C9036670>\n",
      "Optimization terminated successfully.\n",
      "         Current function value: 0.463556\n",
      "         Iterations 6\n",
      "Optimization terminated successfully.\n",
      "         Current function value: 0.463242\n",
      "         Iterations 6\n",
      "Optimization terminated successfully.\n",
      "         Current function value: 0.461505\n",
      "         Iterations 6\n",
      "Optimization terminated successfully.\n",
      "         Current function value: 0.446392\n",
      "         Iterations 6\n",
      "Optimization terminated successfully.\n",
      "         Current function value: 0.437026\n",
      "         Iterations 6\n",
      "Optimization terminated successfully.\n",
      "         Current function value: 0.463161\n",
      "         Iterations 6\n",
      "Optimization terminated successfully.\n",
      "         Current function value: 0.459187\n",
      "         Iterations 6\n",
      "Optimization terminated successfully.\n",
      "         Current function value: 0.462918\n",
      "         Iterations 6\n",
      "Optimization terminated successfully.\n",
      "         Current function value: 0.462719\n",
      "         Iterations 6\n",
      "Processed  9 models on 4 predictors in\n",
      "Selected predictors: ['age', 'sex_male', 'class_First', 'class_Second']  AIC: <statsmodels.discrete.discrete_model.BinaryResultsWrapper object at 0x00000187C902C0D0>\n",
      "forward\n",
      "Optimization terminated successfully.\n",
      "         Current function value: 0.463801\n",
      "         Iterations 6\n",
      "Optimization terminated successfully.\n",
      "         Current function value: 0.510263\n",
      "         Iterations 6\n",
      "Optimization terminated successfully.\n",
      "         Current function value: 0.574080\n",
      "         Iterations 5\n",
      "Optimization terminated successfully.\n",
      "         Current function value: 0.437946\n",
      "         Iterations 6\n",
      "Processed  4 models on 3 predictors in 0.02000594139099121\n",
      "Selected predictors: ['sex_male', 'class_First', 'class_Second']  AIC: <statsmodels.discrete.discrete_model.BinaryResultsWrapper object at 0x00000187C901BEE0>\n",
      "backward\n",
      "Optimization terminated successfully.\n",
      "         Current function value: 0.437026\n",
      "         Iterations 6\n",
      "Optimization terminated successfully.\n",
      "         Current function value: 0.437342\n",
      "         Iterations 6\n",
      "Optimization terminated successfully.\n",
      "         Current function value: 0.437931\n",
      "         Iterations 6\n",
      "Optimization terminated successfully.\n",
      "         Current function value: 0.437583\n",
      "         Iterations 6\n",
      "Optimization terminated successfully.\n",
      "         Current function value: 0.435903\n",
      "         Iterations 6\n",
      "Optimization terminated successfully.\n",
      "         Current function value: 0.435903\n",
      "         Iterations 6\n",
      "Optimization terminated successfully.\n",
      "         Current function value: 0.433917\n",
      "         Iterations 6\n",
      "Optimization terminated successfully.\n",
      "         Current function value: 0.436042\n",
      "         Iterations 6\n",
      "Optimization terminated successfully.\n",
      "         Current function value: 0.437572\n",
      "         Iterations 6\n",
      "Processed  9 models on 4 predictors in\n",
      "Selected predictors: ['sex_male', 'class_First', 'class_Second', 'embark_town_Cherbourg']  AIC: <statsmodels.discrete.discrete_model.BinaryResultsWrapper object at 0x00000187C90364F0>\n",
      "forward\n",
      "Optimization terminated successfully.\n",
      "         Current function value: 0.437946\n",
      "         Iterations 6\n",
      "Optimization terminated successfully.\n",
      "         Current function value: 0.460626\n",
      "         Iterations 6\n",
      "Optimization terminated successfully.\n",
      "         Current function value: 0.501117\n",
      "         Iterations 6\n",
      "Optimization terminated successfully.\n",
      "         Current function value: 0.681170\n",
      "         Iterations 4\n",
      "Processed  4 models on 3 predictors in 0.0200045108795166\n",
      "Selected predictors: ['sex_male', 'class_First', 'class_Second']  AIC: <statsmodels.discrete.discrete_model.BinaryResultsWrapper object at 0x00000187C90361C0>\n",
      "Optimization terminated successfully.\n",
      "         Current function value: 0.432424\n",
      "         Iterations 6\n",
      "Optimization terminated successfully.\n",
      "         Current function value: 0.433156\n",
      "         Iterations 6\n",
      "Optimization terminated successfully.\n",
      "         Current function value: 0.433913\n",
      "         Iterations 6\n",
      "Optimization terminated successfully.\n",
      "         Current function value: 0.433826\n",
      "         Iterations 6\n",
      "Optimization terminated successfully.\n",
      "         Current function value: 0.432911\n",
      "         Iterations 6\n",
      "Optimization terminated successfully.\n",
      "         Current function value: 0.432911\n",
      "         Iterations 6\n",
      "Optimization terminated successfully.\n",
      "         Current function value: 0.431810\n",
      "         Iterations 6\n",
      "Optimization terminated successfully.\n",
      "         Current function value: 0.433822\n",
      "         Iterations 6\n",
      "Processed  8 models on 5 predictors in\n",
      "Selected predictors: ['sex_male', 'class_First', 'class_Second', 'embark_town_Cherbourg', 'embark_town_Queenstown']  AIC: <statsmodels.discrete.discrete_model.BinaryResultsWrapper object at 0x00000187C9035DF0>\n",
      "forward\n",
      "Optimization terminated successfully.\n",
      "         Current function value: 0.433917\n",
      "         Iterations 6\n",
      "Optimization terminated successfully.\n",
      "         Current function value: 0.436042\n",
      "         Iterations 6\n"
     ]
    },
    {
     "name": "stdout",
     "output_type": "stream",
     "text": [
      "Optimization terminated successfully.\n",
      "         Current function value: 0.458733\n",
      "         Iterations 6\n",
      "Optimization terminated successfully.\n",
      "         Current function value: 0.499713\n",
      "         Iterations 6\n",
      "Optimization terminated successfully.\n",
      "         Current function value: 0.678170\n",
      "         Iterations 4\n",
      "Processed  5 models on 4 predictors in 0.028010129928588867\n",
      "Selected predictors: ['sex_male', 'class_First', 'class_Second', 'embark_town_Cherbourg']  AIC: <statsmodels.discrete.discrete_model.BinaryResultsWrapper object at 0x00000187C902C760>\n",
      "Optimization terminated successfully.\n",
      "         Current function value: 0.428738\n",
      "         Iterations 6\n",
      "Optimization terminated successfully.\n",
      "         Current function value: 0.430887\n",
      "         Iterations 6\n",
      "Optimization terminated successfully.\n",
      "         Current function value: 0.431791\n",
      "         Iterations 6\n",
      "Optimization terminated successfully.\n",
      "         Current function value: 0.431769\n",
      "         Iterations 6\n",
      "Optimization terminated successfully.\n",
      "         Current function value: 0.431563\n",
      "         Iterations 6\n",
      "Optimization terminated successfully.\n",
      "         Current function value: 0.431563\n",
      "         Iterations 6\n",
      "Optimization terminated successfully.\n",
      "         Current function value: 0.431563\n",
      "         Iterations 6\n",
      "Processed  7 models on 6 predictors in\n",
      "Selected predictors: ['sex_male', 'class_First', 'class_Second', 'embark_town_Cherbourg', 'embark_town_Queenstown', 'age']  AIC: <statsmodels.discrete.discrete_model.BinaryResultsWrapper object at 0x00000187C902CEB0>\n",
      "forward\n",
      "Optimization terminated successfully.\n",
      "         Current function value: 0.431810\n",
      "         Iterations 6\n",
      "Optimization terminated successfully.\n",
      "         Current function value: 0.432424\n",
      "         Iterations 6\n",
      "Optimization terminated successfully.\n",
      "         Current function value: 0.433976\n",
      "         Iterations 6\n",
      "Optimization terminated successfully.\n",
      "         Current function value: 0.457958\n",
      "         Iterations 6\n",
      "Optimization terminated successfully.\n",
      "         Current function value: 0.491538\n",
      "         Iterations 6\n",
      "Optimization terminated successfully.\n",
      "         Current function value: 0.568299\n",
      "         Iterations 5\n",
      "Processed  6 models on 5 predictors in 0.02800750732421875\n",
      "Selected predictors: ['sex_male', 'class_First', 'class_Second', 'embark_town_Cherbourg', 'embark_town_Queenstown']  AIC: <statsmodels.discrete.discrete_model.BinaryResultsWrapper object at 0x00000187C7B4AC10>\n",
      "Optimization terminated successfully.\n",
      "         Current function value: 0.428364\n",
      "         Iterations 6\n",
      "Optimization terminated successfully.\n",
      "         Current function value: 0.428615\n",
      "         Iterations 6\n",
      "Optimization terminated successfully.\n",
      "         Current function value: 0.428622\n",
      "         Iterations 6\n",
      "Optimization terminated successfully.\n",
      "         Current function value: 0.422684\n",
      "         Iterations 6\n",
      "Optimization terminated successfully.\n",
      "         Current function value: 0.422684\n",
      "         Iterations 6\n",
      "Optimization terminated successfully.\n",
      "         Current function value: 0.422684\n",
      "         Iterations 6\n",
      "Processed  6 models on 7 predictors in\n",
      "Selected predictors: ['sex_male', 'class_First', 'class_Second', 'embark_town_Cherbourg', 'embark_town_Queenstown', 'age', 'sex_female']  AIC: <statsmodels.discrete.discrete_model.BinaryResultsWrapper object at 0x00000187C9036370>\n",
      "forward\n",
      "Optimization terminated successfully.\n",
      "         Current function value: 0.428738\n",
      "         Iterations 6\n",
      "Optimization terminated successfully.\n",
      "         Current function value: 0.431563\n",
      "         Iterations 6\n",
      "Optimization terminated successfully.\n",
      "         Current function value: 0.424343\n",
      "         Iterations 6\n",
      "Optimization terminated successfully.\n",
      "         Current function value: 0.425622\n",
      "         Iterations 6\n",
      "Optimization terminated successfully.\n",
      "         Current function value: 0.444217\n",
      "         Iterations 6\n",
      "Optimization terminated successfully.\n",
      "         Current function value: 0.486201\n",
      "         Iterations 6\n",
      "Optimization terminated successfully.\n",
      "         Current function value: 0.457908\n",
      "         Iterations 6\n",
      "Processed  7 models on 6 predictors in 0.0360102653503418\n",
      "Selected predictors: ['sex_male', 'class_First', 'class_Second', 'embark_town_Cherbourg', 'age', 'sex_female']  AIC: <statsmodels.discrete.discrete_model.BinaryResultsWrapper object at 0x00000187C902CFA0>\n",
      "Optimization terminated successfully.\n",
      "         Current function value: 0.419124\n",
      "         Iterations 6\n",
      "Optimization terminated successfully.\n",
      "         Current function value: 0.422181\n",
      "         Iterations 6\n",
      "Optimization terminated successfully.\n",
      "         Current function value: 0.422624\n",
      "         Iterations 6\n",
      "Optimization terminated successfully.\n",
      "         Current function value: 0.422684\n",
      "         Iterations 7\n",
      "Optimization terminated successfully.\n",
      "         Current function value: 0.422684\n",
      "         Iterations 7\n",
      "Processed  5 models on 8 predictors in\n",
      "Selected predictors: ['sex_male', 'class_First', 'class_Second', 'embark_town_Cherbourg', 'embark_town_Queenstown', 'age', 'sex_female', 'sibsp']  AIC: <statsmodels.discrete.discrete_model.BinaryResultsWrapper object at 0x00000187C90352E0>\n",
      "forward\n",
      "Optimization terminated successfully.\n",
      "         Current function value: 0.422684\n",
      "         Iterations 6\n",
      "Optimization terminated successfully.\n",
      "         Current function value: 0.428364\n",
      "         Iterations 6\n",
      "Optimization terminated successfully.\n",
      "         Current function value: 0.429814\n",
      "         Iterations 6\n",
      "Optimization terminated successfully.\n",
      "         Current function value: 0.420286\n",
      "         Iterations 6\n",
      "Optimization terminated successfully.\n",
      "         Current function value: 0.421501\n",
      "         Iterations 6\n",
      "Optimization terminated successfully.\n",
      "         Current function value: 0.438853\n",
      "         Iterations 6\n",
      "Optimization terminated successfully.\n",
      "         Current function value: 0.482474\n",
      "         Iterations 6\n",
      "Optimization terminated successfully.\n",
      "         Current function value: 0.441885\n",
      "         Iterations 6\n",
      "Processed  8 models on 7 predictors in 0.044011592864990234\n",
      "Selected predictors: ['sex_male', 'class_First', 'class_Second', 'embark_town_Cherbourg', 'age', 'sex_female', 'sibsp']  AIC: <statsmodels.discrete.discrete_model.BinaryResultsWrapper object at 0x00000187C9035A00>\n",
      "backward\n",
      "Optimization terminated successfully.\n",
      "         Current function value: 0.420239\n",
      "         Iterations 6\n",
      "Optimization terminated successfully.\n",
      "         Current function value: 0.420233\n",
      "         Iterations 6\n",
      "Optimization terminated successfully.\n",
      "         Current function value: 0.420286\n",
      "         Iterations 7\n",
      "Optimization terminated successfully.\n",
      "         Current function value: 0.419124\n",
      "         Iterations 6\n",
      "Optimization terminated successfully.\n",
      "         Current function value: 0.419124\n",
      "         Iterations 6\n",
      "Processed  5 models on 8 predictors in\n",
      "Selected predictors: ['sex_male', 'class_First', 'class_Second', 'embark_town_Cherbourg', 'age', 'sex_female', 'sibsp', 'embark_town_Queenstown']  AIC: <statsmodels.discrete.discrete_model.BinaryResultsWrapper object at 0x00000187C9036BE0>\n",
      "forward\n",
      "Optimization terminated successfully.\n",
      "         Current function value: 0.420286\n",
      "         Iterations 6\n",
      "Optimization terminated successfully.\n",
      "         Current function value: 0.422684\n",
      "         Iterations 6\n",
      "Optimization terminated successfully.\n",
      "         Current function value: 0.428364\n",
      "         Iterations 6\n",
      "Optimization terminated successfully.\n",
      "         Current function value: 0.429814\n",
      "         Iterations 6\n",
      "Optimization terminated successfully.\n",
      "         Current function value: 0.421501\n",
      "         Iterations 6\n",
      "Optimization terminated successfully.\n",
      "         Current function value: 0.438853\n",
      "         Iterations 6\n",
      "Optimization terminated successfully.\n",
      "         Current function value: 0.482474\n",
      "         Iterations 6\n",
      "Optimization terminated successfully.\n",
      "         Current function value: 0.441885\n",
      "         Iterations 6\n",
      "Processed  8 models on 7 predictors in 0.04001021385192871\n",
      "Selected predictors: ['sex_male', 'class_First', 'class_Second', 'embark_town_Cherbourg', 'age', 'sex_female', 'sibsp']  AIC: <statsmodels.discrete.discrete_model.BinaryResultsWrapper object at 0x00000187C901B220>\n",
      "backward\n",
      "Optimization terminated successfully.\n",
      "         Current function value: 0.420239\n",
      "         Iterations 6\n",
      "Optimization terminated successfully.\n",
      "         Current function value: 0.420233\n",
      "         Iterations 6\n"
     ]
    },
    {
     "name": "stdout",
     "output_type": "stream",
     "text": [
      "Optimization terminated successfully.\n",
      "         Current function value: 0.420286\n",
      "         Iterations 7\n",
      "Optimization terminated successfully.\n",
      "         Current function value: 0.419124\n",
      "         Iterations 6\n",
      "Optimization terminated successfully.\n",
      "         Current function value: 0.419124\n",
      "         Iterations 6\n",
      "Processed  5 models on 8 predictors in\n",
      "Selected predictors: ['sex_male', 'class_First', 'class_Second', 'embark_town_Cherbourg', 'age', 'sex_female', 'sibsp', 'embark_town_Queenstown']  AIC: <statsmodels.discrete.discrete_model.BinaryResultsWrapper object at 0x00000187C9035B80>\n",
      "forward\n",
      "Optimization terminated successfully.\n",
      "         Current function value: 0.420286\n",
      "         Iterations 6\n",
      "Optimization terminated successfully.\n",
      "         Current function value: 0.422684\n",
      "         Iterations 6\n",
      "Optimization terminated successfully.\n",
      "         Current function value: 0.428364\n",
      "         Iterations 6\n",
      "Optimization terminated successfully.\n",
      "         Current function value: 0.429814\n",
      "         Iterations 6\n",
      "Optimization terminated successfully.\n",
      "         Current function value: 0.421501\n",
      "         Iterations 6\n",
      "Optimization terminated successfully.\n",
      "         Current function value: 0.438853\n",
      "         Iterations 6\n",
      "Optimization terminated successfully.\n",
      "         Current function value: 0.482474\n",
      "         Iterations 6\n",
      "Optimization terminated successfully.\n",
      "         Current function value: 0.441885\n",
      "         Iterations 6\n",
      "Processed  8 models on 7 predictors in 0.0400090217590332\n",
      "Selected predictors: ['sex_male', 'class_First', 'class_Second', 'embark_town_Cherbourg', 'age', 'sex_female', 'sibsp']  AIC: <statsmodels.discrete.discrete_model.BinaryResultsWrapper object at 0x00000187C9036430>\n",
      "backward\n",
      "Optimization terminated successfully.\n",
      "         Current function value: 0.420239\n",
      "         Iterations 6\n",
      "Optimization terminated successfully.\n",
      "         Current function value: 0.420233\n",
      "         Iterations 6\n",
      "Optimization terminated successfully.\n",
      "         Current function value: 0.420286\n",
      "         Iterations 7\n",
      "Optimization terminated successfully.\n",
      "         Current function value: 0.419124\n",
      "         Iterations 6\n",
      "Optimization terminated successfully.\n",
      "         Current function value: 0.419124\n",
      "         Iterations 6\n",
      "Processed  5 models on 8 predictors in\n",
      "Selected predictors: ['sex_male', 'class_First', 'class_Second', 'embark_town_Cherbourg', 'age', 'sex_female', 'sibsp', 'embark_town_Queenstown']  AIC: <statsmodels.discrete.discrete_model.BinaryResultsWrapper object at 0x00000187C90350A0>\n",
      "forward\n",
      "Optimization terminated successfully.\n",
      "         Current function value: 0.420286\n",
      "         Iterations 6\n",
      "Optimization terminated successfully.\n",
      "         Current function value: 0.422684\n",
      "         Iterations 6\n",
      "Optimization terminated successfully.\n",
      "         Current function value: 0.428364\n",
      "         Iterations 6\n",
      "Optimization terminated successfully.\n",
      "         Current function value: 0.429814\n",
      "         Iterations 6\n",
      "Optimization terminated successfully.\n",
      "         Current function value: 0.421501\n",
      "         Iterations 6\n",
      "Optimization terminated successfully.\n",
      "         Current function value: 0.438853\n",
      "         Iterations 6\n",
      "Optimization terminated successfully.\n",
      "         Current function value: 0.482474\n",
      "         Iterations 6\n",
      "Optimization terminated successfully.\n",
      "         Current function value: 0.441885\n",
      "         Iterations 6\n",
      "Processed  8 models on 7 predictors in 0.04401278495788574\n",
      "Selected predictors: ['sex_male', 'class_First', 'class_Second', 'embark_town_Cherbourg', 'age', 'sex_female', 'sibsp']  AIC: <statsmodels.discrete.discrete_model.BinaryResultsWrapper object at 0x00000187C9036340>\n",
      "backward\n",
      "Optimization terminated successfully.\n",
      "         Current function value: 0.420239\n",
      "         Iterations 6\n",
      "Optimization terminated successfully.\n",
      "         Current function value: 0.420233\n",
      "         Iterations 6\n",
      "Optimization terminated successfully.\n",
      "         Current function value: 0.420286\n",
      "         Iterations 7\n",
      "Optimization terminated successfully.\n",
      "         Current function value: 0.419124\n",
      "         Iterations 6\n",
      "Optimization terminated successfully.\n",
      "         Current function value: 0.419124\n",
      "         Iterations 6\n",
      "Processed  5 models on 8 predictors in\n",
      "Selected predictors: ['sex_male', 'class_First', 'class_Second', 'embark_town_Cherbourg', 'age', 'sex_female', 'sibsp', 'embark_town_Queenstown']  AIC: <statsmodels.discrete.discrete_model.BinaryResultsWrapper object at 0x00000187C9035F10>\n",
      "forward\n",
      "Optimization terminated successfully.\n",
      "         Current function value: 0.420286\n",
      "         Iterations 6\n",
      "Optimization terminated successfully.\n",
      "         Current function value: 0.422684\n",
      "         Iterations 6\n",
      "Optimization terminated successfully.\n",
      "         Current function value: 0.428364\n",
      "         Iterations 6\n",
      "Optimization terminated successfully.\n",
      "         Current function value: 0.429814\n",
      "         Iterations 6\n",
      "Optimization terminated successfully.\n",
      "         Current function value: 0.421501\n",
      "         Iterations 6\n",
      "Optimization terminated successfully.\n",
      "         Current function value: 0.438853\n",
      "         Iterations 6\n",
      "Optimization terminated successfully.\n",
      "         Current function value: 0.482474\n",
      "         Iterations 6\n",
      "Optimization terminated successfully.\n",
      "         Current function value: 0.441885\n",
      "         Iterations 6\n",
      "Processed  8 models on 7 predictors in 0.044011831283569336\n",
      "Selected predictors: ['sex_male', 'class_First', 'class_Second', 'embark_town_Cherbourg', 'age', 'sex_female', 'sibsp']  AIC: <statsmodels.discrete.discrete_model.BinaryResultsWrapper object at 0x00000187C9035850>\n",
      "backward\n",
      "Total elapsed time: 0.8585505485534668 seconds.\n"
     ]
    }
   ],
   "source": [
    "Stepwise_best_model = Stepwise_model(X_train, y_train)"
   ]
  },
  {
   "cell_type": "code",
   "execution_count": 409,
   "id": "5346a4c0",
   "metadata": {},
   "outputs": [
    {
     "data": {
      "text/plain": [
       "537.6758966901438"
      ]
     },
     "execution_count": 409,
     "metadata": {},
     "output_type": "execute_result"
    }
   ],
   "source": [
    "Stepwise_best_model.aic"
   ]
  },
  {
   "cell_type": "code",
   "execution_count": 410,
   "id": "b24648ef",
   "metadata": {},
   "outputs": [
    {
     "data": {
      "text/html": [
       "<table class=\"simpletable\">\n",
       "<caption>Logit Regression Results</caption>\n",
       "<tr>\n",
       "  <th>Dep. Variable:</th>       <td>survived</td>     <th>  No. Observations:  </th>  <td>   623</td>  \n",
       "</tr>\n",
       "<tr>\n",
       "  <th>Model:</th>                 <td>Logit</td>      <th>  Df Residuals:      </th>  <td>   616</td>  \n",
       "</tr>\n",
       "<tr>\n",
       "  <th>Method:</th>                 <td>MLE</td>       <th>  Df Model:          </th>  <td>     6</td>  \n",
       "</tr>\n",
       "<tr>\n",
       "  <th>Date:</th>            <td>Fri, 22 Apr 2022</td> <th>  Pseudo R-squ.:     </th>  <td>0.3642</td>  \n",
       "</tr>\n",
       "<tr>\n",
       "  <th>Time:</th>                <td>16:53:32</td>     <th>  Log-Likelihood:    </th> <td> -261.84</td> \n",
       "</tr>\n",
       "<tr>\n",
       "  <th>converged:</th>             <td>True</td>       <th>  LL-Null:           </th> <td> -411.83</td> \n",
       "</tr>\n",
       "<tr>\n",
       "  <th>Covariance Type:</th>     <td>nonrobust</td>    <th>  LLR p-value:       </th> <td>8.218e-62</td>\n",
       "</tr>\n",
       "</table>\n",
       "<table class=\"simpletable\">\n",
       "<tr>\n",
       "            <td></td>               <th>coef</th>     <th>std err</th>      <th>z</th>      <th>P>|z|</th>  <th>[0.025</th>    <th>0.975]</th>  \n",
       "</tr>\n",
       "<tr>\n",
       "  <th>sex_male</th>              <td>   -1.6453</td> <td>    0.325</td> <td>   -5.066</td> <td> 0.000</td> <td>   -2.282</td> <td>   -1.009</td>\n",
       "</tr>\n",
       "<tr>\n",
       "  <th>class_First</th>           <td>    2.5308</td> <td>    0.309</td> <td>    8.184</td> <td> 0.000</td> <td>    1.925</td> <td>    3.137</td>\n",
       "</tr>\n",
       "<tr>\n",
       "  <th>class_Second</th>          <td>    1.3458</td> <td>    0.283</td> <td>    4.752</td> <td> 0.000</td> <td>    0.791</td> <td>    1.901</td>\n",
       "</tr>\n",
       "<tr>\n",
       "  <th>embark_town_Cherbourg</th> <td>    0.4456</td> <td>    0.281</td> <td>    1.584</td> <td> 0.113</td> <td>   -0.106</td> <td>    0.997</td>\n",
       "</tr>\n",
       "<tr>\n",
       "  <th>age</th>                   <td>   -0.0324</td> <td>    0.009</td> <td>   -3.519</td> <td> 0.000</td> <td>   -0.050</td> <td>   -0.014</td>\n",
       "</tr>\n",
       "<tr>\n",
       "  <th>sex_female</th>            <td>    1.2211</td> <td>    0.331</td> <td>    3.694</td> <td> 0.000</td> <td>    0.573</td> <td>    1.869</td>\n",
       "</tr>\n",
       "<tr>\n",
       "  <th>sibsp</th>                 <td>   -0.2500</td> <td>    0.119</td> <td>   -2.107</td> <td> 0.035</td> <td>   -0.482</td> <td>   -0.017</td>\n",
       "</tr>\n",
       "</table>"
      ],
      "text/plain": [
       "<class 'statsmodels.iolib.summary.Summary'>\n",
       "\"\"\"\n",
       "                           Logit Regression Results                           \n",
       "==============================================================================\n",
       "Dep. Variable:               survived   No. Observations:                  623\n",
       "Model:                          Logit   Df Residuals:                      616\n",
       "Method:                           MLE   Df Model:                            6\n",
       "Date:                Fri, 22 Apr 2022   Pseudo R-squ.:                  0.3642\n",
       "Time:                        16:53:32   Log-Likelihood:                -261.84\n",
       "converged:                       True   LL-Null:                       -411.83\n",
       "Covariance Type:            nonrobust   LLR p-value:                 8.218e-62\n",
       "=========================================================================================\n",
       "                            coef    std err          z      P>|z|      [0.025      0.975]\n",
       "-----------------------------------------------------------------------------------------\n",
       "sex_male                 -1.6453      0.325     -5.066      0.000      -2.282      -1.009\n",
       "class_First               2.5308      0.309      8.184      0.000       1.925       3.137\n",
       "class_Second              1.3458      0.283      4.752      0.000       0.791       1.901\n",
       "embark_town_Cherbourg     0.4456      0.281      1.584      0.113      -0.106       0.997\n",
       "age                      -0.0324      0.009     -3.519      0.000      -0.050      -0.014\n",
       "sex_female                1.2211      0.331      3.694      0.000       0.573       1.869\n",
       "sibsp                    -0.2500      0.119     -2.107      0.035      -0.482      -0.017\n",
       "=========================================================================================\n",
       "\"\"\""
      ]
     },
     "execution_count": 410,
     "metadata": {},
     "output_type": "execute_result"
    }
   ],
   "source": [
    "Stepwise_best_model.summary() #로지스틱 회귀에서는 이모델 자체에서는 해석이 안됨"
   ]
  },
  {
   "cell_type": "code",
   "execution_count": 411,
   "id": "921bdf0d",
   "metadata": {},
   "outputs": [
    {
     "name": "stdout",
     "output_type": "stream",
     "text": [
      "sex_male                -1.645295\n",
      "class_First              2.530772\n",
      "class_Second             1.345787\n",
      "embark_town_Cherbourg    0.445590\n",
      "age                     -0.032361\n",
      "sex_female               1.221140\n",
      "sibsp                   -0.249976\n",
      "dtype: float64\n"
     ]
    }
   ],
   "source": [
    "#로지스틱 회귀모델로 적합한 회귀계수 확인\n",
    "\n",
    "# 단계적 선택법 에서의 회귀계수 추출\n",
    "print(Stepwise_best_model.params)"
   ]
  },
  {
   "cell_type": "code",
   "execution_count": 412,
   "id": "f26a9342",
   "metadata": {},
   "outputs": [
    {
     "data": {
      "text/plain": [
       "sex_male                  0.192956\n",
       "class_First              12.563201\n",
       "class_Second              3.841208\n",
       "embark_town_Cherbourg     1.561411\n",
       "age                       0.968157\n",
       "sex_female                3.391052\n",
       "sibsp                     0.778820\n",
       "dtype: float64"
      ]
     },
     "execution_count": 412,
     "metadata": {},
     "output_type": "execute_result"
    }
   ],
   "source": [
    "np.exp(Stepwise_best_model.params)\n",
    "\n",
    "# 남자일때 남자가 아닐때 보다 생존확률이 약 99% 감소한다"
   ]
  },
  {
   "cell_type": "markdown",
   "id": "b9811041",
   "metadata": {},
   "source": [
    "## 로지스틱 회귀분석 : 분류분석으로 활용하기"
   ]
  },
  {
   "cell_type": "code",
   "execution_count": 413,
   "id": "3af24150",
   "metadata": {},
   "outputs": [],
   "source": [
    "X_test = X_test[Stepwise_best_model.params.index]"
   ]
  },
  {
   "cell_type": "code",
   "execution_count": 414,
   "id": "2fdc036c",
   "metadata": {},
   "outputs": [
    {
     "data": {
      "text/plain": [
       "708    0.954347\n",
       "199    0.856958\n",
       "327    0.802488\n",
       "516    0.812546\n",
       "252    0.245839\n",
       "         ...   \n",
       "718    0.068728\n",
       "108    0.053402\n",
       "593    0.564645\n",
       "371    0.077431\n",
       "423    0.516256\n",
       "Length: 268, dtype: float64"
      ]
     },
     "execution_count": 414,
     "metadata": {},
     "output_type": "execute_result"
    }
   ],
   "source": [
    "# 예측하기\n",
    "\n",
    "y_pred = Stepwise_best_model.predict(X_test)\n",
    "y_pred\n"
   ]
  },
  {
   "cell_type": "code",
   "execution_count": 415,
   "id": "490183a8",
   "metadata": {},
   "outputs": [],
   "source": [
    "def predict_1(df):\n",
    "    df.copy()\n",
    "    df[df > 0.5] = 1\n",
    "    df[df <= 0.5] = 0\n",
    "    \n",
    "    return df\n",
    "\n",
    "y_pred_1 = predict_1(y_pred)"
   ]
  },
  {
   "cell_type": "code",
   "execution_count": 416,
   "id": "b28e0cb8",
   "metadata": {},
   "outputs": [],
   "source": [
    "from sklearn.metrics import accuracy_score, precision_score, recall_score, confusion_matrix, roc_auc_score,f1_score"
   ]
  },
  {
   "cell_type": "code",
   "execution_count": 417,
   "id": "2129b084",
   "metadata": {},
   "outputs": [
    {
     "name": "stdout",
     "output_type": "stream",
     "text": [
      "0.7761194029850746\n",
      "0.7634408602150538\n",
      "0.6513761467889908\n",
      "[[137  22]\n",
      " [ 38  71]]\n",
      "0.7565056834573884\n",
      "0.7029702970297028\n"
     ]
    }
   ],
   "source": [
    "def get_eval(y_test, pred = None, pred_proba = None):\n",
    "    accuracy = accuracy_score(y_test, pred)\n",
    "    precision = precision_score(y_test, pred)\n",
    "    recall = recall_score(y_test, pred)\n",
    "    confusion = confusion_matrix(y_test, pred)\n",
    "    roc_auc = roc_auc_score(y_test, pred_proba)\n",
    "    f1score = f1_score(y_test, pred)\n",
    "    \n",
    "    print(accuracy)\n",
    "    print(precision)\n",
    "    print(recall)\n",
    "    print(confusion)\n",
    "    print(roc_auc)\n",
    "    print(f1score)\n",
    "\n",
    "get_eval(y_test, y_pred_1, y_pred)"
   ]
  },
  {
   "cell_type": "code",
   "execution_count": 418,
   "id": "44ff48c9",
   "metadata": {},
   "outputs": [
    {
     "name": "stdout",
     "output_type": "stream",
     "text": [
      "roc_auc_score : 0.7565056834573884\n"
     ]
    },
    {
     "data": {
      "image/png": "[encoded data removed]",
      "text/plain": [
       "<Figure size 432x288 with 1 Axes>"
      ]
     },
     "metadata": {
      "needs_background": "light"
     },
     "output_type": "display_data"
    }
   ],
   "source": [
    "from sklearn.metrics import roc_curve\n",
    "\n",
    "fpr, tpr, thr = roc_curve(y_test,y_pred)\n",
    "\n",
    "plt.plot(fpr, tpr)\n",
    "plt.plot([0,1],[0,1], color = \"navy\", ls = \"--\")\n",
    "plt.title(\"roc_curve\")\n",
    "plt.xlabel(\"FPR\")\n",
    "plt.ylabel(\"TPR\")\n",
    "plt.xlim([0.0,1.0])\n",
    "plt.ylim([0.0,1.0])\n",
    "  \n",
    "print(\"roc_auc_score :\", roc_auc_score(y_test, y_pred))"
   ]
  },
  {
   "cell_type": "markdown",
   "id": "be7ff9a2",
   "metadata": {},
   "source": [
    "## 다항 로지스틱 회귀 실습"
   ]
  },
  {
   "cell_type": "markdown",
   "id": "9190703e",
   "metadata": {},
   "source": [
    "종속변수가 3개이상의 범주형 변수로 이루어져 있을 때 쓰는 방식"
   ]
  },
  {
   "cell_type": "code",
   "execution_count": 419,
   "id": "bf4df258",
   "metadata": {},
   "outputs": [
    {
     "data": {
      "text/html": [
       "<div>\n",
       "<style scoped>\n",
       "    .dataframe tbody tr th:only-of-type {\n",
       "        vertical-align: middle;\n",
       "    }\n",
       "\n",
       "    .dataframe tbody tr th {\n",
       "        vertical-align: top;\n",
       "    }\n",
       "\n",
       "    .dataframe thead th {\n",
       "        text-align: right;\n",
       "    }\n",
       "</style>\n",
       "<table border=\"1\" class=\"dataframe\">\n",
       "  <thead>\n",
       "    <tr style=\"text-align: right;\">\n",
       "      <th></th>\n",
       "      <th>sepal.length</th>\n",
       "      <th>sepal.width</th>\n",
       "      <th>petal.length</th>\n",
       "      <th>petal.width</th>\n",
       "      <th>variety</th>\n",
       "    </tr>\n",
       "  </thead>\n",
       "  <tbody>\n",
       "    <tr>\n",
       "      <th>0</th>\n",
       "      <td>5.1</td>\n",
       "      <td>3.5</td>\n",
       "      <td>1.4</td>\n",
       "      <td>0.2</td>\n",
       "      <td>Setosa</td>\n",
       "    </tr>\n",
       "    <tr>\n",
       "      <th>1</th>\n",
       "      <td>4.9</td>\n",
       "      <td>3.0</td>\n",
       "      <td>1.4</td>\n",
       "      <td>0.2</td>\n",
       "      <td>Setosa</td>\n",
       "    </tr>\n",
       "    <tr>\n",
       "      <th>2</th>\n",
       "      <td>4.7</td>\n",
       "      <td>3.2</td>\n",
       "      <td>1.3</td>\n",
       "      <td>0.2</td>\n",
       "      <td>Setosa</td>\n",
       "    </tr>\n",
       "    <tr>\n",
       "      <th>3</th>\n",
       "      <td>4.6</td>\n",
       "      <td>3.1</td>\n",
       "      <td>1.5</td>\n",
       "      <td>0.2</td>\n",
       "      <td>Setosa</td>\n",
       "    </tr>\n",
       "    <tr>\n",
       "      <th>4</th>\n",
       "      <td>5.0</td>\n",
       "      <td>3.6</td>\n",
       "      <td>1.4</td>\n",
       "      <td>0.2</td>\n",
       "      <td>Setosa</td>\n",
       "    </tr>\n",
       "  </tbody>\n",
       "</table>\n",
       "</div>"
      ],
      "text/plain": [
       "   sepal.length  sepal.width  petal.length  petal.width variety\n",
       "0           5.1          3.5           1.4          0.2  Setosa\n",
       "1           4.9          3.0           1.4          0.2  Setosa\n",
       "2           4.7          3.2           1.3          0.2  Setosa\n",
       "3           4.6          3.1           1.5          0.2  Setosa\n",
       "4           5.0          3.6           1.4          0.2  Setosa"
      ]
     },
     "execution_count": 419,
     "metadata": {},
     "output_type": "execute_result"
    }
   ],
   "source": [
    "import pandas as pd\n",
    "from sklearn.model_selection import train_test_split\n",
    "\n",
    "iris = pd.read_csv(\"iris.csv\")\n",
    "iris.head()"
   ]
  },
  {
   "cell_type": "code",
   "execution_count": 420,
   "id": "5553be11",
   "metadata": {},
   "outputs": [],
   "source": [
    "feature = iris.drop(\"variety\",axis = 1)\n",
    "label = iris[\"variety\"]"
   ]
  },
  {
   "cell_type": "code",
   "execution_count": 421,
   "id": "52cb0480",
   "metadata": {},
   "outputs": [],
   "source": [
    "def train_split(feature, label):\n",
    "    X_train, X_test, y_train, y_test = train_test_split(feature, label,test_size = 0.3, stratify = label)\n",
    "    \n",
    "    return X_train, X_test, y_train, y_test\n",
    "    \n"
   ]
  },
  {
   "cell_type": "code",
   "execution_count": 422,
   "id": "ef9e0754",
   "metadata": {},
   "outputs": [],
   "source": [
    "X_train, X_test, y_train, y_test = train_split(feature, label)"
   ]
  },
  {
   "cell_type": "code",
   "execution_count": 429,
   "id": "c0a398a9",
   "metadata": {},
   "outputs": [
    {
     "name": "stdout",
     "output_type": "stream",
     "text": [
      "LogisticRegression()\n"
     ]
    }
   ],
   "source": [
    "# 모델 형성\n",
    "from sklearn.linear_model import LogisticRegression\n",
    "\n",
    "lr = LogisticRegression()\n",
    "lr.fit(X_train, y_train)"
   ]
  },
  {
   "cell_type": "code",
   "execution_count": 430,
   "id": "9a482a27",
   "metadata": {},
   "outputs": [
    {
     "data": {
      "text/plain": [
       "array(['Setosa', 'Virginica', 'Virginica', 'Versicolor', 'Setosa',\n",
       "       'Virginica', 'Versicolor', 'Setosa', 'Virginica', 'Versicolor',\n",
       "       'Setosa', 'Versicolor', 'Setosa', 'Setosa', 'Setosa', 'Virginica',\n",
       "       'Versicolor', 'Setosa', 'Versicolor', 'Setosa', 'Setosa',\n",
       "       'Virginica', 'Virginica', 'Versicolor', 'Virginica', 'Versicolor',\n",
       "       'Virginica', 'Versicolor', 'Virginica', 'Virginica', 'Versicolor',\n",
       "       'Setosa', 'Versicolor', 'Setosa', 'Versicolor', 'Setosa',\n",
       "       'Virginica', 'Virginica', 'Versicolor', 'Versicolor', 'Virginica',\n",
       "       'Setosa', 'Virginica', 'Versicolor', 'Setosa'], dtype=object)"
      ]
     },
     "execution_count": 430,
     "metadata": {},
     "output_type": "execute_result"
    }
   ],
   "source": [
    "pred = lr.predict(X_test)\n",
    "pred"
   ]
  },
  {
   "cell_type": "code",
   "execution_count": 432,
   "id": "c65e3e2c",
   "metadata": {},
   "outputs": [
    {
     "data": {
      "text/html": [
       "<div>\n",
       "<style scoped>\n",
       "    .dataframe tbody tr th:only-of-type {\n",
       "        vertical-align: middle;\n",
       "    }\n",
       "\n",
       "    .dataframe tbody tr th {\n",
       "        vertical-align: top;\n",
       "    }\n",
       "\n",
       "    .dataframe thead th {\n",
       "        text-align: right;\n",
       "    }\n",
       "</style>\n",
       "<table border=\"1\" class=\"dataframe\">\n",
       "  <thead>\n",
       "    <tr style=\"text-align: right;\">\n",
       "      <th></th>\n",
       "      <th>Setosa</th>\n",
       "      <th>Vircolor</th>\n",
       "      <th>virginica</th>\n",
       "    </tr>\n",
       "  </thead>\n",
       "  <tbody>\n",
       "    <tr>\n",
       "      <th>Setosa</th>\n",
       "      <td>15</td>\n",
       "      <td>0</td>\n",
       "      <td>0</td>\n",
       "    </tr>\n",
       "    <tr>\n",
       "      <th>Vircolor</th>\n",
       "      <td>0</td>\n",
       "      <td>13</td>\n",
       "      <td>2</td>\n",
       "    </tr>\n",
       "    <tr>\n",
       "      <th>virginica</th>\n",
       "      <td>0</td>\n",
       "      <td>2</td>\n",
       "      <td>13</td>\n",
       "    </tr>\n",
       "  </tbody>\n",
       "</table>\n",
       "</div>"
      ],
      "text/plain": [
       "           Setosa  Vircolor  virginica\n",
       "Setosa         15         0          0\n",
       "Vircolor        0        13          2\n",
       "virginica       0         2         13"
      ]
     },
     "execution_count": 432,
     "metadata": {},
     "output_type": "execute_result"
    }
   ],
   "source": [
    "cm = confusion_matrix(y_test, pred)\n",
    "# cm\n",
    "\n",
    "cmtb = pd.DataFrame(data = cm, columns = [\"Setosa\",\"Vircolor\",\"virginica\"], index = [\"Setosa\",\"Vircolor\",\"virginica\"])\n",
    "cmtb"
   ]
  },
  {
   "cell_type": "code",
   "execution_count": 440,
   "id": "c7e8fbce",
   "metadata": {
    "scrolled": true
   },
   "outputs": [
    {
     "name": "stdout",
     "output_type": "stream",
     "text": [
      "              precision    recall  f1-score   support\n",
      "\n",
      "      Setosa       1.00      1.00      1.00        15\n",
      "  Versicolor       0.87      0.87      0.87        15\n",
      "   Virginica       0.87      0.87      0.87        15\n",
      "\n",
      "    accuracy                           0.91        45\n",
      "   macro avg       0.91      0.91      0.91        45\n",
      "weighted avg       0.91      0.91      0.91        45\n",
      "\n"
     ]
    }
   ],
   "source": [
    "from sklearn.metrics import classification_report\n",
    "accuracy = accuracy_score(y_test, pred)\n",
    "\n",
    "print(classification_report(y_test, pred))"
   ]
  },
  {
   "cell_type": "code",
   "execution_count": 443,
   "id": "6f433c77",
   "metadata": {},
   "outputs": [
    {
     "data": {
      "text/plain": [
       "0.9925925925925926"
      ]
     },
     "execution_count": 443,
     "metadata": {},
     "output_type": "execute_result"
    }
   ],
   "source": [
    "roc_auc_score(y_test, lr.predict_proba(X_test), multi_class = \"ovr\")"
   ]
  },
  {
   "cell_type": "code",
   "execution_count": 445,
   "id": "253ea753",
   "metadata": {},
   "outputs": [
    {
     "data": {
      "text/plain": [
       "array([[9.62767983e-01, 3.72317436e-02],\n",
       "       [2.57380460e-04, 1.68005940e-01],\n",
       "       [1.70423050e-07, 5.09343916e-03],\n",
       "       [8.52018843e-02, 9.00087246e-01],\n",
       "       [9.76662578e-01, 2.33373099e-02],\n",
       "       [1.31438019e-05, 2.78825199e-02],\n",
       "       [4.38076712e-02, 9.46306017e-01],\n",
       "       [9.69949997e-01, 3.00498574e-02],\n",
       "       [4.55098752e-05, 7.24459076e-02],\n",
       "       [1.23683581e-02, 9.06345871e-01]])"
      ]
     },
     "execution_count": 445,
     "metadata": {},
     "output_type": "execute_result"
    }
   ],
   "source": [
    "lr.predict_proba(X_test)"
   ]
  },
  {
   "cell_type": "markdown",
   "id": "31b16291",
   "metadata": {},
   "source": [
    "### 다항 로지스틱 회귀 계수 해석"
   ]
  },
  {
   "cell_type": "code",
   "execution_count": 449,
   "id": "b5c9e65b",
   "metadata": {},
   "outputs": [
    {
     "name": "stdout",
     "output_type": "stream",
     "text": [
      "intercept : [  9.14832466   3.09540489 -12.24372956]\n",
      "coef : [[-0.40214276  0.8569457  -2.31058138 -0.97209116]\n",
      " [ 0.37518576 -0.47752414 -0.20998955 -0.69118335]\n",
      " [ 0.026957   -0.37942156  2.52057093  1.66327452]]\n"
     ]
    }
   ],
   "source": [
    "print(\"intercept :\", lr.intercept_)\n",
    "print(\"coef :\", lr.coef_)"
   ]
  },
  {
   "cell_type": "code",
   "execution_count": 452,
   "id": "b292de4e",
   "metadata": {},
   "outputs": [
    {
     "data": {
      "text/html": [
       "<div>\n",
       "<style scoped>\n",
       "    .dataframe tbody tr th:only-of-type {\n",
       "        vertical-align: middle;\n",
       "    }\n",
       "\n",
       "    .dataframe tbody tr th {\n",
       "        vertical-align: top;\n",
       "    }\n",
       "\n",
       "    .dataframe thead th {\n",
       "        text-align: right;\n",
       "    }\n",
       "</style>\n",
       "<table border=\"1\" class=\"dataframe\">\n",
       "  <thead>\n",
       "    <tr style=\"text-align: right;\">\n",
       "      <th></th>\n",
       "      <th>sepal.length</th>\n",
       "      <th>sepal.width</th>\n",
       "      <th>petal.length</th>\n",
       "      <th>petal.width</th>\n",
       "    </tr>\n",
       "  </thead>\n",
       "  <tbody>\n",
       "    <tr>\n",
       "      <th>Setosa</th>\n",
       "      <td>0.668885</td>\n",
       "      <td>2.355954</td>\n",
       "      <td>0.099204</td>\n",
       "      <td>0.378291</td>\n",
       "    </tr>\n",
       "    <tr>\n",
       "      <th>Versicolor</th>\n",
       "      <td>1.455262</td>\n",
       "      <td>0.620317</td>\n",
       "      <td>0.810593</td>\n",
       "      <td>0.500983</td>\n",
       "    </tr>\n",
       "    <tr>\n",
       "      <th>Virginica</th>\n",
       "      <td>1.027324</td>\n",
       "      <td>0.684257</td>\n",
       "      <td>12.435695</td>\n",
       "      <td>5.276561</td>\n",
       "    </tr>\n",
       "  </tbody>\n",
       "</table>\n",
       "</div>"
      ],
      "text/plain": [
       "            sepal.length  sepal.width  petal.length  petal.width\n",
       "Setosa          0.668885     2.355954      0.099204     0.378291\n",
       "Versicolor      1.455262     0.620317      0.810593     0.500983\n",
       "Virginica       1.027324     0.684257     12.435695     5.276561"
      ]
     },
     "execution_count": 452,
     "metadata": {},
     "output_type": "execute_result"
    }
   ],
   "source": [
    "pd.DataFrame(data = np.exp(lr.coef_), columns = X_train.columns, index = lr.classes_)"
   ]
  },
  {
   "cell_type": "markdown",
   "id": "986ced2a",
   "metadata": {},
   "source": [
    "해석 sepal_width 가 1증가 할수록 setosa일 확률이 약 2배 증가함\n",
    "     sepal_width 이 1증가 할수록 Versicolor이 될 확률은 약 38% 감소함\n",
    "        "
   ]
  }
 ],
 "metadata": {
  "kernelspec": {
   "display_name": "Python 3 (ipykernel)",
   "language": "python",
   "name": "python3"
  },
  "language_info": {
   "codemirror_mode": {
    "name": "ipython",
    "version": 3
   },
   "file_extension": ".py",
   "mimetype": "text/x-python",
   "name": "python",
   "nbconvert_exporter": "python",
   "pygments_lexer": "ipython3",
   "version": "3.8.8"
  }
 },
 "nbformat": 4,
 "nbformat_minor": 5
}
