{
 "cells": [
  {
   "cell_type": "markdown",
   "id": "bbc736ba",
   "metadata": {},
   "source": [
    "### T-test 실습"
   ]
  },
  {
   "cell_type": "code",
   "execution_count": 1,
   "id": "cbbfaad0",
   "metadata": {},
   "outputs": [],
   "source": [
    "import pandas as pd\n",
    "import sys\n",
    "\n",
    "# cats데이터에서 고양이들의 평균 몸무게가 2.6 kg 인지 아닌지 통계적 검정을 수행하고 결과해석하기"
   ]
  },
  {
   "cell_type": "code",
   "execution_count": 2,
   "id": "3173c18f",
   "metadata": {},
   "outputs": [
    {
     "data": {
      "text/html": [
       "<div>\n",
       "<style scoped>\n",
       "    .dataframe tbody tr th:only-of-type {\n",
       "        vertical-align: middle;\n",
       "    }\n",
       "\n",
       "    .dataframe tbody tr th {\n",
       "        vertical-align: top;\n",
       "    }\n",
       "\n",
       "    .dataframe thead th {\n",
       "        text-align: right;\n",
       "    }\n",
       "</style>\n",
       "<table border=\"1\" class=\"dataframe\">\n",
       "  <thead>\n",
       "    <tr style=\"text-align: right;\">\n",
       "      <th></th>\n",
       "      <th>Sex</th>\n",
       "      <th>Bwt</th>\n",
       "      <th>Hwt</th>\n",
       "    </tr>\n",
       "  </thead>\n",
       "  <tbody>\n",
       "    <tr>\n",
       "      <th>0</th>\n",
       "      <td>F</td>\n",
       "      <td>2.0</td>\n",
       "      <td>7.0</td>\n",
       "    </tr>\n",
       "    <tr>\n",
       "      <th>1</th>\n",
       "      <td>F</td>\n",
       "      <td>2.0</td>\n",
       "      <td>7.4</td>\n",
       "    </tr>\n",
       "    <tr>\n",
       "      <th>2</th>\n",
       "      <td>F</td>\n",
       "      <td>2.0</td>\n",
       "      <td>9.5</td>\n",
       "    </tr>\n",
       "    <tr>\n",
       "      <th>3</th>\n",
       "      <td>F</td>\n",
       "      <td>2.1</td>\n",
       "      <td>7.2</td>\n",
       "    </tr>\n",
       "    <tr>\n",
       "      <th>4</th>\n",
       "      <td>F</td>\n",
       "      <td>2.1</td>\n",
       "      <td>7.3</td>\n",
       "    </tr>\n",
       "  </tbody>\n",
       "</table>\n",
       "</div>"
      ],
      "text/plain": [
       "  Sex  Bwt  Hwt\n",
       "0   F  2.0  7.0\n",
       "1   F  2.0  7.4\n",
       "2   F  2.0  9.5\n",
       "3   F  2.1  7.2\n",
       "4   F  2.1  7.3"
      ]
     },
     "execution_count": 2,
     "metadata": {},
     "output_type": "execute_result"
    }
   ],
   "source": [
    "cats = pd.read_csv(\"cats.csv\")\n",
    "\n",
    "cats.head()"
   ]
  },
  {
   "cell_type": "code",
   "execution_count": 3,
   "id": "7d2c4d3a",
   "metadata": {},
   "outputs": [
    {
     "data": {
      "text/plain": [
       "ShapiroResult(statistic=0.9518786668777466, pvalue=6.730248423991725e-05)"
      ]
     },
     "execution_count": 3,
     "metadata": {},
     "output_type": "execute_result"
    }
   ],
   "source": [
    "import scipy.stats as stats\n",
    "mu = 2.6\n",
    "\n",
    "stats.shapiro(cats[\"Bwt\"]) # 유의수준 0.05에서 p_value값이 더 작으므로 정규성을 따르지 않음"
   ]
  },
  {
   "cell_type": "code",
   "execution_count": 4,
   "id": "4225b418",
   "metadata": {},
   "outputs": [
    {
     "data": {
      "text/plain": [
       "WilcoxonResult(statistic=3573.0, pvalue=0.02524520294814093)"
      ]
     },
     "execution_count": 4,
     "metadata": {},
     "output_type": "execute_result"
    }
   ],
   "source": [
    "# Wilcox test 검정\n",
    "\n",
    "#p_value 가 0.025 로 귀무가설 기각\n",
    "stats.wilcoxon(cats.Bwt - mu, alternative = \"two-sided\")"
   ]
  },
  {
   "cell_type": "code",
   "execution_count": 5,
   "id": "0656ef0f",
   "metadata": {},
   "outputs": [],
   "source": [
    "import matplotlib.pyplot as plt"
   ]
  },
  {
   "cell_type": "code",
   "execution_count": 6,
   "id": "ce88d985",
   "metadata": {},
   "outputs": [
    {
     "data": {
      "text/plain": [
       "[Text(0, 0.5, 'count')]"
      ]
     },
     "execution_count": 6,
     "metadata": {},
     "output_type": "execute_result"
    },
    {
     "data": {
      "image/png": "[encoded data removed]",
      "text/plain": [
       "<Figure size 432x288 with 1 Axes>"
      ]
     },
     "metadata": {
      "needs_background": "light"
     },
     "output_type": "display_data"
    }
   ],
   "source": [
    "cats_Bwt_cnt = cats[\"Bwt\"].sort_values(ascending = False).hist()\n",
    "\n",
    "cats_Bwt_cnt.set(title = \"Bwt\")\n",
    "cats_Bwt_cnt.set(ylabel = \"count\")\n",
    "\n",
    "#확인해보면 고양이들의 평균 몸무게는 2.6kg가 아님"
   ]
  },
  {
   "cell_type": "markdown",
   "id": "dbbd578c",
   "metadata": {},
   "source": [
    "### 대응표본 t검정"
   ]
  },
  {
   "cell_type": "code",
   "execution_count": 7,
   "id": "df064cbd",
   "metadata": {},
   "outputs": [],
   "source": [
    "# 10명의 환자 대상 수면영양제 복용전과 복용후의 수면시간 측정\n",
    "# 영양제가 효과가 있는지를 판단하고자함\n",
    "# 표본이 정규성을 만족한다는 가정하에 단측검정을 수행(유의수준 = 0.05)"
   ]
  },
  {
   "cell_type": "code",
   "execution_count": 8,
   "id": "03a32f9b",
   "metadata": {},
   "outputs": [],
   "source": [
    "import pandas as pd\n",
    "\n",
    "data = {\"before\":[7,3,4,5,2,1,6,6,5,4], \"after\":[8,4,5,6,2,3,6,8,6,5]}\n",
    "\n",
    "df = pd.DataFrame(data)"
   ]
  },
  {
   "cell_type": "code",
   "execution_count": 9,
   "id": "d72188b6",
   "metadata": {},
   "outputs": [
    {
     "data": {
      "text/html": [
       "<div>\n",
       "<style scoped>\n",
       "    .dataframe tbody tr th:only-of-type {\n",
       "        vertical-align: middle;\n",
       "    }\n",
       "\n",
       "    .dataframe tbody tr th {\n",
       "        vertical-align: top;\n",
       "    }\n",
       "\n",
       "    .dataframe thead th {\n",
       "        text-align: right;\n",
       "    }\n",
       "</style>\n",
       "<table border=\"1\" class=\"dataframe\">\n",
       "  <thead>\n",
       "    <tr style=\"text-align: right;\">\n",
       "      <th></th>\n",
       "      <th>before</th>\n",
       "      <th>after</th>\n",
       "    </tr>\n",
       "  </thead>\n",
       "  <tbody>\n",
       "    <tr>\n",
       "      <th>count</th>\n",
       "      <td>10.000000</td>\n",
       "      <td>10.000000</td>\n",
       "    </tr>\n",
       "    <tr>\n",
       "      <th>mean</th>\n",
       "      <td>4.300000</td>\n",
       "      <td>5.300000</td>\n",
       "    </tr>\n",
       "    <tr>\n",
       "      <th>std</th>\n",
       "      <td>1.888562</td>\n",
       "      <td>1.946507</td>\n",
       "    </tr>\n",
       "    <tr>\n",
       "      <th>min</th>\n",
       "      <td>1.000000</td>\n",
       "      <td>2.000000</td>\n",
       "    </tr>\n",
       "    <tr>\n",
       "      <th>25%</th>\n",
       "      <td>3.250000</td>\n",
       "      <td>4.250000</td>\n",
       "    </tr>\n",
       "    <tr>\n",
       "      <th>50%</th>\n",
       "      <td>4.500000</td>\n",
       "      <td>5.500000</td>\n",
       "    </tr>\n",
       "    <tr>\n",
       "      <th>75%</th>\n",
       "      <td>5.750000</td>\n",
       "      <td>6.000000</td>\n",
       "    </tr>\n",
       "    <tr>\n",
       "      <th>max</th>\n",
       "      <td>7.000000</td>\n",
       "      <td>8.000000</td>\n",
       "    </tr>\n",
       "  </tbody>\n",
       "</table>\n",
       "</div>"
      ],
      "text/plain": [
       "          before      after\n",
       "count  10.000000  10.000000\n",
       "mean    4.300000   5.300000\n",
       "std     1.888562   1.946507\n",
       "min     1.000000   2.000000\n",
       "25%     3.250000   4.250000\n",
       "50%     4.500000   5.500000\n",
       "75%     5.750000   6.000000\n",
       "max     7.000000   8.000000"
      ]
     },
     "execution_count": 9,
     "metadata": {},
     "output_type": "execute_result"
    }
   ],
   "source": [
    "# df.mean()\n",
    "df.describe()"
   ]
  },
  {
   "cell_type": "code",
   "execution_count": 10,
   "id": "9a3d8ad7",
   "metadata": {},
   "outputs": [
    {
     "data": {
      "text/plain": [
       "ShapiroResult(statistic=0.9456837177276611, pvalue=0.6177994012832642)"
      ]
     },
     "execution_count": 10,
     "metadata": {},
     "output_type": "execute_result"
    }
   ],
   "source": [
    "import scipy.stats\n",
    "from scipy.stats import shapiro\n",
    "\n",
    "shapiro(df[\"before\"])\n",
    "shapiro(df[\"after\"])\n",
    "\n",
    "#정규성을 만족"
   ]
  },
  {
   "cell_type": "code",
   "execution_count": 11,
   "id": "8937a00a",
   "metadata": {},
   "outputs": [
    {
     "data": {
      "text/plain": [
       "Ttest_relResult(statistic=4.743416490252569, pvalue=0.0005269356285082765)"
      ]
     },
     "execution_count": 11,
     "metadata": {},
     "output_type": "execute_result"
    }
   ],
   "source": [
    "stats.ttest_rel(data[\"after\"], data[\"before\"], alternative = \"greater\")\n",
    "\n",
    "#앞의 값이 더큰값이 들어와야함"
   ]
  },
  {
   "cell_type": "markdown",
   "id": "018db09c",
   "metadata": {},
   "source": [
    "### 독립표본 T-검정"
   ]
  },
  {
   "cell_type": "code",
   "execution_count": 13,
   "id": "a5836b3d",
   "metadata": {},
   "outputs": [
    {
     "data": {
      "text/plain": [
       "ShapiroResult(statistic=0.9518786668777466, pvalue=6.730248423991725e-05)"
      ]
     },
     "execution_count": 13,
     "metadata": {},
     "output_type": "execute_result"
    }
   ],
   "source": [
    "import scipy.stats \n",
    "from scipy.stats import shapiro\n",
    "\n",
    "stats.shapiro(cats[\"Bwt\"]) #표본분포가 정규성을 따르지 않음"
   ]
  },
  {
   "cell_type": "code",
   "execution_count": 14,
   "id": "547102d0",
   "metadata": {},
   "outputs": [
    {
     "data": {
      "text/plain": [
       "LeveneResult(statistic=19.43101190877999, pvalue=2.0435285255189404e-05)"
      ]
     },
     "execution_count": 14,
     "metadata": {},
     "output_type": "execute_result"
    }
   ],
   "source": [
    "#정규성을 따르지않아 윌콕슨 검정으로 바로 넘어가도 되나 실습용도 이므로 등분산 검정을 시행함\n",
    "feamale = cats.loc[cats[\"Sex\"] == \"F\",\"Bwt\"]\n",
    "male = cats.loc[cats[\"Sex\"] == \"M\", \"Bwt\"]\n",
    "\n",
    "stats.levene(feamale, male) # 0.05 보다 작으므로 등분산성 기각"
   ]
  },
  {
   "cell_type": "code",
   "execution_count": 15,
   "id": "90d575ce",
   "metadata": {},
   "outputs": [
    {
     "data": {
      "text/plain": [
       "Ttest_indResult(statistic=-8.70948849909559, pvalue=8.831034455859356e-15)"
      ]
     },
     "execution_count": 15,
     "metadata": {},
     "output_type": "execute_result"
    }
   ],
   "source": [
    "stats.ttest_ind(feamale, male, equal_var = False)"
   ]
  },
  {
   "cell_type": "code",
   "execution_count": 16,
   "id": "36b3c13b",
   "metadata": {},
   "outputs": [
    {
     "name": "stdout",
     "output_type": "stream",
     "text": [
      "2.359574468085107\n",
      "2.8999999999999995\n"
     ]
    }
   ],
   "source": [
    "print(feamale.mean())\n",
    "print(male.mean())"
   ]
  },
  {
   "cell_type": "code",
   "execution_count": 23,
   "id": "4f04f0df",
   "metadata": {},
   "outputs": [
    {
     "data": {
      "image/png": "[encoded data removed]",
      "text/plain": [
       "<Figure size 432x288 with 2 Axes>"
      ]
     },
     "metadata": {
      "needs_background": "light"
     },
     "output_type": "display_data"
    }
   ],
   "source": [
    "fig, axs = plt.subplots(1,2)\n",
    "\n",
    "fig.suptitle(\"Bar_Plot\")\n",
    "axs[0].hist(feamale)\n",
    "axs[0].set_title(\"feamale\")\n",
    "axs[1].hist(male)\n",
    "axs[1].set_title(\"male\")\n",
    "plt.show()"
   ]
  },
  {
   "cell_type": "code",
   "execution_count": null,
   "id": "dab40807",
   "metadata": {},
   "outputs": [],
   "source": []
  }
 ],
 "metadata": {
  "kernelspec": {
   "display_name": "Python 3 (ipykernel)",
   "language": "python",
   "name": "python3"
  },
  "language_info": {
   "codemirror_mode": {
    "name": "ipython",
    "version": 3
   },
   "file_extension": ".py",
   "mimetype": "text/x-python",
   "name": "python",
   "nbconvert_exporter": "python",
   "pygments_lexer": "ipython3",
   "version": "3.8.8"
  }
 },
 "nbformat": 4,
 "nbformat_minor": 5
}
