{
 "cells": [
  {
   "cell_type": "markdown",
   "metadata": {},
   "source": [
    "#  일원 배치 분산분석 실습\n",
    "- Python 에 내장되어 있는 iris 데이터를 이용하여 종(Species)별로 꽃받침의 폭(Sepal.Width)의 평균이 같은지 혹은 차이가 있는지를 확인하기 위해 일원배치 분산분석을 수행해보자 \n",
    "\n",
    "* 검정을 수행하기에 앞서 설정할 수 있는 가설은 아래와 같다. \n",
    "- 귀무가설(H0): 세 가지 종에 대해 Sepal.Width의 평균은 모두 같다. \n",
    "- 대립가설(H1): 적어도 하나의 종에 대한 Sepal.Width의 평균값에는 차이가 있다. \n",
    "\n",
    "--------------------------\n",
    "<b>1. 분산분석</b>"
   ]
  },
  {
   "cell_type": "code",
   "execution_count": 29,
   "metadata": {
    "scrolled": true
   },
   "outputs": [],
   "source": [
    "import scipy.stats as stats  \n",
    "import pandas as pd\n",
    "from sklearn.datasets import load_iris\n",
    "import seaborn as sns\n",
    "\n",
    "data = load_iris()\n",
    "iris_data = pd.DataFrame(data = data.data, columns = data.feature_names)\n",
    "iris_data[\"target\"] = data.target\n",
    "\n",
    "\n",
    "def name_target(df):\n",
    "    cat = \"\"\n",
    "    if df == 0:\n",
    "        cat = \"iris_versicolor\"\n",
    "    elif df == 1:\n",
    "        cat = \"iris_versinica\"\n",
    "    elif df == 2:\n",
    "        cat = \"iris_setosa\"\n",
    "      \n",
    "    return cat\n",
    "        "
   ]
  },
  {
   "cell_type": "code",
   "execution_count": 38,
   "metadata": {},
   "outputs": [],
   "source": [
    "import matplotlib.pyplot as plt"
   ]
  },
  {
   "cell_type": "code",
   "execution_count": 30,
   "metadata": {},
   "outputs": [],
   "source": [
    "iris_data[\"name_target\"] = iris_data[\"target\"].apply(name_target)"
   ]
  },
  {
   "cell_type": "code",
   "execution_count": 32,
   "metadata": {},
   "outputs": [
    {
     "data": {
      "text/html": [
       "<div>\n",
       "<style scoped>\n",
       "    .dataframe tbody tr th:only-of-type {\n",
       "        vertical-align: middle;\n",
       "    }\n",
       "\n",
       "    .dataframe tbody tr th {\n",
       "        vertical-align: top;\n",
       "    }\n",
       "\n",
       "    .dataframe thead th {\n",
       "        text-align: right;\n",
       "    }\n",
       "</style>\n",
       "<table border=\"1\" class=\"dataframe\">\n",
       "  <thead>\n",
       "    <tr style=\"text-align: right;\">\n",
       "      <th></th>\n",
       "      <th>sepal length (cm)</th>\n",
       "      <th>sepal width (cm)</th>\n",
       "      <th>petal length (cm)</th>\n",
       "      <th>petal width (cm)</th>\n",
       "      <th>target</th>\n",
       "      <th>name_target</th>\n",
       "    </tr>\n",
       "  </thead>\n",
       "  <tbody>\n",
       "    <tr>\n",
       "      <th>0</th>\n",
       "      <td>5.1</td>\n",
       "      <td>3.5</td>\n",
       "      <td>1.4</td>\n",
       "      <td>0.2</td>\n",
       "      <td>0</td>\n",
       "      <td>iris_versicolor</td>\n",
       "    </tr>\n",
       "    <tr>\n",
       "      <th>1</th>\n",
       "      <td>4.9</td>\n",
       "      <td>3.0</td>\n",
       "      <td>1.4</td>\n",
       "      <td>0.2</td>\n",
       "      <td>0</td>\n",
       "      <td>iris_versicolor</td>\n",
       "    </tr>\n",
       "    <tr>\n",
       "      <th>2</th>\n",
       "      <td>4.7</td>\n",
       "      <td>3.2</td>\n",
       "      <td>1.3</td>\n",
       "      <td>0.2</td>\n",
       "      <td>0</td>\n",
       "      <td>iris_versicolor</td>\n",
       "    </tr>\n",
       "    <tr>\n",
       "      <th>3</th>\n",
       "      <td>4.6</td>\n",
       "      <td>3.1</td>\n",
       "      <td>1.5</td>\n",
       "      <td>0.2</td>\n",
       "      <td>0</td>\n",
       "      <td>iris_versicolor</td>\n",
       "    </tr>\n",
       "    <tr>\n",
       "      <th>4</th>\n",
       "      <td>5.0</td>\n",
       "      <td>3.6</td>\n",
       "      <td>1.4</td>\n",
       "      <td>0.2</td>\n",
       "      <td>0</td>\n",
       "      <td>iris_versicolor</td>\n",
       "    </tr>\n",
       "  </tbody>\n",
       "</table>\n",
       "</div>"
      ],
      "text/plain": [
       "   sepal length (cm)  sepal width (cm)  petal length (cm)  petal width (cm)  \\\n",
       "0                5.1               3.5                1.4               0.2   \n",
       "1                4.9               3.0                1.4               0.2   \n",
       "2                4.7               3.2                1.3               0.2   \n",
       "3                4.6               3.1                1.5               0.2   \n",
       "4                5.0               3.6                1.4               0.2   \n",
       "\n",
       "   target      name_target  \n",
       "0       0  iris_versicolor  \n",
       "1       0  iris_versicolor  \n",
       "2       0  iris_versicolor  \n",
       "3       0  iris_versicolor  \n",
       "4       0  iris_versicolor  "
      ]
     },
     "execution_count": 32,
     "metadata": {},
     "output_type": "execute_result"
    }
   ],
   "source": [
    "iris_data.head()"
   ]
  },
  {
   "cell_type": "code",
   "execution_count": 43,
   "metadata": {},
   "outputs": [
    {
     "data": {
      "image/png": "[encoded data removed]",
      "text/plain": [
       "<Figure size 432x288 with 1 Axes>"
      ]
     },
     "metadata": {
      "needs_background": "light"
     },
     "output_type": "display_data"
    }
   ],
   "source": [
    "sns.scatterplot(x = \"name_target\", y= \"sepal width (cm)\", data = iris_data, hue = \"name_target\",\\\n",
    "               )\n",
    "plt.show()"
   ]
  },
  {
   "cell_type": "code",
   "execution_count": 61,
   "metadata": {},
   "outputs": [
    {
     "name": "stdout",
     "output_type": "stream",
     "text": [
      "ShapiroResult(statistic=0.9673910140991211, pvalue=0.1809043288230896)\n",
      "ShapiroResult(statistic=0.97171950340271, pvalue=0.2715264856815338)\n",
      "ShapiroResult(statistic=0.9741330742835999, pvalue=0.33798879384994507)\n"
     ]
    }
   ],
   "source": [
    "# 정규성 검정\n",
    "import scipy.stats\n",
    "\n",
    "setosa = iris_data.loc[iris_data[\"name_target\"] == \"iris_setosa\", \"sepal width (cm)\"]\n",
    "versicolor = iris_data.loc[iris_data[\"name_target\"] == \"iris_versicolor\", \"sepal width (cm)\"]\n",
    "versinica = iris_data.loc[iris_data[\"name_target\"] == \"iris_versinica\", \"sepal width (cm)\"]\n",
    "\n",
    "#모든 값이 정규성을 만족함\n",
    "print(stats.shapiro(setosa))\n",
    "print(stats.shapiro(versicolor))\n",
    "print(stats.shapiro(versinica))"
   ]
  },
  {
   "cell_type": "code",
   "execution_count": 66,
   "metadata": {},
   "outputs": [
    {
     "data": {
      "text/plain": [
       "LeveneResult(statistic=0.5902115655853319, pvalue=0.5555178984739075)"
      ]
     },
     "execution_count": 66,
     "metadata": {},
     "output_type": "execute_result"
    }
   ],
   "source": [
    "stats.levene(setosa, versinica, versicolor) # 등분산성 만족"
   ]
  },
  {
   "cell_type": "code",
   "execution_count": 65,
   "metadata": {},
   "outputs": [
    {
     "data": {
      "text/plain": [
       "F_onewayResult(statistic=49.16004008961206, pvalue=4.492017133309115e-17)"
      ]
     },
     "execution_count": 65,
     "metadata": {},
     "output_type": "execute_result"
    }
   ],
   "source": [
    "stats.f_oneway(setosa, versicolor, versinica) #"
   ]
  },
  {
   "cell_type": "markdown",
   "metadata": {},
   "source": [
    "### 사후검정"
   ]
  },
  {
   "cell_type": "code",
   "execution_count": 75,
   "metadata": {},
   "outputs": [],
   "source": [
    "from statsmodels.stats.multicomp import pairwise_tukeyhsd\n",
    "from statsmodels.stats.multicomp import MultiComparison"
   ]
  },
  {
   "cell_type": "code",
   "execution_count": 78,
   "metadata": {},
   "outputs": [
    {
     "data": {
      "text/plain": [
       "<statsmodels.sandbox.stats.multicomp.MultiComparison at 0x1a2358ecee0>"
      ]
     },
     "execution_count": 78,
     "metadata": {},
     "output_type": "execute_result"
    }
   ],
   "source": [
    "mc = MultiComparison(data = iris_data[\"sepal width (cm)\"], groups = iris_data[\"name_target\"])\n",
    "mc "
   ]
  },
  {
   "cell_type": "code",
   "execution_count": 87,
   "metadata": {},
   "outputs": [],
   "source": [
    "tukeyhsd_val = mc.tukeyhsd(alpha = 0.05)"
   ]
  },
  {
   "cell_type": "code",
   "execution_count": 88,
   "metadata": {
    "scrolled": true
   },
   "outputs": [
    {
     "data": {
      "text/html": [
       "<table class=\"simpletable\">\n",
       "<caption>Multiple Comparison of Means - Tukey HSD, FWER=0.05</caption>\n",
       "<tr>\n",
       "      <th>group1</th>          <th>group2</th>      <th>meandiff</th>  <th>p-adj</th>  <th>lower</th>   <th>upper</th>  <th>reject</th>\n",
       "</tr>\n",
       "<tr>\n",
       "    <td>iris_setosa</td>   <td>iris_versicolor</td>   <td>0.454</td>   <td>0.001</td> <td>0.2931</td>  <td>0.6149</td>   <td>True</td> \n",
       "</tr>\n",
       "<tr>\n",
       "    <td>iris_setosa</td>   <td>iris_versinica</td>   <td>-0.204</td>  <td>0.0088</td> <td>-0.3649</td> <td>-0.0431</td>  <td>True</td> \n",
       "</tr>\n",
       "<tr>\n",
       "  <td>iris_versicolor</td> <td>iris_versinica</td>   <td>-0.658</td>   <td>0.001</td> <td>-0.8189</td> <td>-0.4971</td>  <td>True</td> \n",
       "</tr>\n",
       "</table>"
      ],
      "text/plain": [
       "<class 'statsmodels.iolib.table.SimpleTable'>"
      ]
     },
     "execution_count": 88,
     "metadata": {},
     "output_type": "execute_result"
    }
   ],
   "source": [
    "tukeyhsd_val.summary()"
   ]
  },
  {
   "cell_type": "code",
   "execution_count": 92,
   "metadata": {},
   "outputs": [
    {
     "data": {
      "text/plain": [
       "name_target\n",
       "iris_setosa        2.974\n",
       "iris_versicolor    3.428\n",
       "iris_versinica     2.770\n",
       "Name: sepal width (cm), dtype: float64"
      ]
     },
     "execution_count": 92,
     "metadata": {},
     "output_type": "execute_result"
    },
    {
     "data": {
      "image/png": "[encoded data removed]",
      "text/plain": [
       "<Figure size 720x432 with 1 Axes>"
      ]
     },
     "metadata": {
      "needs_background": "light"
     },
     "output_type": "display_data"
    }
   ],
   "source": [
    "fig = tukeyhsd_val.plot_simultaneous() #집단 간의 평균차이 검증\n",
    "\n",
    "iris_data.groupby(\"name_target\")[\"sepal width (cm)\"].mean()"
   ]
  },
  {
   "cell_type": "code",
   "execution_count": null,
   "metadata": {},
   "outputs": [],
   "source": []
  },
  {
   "cell_type": "code",
   "execution_count": null,
   "metadata": {},
   "outputs": [],
   "source": [
    "Iris_data[\"target\"].unique()"
   ]
  },
  {
   "cell_type": "code",
   "execution_count": null,
   "metadata": {},
   "outputs": [],
   "source": [
    "Iris_data.target.value_counts()"
   ]
  },
  {
   "cell_type": "code",
   "execution_count": null,
   "metadata": {},
   "outputs": [],
   "source": [
    " \n",
    "import seaborn as sns\n",
    "import matplotlib.pyplot as plt\n",
    "\n",
    "# Scatter plot by Groups\n",
    "\n",
    "sns.scatterplot(x='target', \n",
    "\n",
    "                y='sepal width', \n",
    "\n",
    "                hue='target', # different colors by group\n",
    "\n",
    "                style='target', # different shapes by group\n",
    "\n",
    "                s=100, # marker size\n",
    "\n",
    "                data=Iris_data)\n",
    "\n",
    "plt.show()\n",
    "\n"
   ]
  },
  {
   "cell_type": "code",
   "execution_count": null,
   "metadata": {},
   "outputs": [],
   "source": [
    "Iris_data"
   ]
  },
  {
   "cell_type": "code",
   "execution_count": null,
   "metadata": {},
   "outputs": [],
   "source": [
    "target_list=Iris_data[\"target\"].unique()"
   ]
  },
  {
   "cell_type": "code",
   "execution_count": null,
   "metadata": {},
   "outputs": [],
   "source": [
    "target_list"
   ]
  },
  {
   "cell_type": "code",
   "execution_count": null,
   "metadata": {},
   "outputs": [],
   "source": [
    "setosa = Iris_data[Iris_data[\"target\"]==target_list[0]][\"sepal width\"]\n",
    "versicolor = Iris_data[Iris_data[\"target\"]==target_list[1]][\"sepal width\"]\n",
    "virginica = Iris_data[Iris_data[\"target\"]==target_list[2]][\"sepal width\"]"
   ]
  },
  {
   "cell_type": "code",
   "execution_count": null,
   "metadata": {},
   "outputs": [],
   "source": [
    "type(setosa)"
   ]
  },
  {
   "cell_type": "code",
   "execution_count": null,
   "metadata": {},
   "outputs": [],
   "source": [
    "## 결과에서 첫번째 값은 검정통계치w이고, 두번째 값은 p-value입니다. \n",
    "## 정규성 검정에서는 p-value가 유의수준 0.05보다 클 경우 표본이 정규분포를 따른다고 판단할 수 있습니다 \n",
    "##a = df_iris[(df_iris['target'] == 'setosa') & (df_iris['sepal length (cm)'] > 5.5)]\n",
    "\n",
    "print(stats.shapiro(setosa))\n",
    "\n",
    "print(stats.shapiro(versicolor))\n",
    "\n",
    "print(stats.shapiro(virginica))\n",
    "    "
   ]
  },
  {
   "cell_type": "code",
   "execution_count": null,
   "metadata": {
    "scrolled": true
   },
   "outputs": [],
   "source": [
    "## shapiro test 결과 0.07>0.05 이므로 정규성을 만족함으로 등분산 검정 시행\n",
    "## 귀무가설 : 집단간 분산이 같다.\n",
    "## 대립가설 : 적어도 두 집단간 분산이 다르다. \n",
    "\n",
    "stats.levene(setosa,versicolor,virginica)"
   ]
  },
  {
   "cell_type": "markdown",
   "metadata": {},
   "source": [
    "<b>P-value가 유의수준(0.05) 보다 크기 때문에 귀무가설 채택하여 세 집단간 분산이 같다고 할 수 있다. </b>\n"
   ]
  },
  {
   "cell_type": "code",
   "execution_count": null,
   "metadata": {},
   "outputs": [],
   "source": [
    "## LeveneResult : 등분산성 검정 완료  ->  ANOVA분석 시행 \n",
    "## 귀무가설(H0): 세 가지 종에 대해 Sepal.Width의 평균은 모두 같다.\n",
    "## 대립가설(H1): 적어도 하나의 종에 대한 Sepal.Width의 평균값에는 차이가 있다.\n",
    "\n",
    "stats.f_oneway(setosa,versicolor,virginica)"
   ]
  },
  {
   "cell_type": "markdown",
   "metadata": {},
   "source": [
    "<b>P-value가 유의수준(0.05) 작기 때문에 귀무가설을 기각하고 대립가설을 채택하여 적어도 세 집단 중 하나는 평균이 다르다고 할 수 있다. "
   ]
  },
  {
   "cell_type": "markdown",
   "metadata": {},
   "source": [
    "<b>2. 사후검정</b>\n",
    "- 그렇다면, 세 가지 종들 중 특히 어떠한 종들 간에 꽃받침의 폭에 차이가 있는지를 파앗하기 위해 사후검정을 수행해보자 "
   ]
  },
  {
   "cell_type": "code",
   "execution_count": null,
   "metadata": {},
   "outputs": [],
   "source": [
    "from statsmodels.stats.multicomp import pairwise_tukeyhsd\n",
    "from statsmodels.stats.multicomp import MultiComparison\n",
    "\n",
    "mc = MultiComparison(data= Iris_data[\"sepal width\"], groups=Iris_data[\"target\"] )"
   ]
  },
  {
   "cell_type": "code",
   "execution_count": null,
   "metadata": {},
   "outputs": [],
   "source": [
    "mc"
   ]
  },
  {
   "cell_type": "code",
   "execution_count": null,
   "metadata": {},
   "outputs": [],
   "source": [
    "tuekeyhsd = mc.tukeyhsd(alpha=0.05)"
   ]
  },
  {
   "cell_type": "code",
   "execution_count": null,
   "metadata": {},
   "outputs": [],
   "source": [
    "tuekeyhsd.summary()"
   ]
  },
  {
   "cell_type": "code",
   "execution_count": null,
   "metadata": {},
   "outputs": [],
   "source": [
    "fig = tuekeyhsd.plot_simultaneous()"
   ]
  },
  {
   "cell_type": "markdown",
   "metadata": {},
   "source": [
    "* 사후분석에서는 귀무가설을 \"집단들 사이의 평균은 같다\"로 두고 대립가설을 \"집단들 사이의 평균은 같지 않다\"로 둔다. \n",
    "- 그리고 모든 집단 수준에 대하여 두 집단씩 짝을 지어 각각 다중비교를 수행한다. \n",
    "- 예제의 사후분석 결과를 살펴보면 Iris-setosa\tIris-versicolor\tIris-virginica\t의 세 가지 비교에 대해서 모두 수정된 p-value값(p adj) 이 0.05보다 작으므로, 가각의 비교에 대한 귀무가설을 모두 기각한다. 즉, 모든 종들에 대해서 꽃받침 폭의 평균값은 통계적으로 유의한 차이가 있다는 것을 알 수 있다. \n",
    "- 또한 diff는  차이(오른쪽 집단 - 왼쪽 집단)값 을 나타내는데 setosa - versicolor 에 대한 diff 값은 음수이므로, versicolor일 때보다 setosa일 때 꽃받침의 폭이 통계적으로 유의하게 큰 값을 가진다고 해석할 수 있다. "
   ]
  },
  {
   "cell_type": "code",
   "execution_count": null,
   "metadata": {},
   "outputs": [],
   "source": []
  },
  {
   "cell_type": "markdown",
   "metadata": {},
   "source": [
    "## 추가 함수 사용방법 예시 "
   ]
  },
  {
   "cell_type": "markdown",
   "metadata": {},
   "source": [
    "### 정규성을 만족하지 않을 때"
   ]
  },
  {
   "cell_type": "code",
   "execution_count": null,
   "metadata": {
    "scrolled": true
   },
   "outputs": [],
   "source": [
    "stats.kruskal(setosa,versicolor,virginica)"
   ]
  },
  {
   "cell_type": "markdown",
   "metadata": {},
   "source": [
    "### 등분산성을 만족하지 않을 때"
   ]
  },
  {
   "cell_type": "code",
   "execution_count": null,
   "metadata": {},
   "outputs": [],
   "source": [
    "# !pip install pingouin \n",
    "# !conda install pingouin\n",
    "import pingouin as pg"
   ]
  },
  {
   "cell_type": "markdown",
   "metadata": {},
   "source": [
    "\n",
    "welch_anova(data=None, dv=None, between=None)\n",
    "    One-way Welch ANOVA.\n",
    "    \n",
    "    Parameters\n",
    "    ----------\n",
    "    data : :`pandas.DataFrame`\n",
    "     \n",
    "    dv : string\n",
    "       종속변수를 포함하는 column 이름, (수치형) \n",
    "       \n",
    "    between : string\n",
    "       독립변수를 포함하는 column이름 (범주형) "
   ]
  },
  {
   "cell_type": "code",
   "execution_count": null,
   "metadata": {
    "scrolled": true
   },
   "outputs": [],
   "source": [
    "pg.welch_anova(data = Iris_data, dv = 'sepal width', between='target')"
   ]
  },
  {
   "cell_type": "code",
   "execution_count": null,
   "metadata": {},
   "outputs": [],
   "source": []
  }
 ],
 "metadata": {
  "kernelspec": {
   "display_name": "Python 3 (ipykernel)",
   "language": "python",
   "name": "python3"
  },
  "language_info": {
   "codemirror_mode": {
    "name": "ipython",
    "version": 3
   },
   "file_extension": ".py",
   "mimetype": "text/x-python",
   "name": "python",
   "nbconvert_exporter": "python",
   "pygments_lexer": "ipython3",
   "version": "3.8.8"
  },
  "toc": {
   "base_numbering": "3.4",
   "nav_menu": {},
   "number_sections": true,
   "sideBar": true,
   "skip_h1_title": false,
   "title_cell": "Table of Contents",
   "title_sidebar": "Contents",
   "toc_cell": false,
   "toc_position": {},
   "toc_section_display": true,
   "toc_window_display": false
  }
 },
 "nbformat": 4,
 "nbformat_minor": 4
}
